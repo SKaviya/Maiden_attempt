{
 "cells": [
  {
   "cell_type": "markdown",
   "metadata": {},
   "source": [
    "Hackathon1. FUN!!!! INTERESTING!!!! ENJOY!!!!!!"
   ]
  },
  {
   "cell_type": "code",
   "execution_count": 1,
   "metadata": {},
   "outputs": [],
   "source": [
    "import numpy as np\n",
    "import pandas as pd"
   ]
  },
  {
   "cell_type": "code",
   "execution_count": 2,
   "metadata": {},
   "outputs": [],
   "source": [
    "testdata = pd.read_csv(\"liquid_samples_test.csv\")\n",
    "traindata = pd.read_csv(\"liquid_samples_training.csv\")"
   ]
  },
  {
   "cell_type": "code",
   "execution_count": 3,
   "metadata": {},
   "outputs": [
    {
     "data": {
      "text/html": [
       "<div>\n",
       "<style scoped>\n",
       "    .dataframe tbody tr th:only-of-type {\n",
       "        vertical-align: middle;\n",
       "    }\n",
       "\n",
       "    .dataframe tbody tr th {\n",
       "        vertical-align: top;\n",
       "    }\n",
       "\n",
       "    .dataframe thead th {\n",
       "        text-align: right;\n",
       "    }\n",
       "</style>\n",
       "<table border=\"1\" class=\"dataframe\">\n",
       "  <thead>\n",
       "    <tr style=\"text-align: right;\">\n",
       "      <th></th>\n",
       "      <th>sample_id</th>\n",
       "      <th>density</th>\n",
       "      <th>viscosity</th>\n",
       "      <th>conductance</th>\n",
       "      <th>pH</th>\n",
       "      <th>nitrates</th>\n",
       "      <th>phosphates</th>\n",
       "      <th>chlorides</th>\n",
       "      <th>sulphates</th>\n",
       "      <th>organics</th>\n",
       "      <th>metals</th>\n",
       "      <th>isotope_diversity</th>\n",
       "    </tr>\n",
       "    <tr>\n",
       "      <th>class</th>\n",
       "      <th></th>\n",
       "      <th></th>\n",
       "      <th></th>\n",
       "      <th></th>\n",
       "      <th></th>\n",
       "      <th></th>\n",
       "      <th></th>\n",
       "      <th></th>\n",
       "      <th></th>\n",
       "      <th></th>\n",
       "      <th></th>\n",
       "      <th></th>\n",
       "    </tr>\n",
       "  </thead>\n",
       "  <tbody>\n",
       "    <tr>\n",
       "      <th>Class A</th>\n",
       "      <td>3024.234223</td>\n",
       "      <td>0.995868</td>\n",
       "      <td>7.327715</td>\n",
       "      <td>0.656681</td>\n",
       "      <td>6.942877</td>\n",
       "      <td>0.390012</td>\n",
       "      <td>0.305029</td>\n",
       "      <td>0.064481</td>\n",
       "      <td>0.525674</td>\n",
       "      <td>5.800449</td>\n",
       "      <td>3.180143</td>\n",
       "      <td>9.855390</td>\n",
       "    </tr>\n",
       "    <tr>\n",
       "      <th>Class B</th>\n",
       "      <td>3340.783685</td>\n",
       "      <td>0.994590</td>\n",
       "      <td>7.187728</td>\n",
       "      <td>0.632401</td>\n",
       "      <td>6.968609</td>\n",
       "      <td>0.313119</td>\n",
       "      <td>0.323112</td>\n",
       "      <td>0.053874</td>\n",
       "      <td>0.533926</td>\n",
       "      <td>5.564129</td>\n",
       "      <td>3.258417</td>\n",
       "      <td>10.560568</td>\n",
       "    </tr>\n",
       "    <tr>\n",
       "      <th>Class C</th>\n",
       "      <td>3399.992823</td>\n",
       "      <td>0.993171</td>\n",
       "      <td>7.129146</td>\n",
       "      <td>0.638141</td>\n",
       "      <td>7.091219</td>\n",
       "      <td>0.288512</td>\n",
       "      <td>0.338791</td>\n",
       "      <td>0.045626</td>\n",
       "      <td>0.553337</td>\n",
       "      <td>4.769649</td>\n",
       "      <td>3.273687</td>\n",
       "      <td>11.358614</td>\n",
       "    </tr>\n",
       "    <tr>\n",
       "      <th>Class X1</th>\n",
       "      <td>3896.070423</td>\n",
       "      <td>0.992441</td>\n",
       "      <td>6.826950</td>\n",
       "      <td>0.658506</td>\n",
       "      <td>7.075954</td>\n",
       "      <td>0.285294</td>\n",
       "      <td>0.328094</td>\n",
       "      <td>0.041550</td>\n",
       "      <td>0.511277</td>\n",
       "      <td>5.397450</td>\n",
       "      <td>3.406614</td>\n",
       "      <td>11.698534</td>\n",
       "    </tr>\n",
       "    <tr>\n",
       "      <th>Class X2</th>\n",
       "      <td>3689.500000</td>\n",
       "      <td>0.990075</td>\n",
       "      <td>7.000000</td>\n",
       "      <td>0.708704</td>\n",
       "      <td>7.724555</td>\n",
       "      <td>0.305000</td>\n",
       "      <td>0.370000</td>\n",
       "      <td>0.023667</td>\n",
       "      <td>0.483333</td>\n",
       "      <td>8.924786</td>\n",
       "      <td>3.487732</td>\n",
       "      <td>12.625000</td>\n",
       "    </tr>\n",
       "    <tr>\n",
       "      <th>Class Z1</th>\n",
       "      <td>2928.692308</td>\n",
       "      <td>0.995617</td>\n",
       "      <td>7.734615</td>\n",
       "      <td>0.718318</td>\n",
       "      <td>7.229395</td>\n",
       "      <td>0.531154</td>\n",
       "      <td>0.260769</td>\n",
       "      <td>0.065600</td>\n",
       "      <td>0.490400</td>\n",
       "      <td>3.431612</td>\n",
       "      <td>2.953070</td>\n",
       "      <td>10.384260</td>\n",
       "    </tr>\n",
       "    <tr>\n",
       "      <th>Class Z2</th>\n",
       "      <td>3286.679012</td>\n",
       "      <td>0.994773</td>\n",
       "      <td>7.204430</td>\n",
       "      <td>0.628913</td>\n",
       "      <td>7.051583</td>\n",
       "      <td>0.446019</td>\n",
       "      <td>0.267286</td>\n",
       "      <td>0.055442</td>\n",
       "      <td>0.502215</td>\n",
       "      <td>3.983212</td>\n",
       "      <td>2.664909</td>\n",
       "      <td>10.295802</td>\n",
       "    </tr>\n",
       "  </tbody>\n",
       "</table>\n",
       "</div>"
      ],
      "text/plain": [
       "            sample_id   density  viscosity  conductance        pH  nitrates  \\\n",
       "class                                                                         \n",
       "Class A   3024.234223  0.995868   7.327715     0.656681  6.942877  0.390012   \n",
       "Class B   3340.783685  0.994590   7.187728     0.632401  6.968609  0.313119   \n",
       "Class C   3399.992823  0.993171   7.129146     0.638141  7.091219  0.288512   \n",
       "Class X1  3896.070423  0.992441   6.826950     0.658506  7.075954  0.285294   \n",
       "Class X2  3689.500000  0.990075   7.000000     0.708704  7.724555  0.305000   \n",
       "Class Z1  2928.692308  0.995617   7.734615     0.718318  7.229395  0.531154   \n",
       "Class Z2  3286.679012  0.994773   7.204430     0.628913  7.051583  0.446019   \n",
       "\n",
       "          phosphates  chlorides  sulphates  organics    metals  \\\n",
       "class                                                            \n",
       "Class A     0.305029   0.064481   0.525674  5.800449  3.180143   \n",
       "Class B     0.323112   0.053874   0.533926  5.564129  3.258417   \n",
       "Class C     0.338791   0.045626   0.553337  4.769649  3.273687   \n",
       "Class X1    0.328094   0.041550   0.511277  5.397450  3.406614   \n",
       "Class X2    0.370000   0.023667   0.483333  8.924786  3.487732   \n",
       "Class Z1    0.260769   0.065600   0.490400  3.431612  2.953070   \n",
       "Class Z2    0.267286   0.055442   0.502215  3.983212  2.664909   \n",
       "\n",
       "          isotope_diversity  \n",
       "class                        \n",
       "Class A            9.855390  \n",
       "Class B           10.560568  \n",
       "Class C           11.358614  \n",
       "Class X1          11.698534  \n",
       "Class X2          12.625000  \n",
       "Class Z1          10.384260  \n",
       "Class Z2          10.295802  "
      ]
     },
     "execution_count": 3,
     "metadata": {},
     "output_type": "execute_result"
    }
   ],
   "source": [
    "traindata.groupby(\"class\").agg(\"mean\")"
   ]
  },
  {
   "cell_type": "code",
   "execution_count": 4,
   "metadata": {},
   "outputs": [
    {
     "data": {
      "text/plain": [
       "Class B     2182\n",
       "Class A     1648\n",
       "Class C      836\n",
       "Class Z2     162\n",
       "Class X1     142\n",
       "Class Z1      26\n",
       "Class X2       4\n",
       "Name: class, dtype: int64"
      ]
     },
     "execution_count": 4,
     "metadata": {},
     "output_type": "execute_result"
    }
   ],
   "source": [
    "traindata[\"class\"].value_counts()"
   ]
  },
  {
   "cell_type": "code",
   "execution_count": 5,
   "metadata": {},
   "outputs": [
    {
     "name": "stdout",
     "output_type": "stream",
     "text": [
      "<class 'pandas.core.frame.DataFrame'>\n",
      "RangeIndex: 5000 entries, 0 to 4999\n",
      "Data columns (total 14 columns):\n",
      "sample_id            5000 non-null int64\n",
      "class                5000 non-null object\n",
      "density              4801 non-null float64\n",
      "viscosity            4878 non-null float64\n",
      "conductance          5000 non-null float64\n",
      "spectrum             5000 non-null object\n",
      "pH                   5000 non-null float64\n",
      "nitrates             4866 non-null float64\n",
      "phosphates           5000 non-null float64\n",
      "chlorides            4850 non-null float64\n",
      "sulphates            4871 non-null float64\n",
      "organics             5000 non-null float64\n",
      "metals               4861 non-null float64\n",
      "isotope_diversity    5000 non-null float64\n",
      "dtypes: float64(11), int64(1), object(2)\n",
      "memory usage: 547.0+ KB\n"
     ]
    }
   ],
   "source": [
    "traindata.info()"
   ]
  },
  {
   "cell_type": "code",
   "execution_count": 6,
   "metadata": {},
   "outputs": [
    {
     "data": {
      "text/plain": [
       "density              199\n",
       "chlorides            150\n",
       "metals               139\n",
       "nitrates             134\n",
       "sulphates            129\n",
       "viscosity            122\n",
       "isotope_diversity      0\n",
       "organics               0\n",
       "phosphates             0\n",
       "pH                     0\n",
       "spectrum               0\n",
       "conductance            0\n",
       "class                  0\n",
       "sample_id              0\n",
       "dtype: int64"
      ]
     },
     "execution_count": 6,
     "metadata": {},
     "output_type": "execute_result"
    }
   ],
   "source": [
    "traindata.isnull().sum().sort_values(ascending=False)"
   ]
  },
  {
   "cell_type": "code",
   "execution_count": 7,
   "metadata": {},
   "outputs": [
    {
     "data": {
      "text/plain": [
       "density              69\n",
       "sulphates            48\n",
       "viscosity            39\n",
       "nitrates             36\n",
       "metals               35\n",
       "chlorides            29\n",
       "isotope_diversity     0\n",
       "organics              0\n",
       "phosphates            0\n",
       "pH                    0\n",
       "spectrum              0\n",
       "conductance           0\n",
       "sample_id             0\n",
       "dtype: int64"
      ]
     },
     "execution_count": 7,
     "metadata": {},
     "output_type": "execute_result"
    }
   ],
   "source": [
    "testdata.isnull().sum().sort_values(ascending=False)"
   ]
  },
  {
   "cell_type": "code",
   "execution_count": 8,
   "metadata": {},
   "outputs": [
    {
     "name": "stderr",
     "output_type": "stream",
     "text": [
      "/anaconda/envs/azureml_py36/lib/python3.6/site-packages/ipykernel_launcher.py:1: FutureWarning: Sorting because non-concatenation axis is not aligned. A future version\n",
      "of pandas will change to not sort by default.\n",
      "\n",
      "To accept the future behavior, pass 'sort=False'.\n",
      "\n",
      "To retain the current behavior and silence the warning, pass 'sort=True'.\n",
      "\n",
      "  \"\"\"Entry point for launching an IPython kernel.\n"
     ]
    }
   ],
   "source": [
    "data=pd.concat([traindata,testdata])"
   ]
  },
  {
   "cell_type": "code",
   "execution_count": 9,
   "metadata": {},
   "outputs": [
    {
     "data": {
      "text/plain": [
       "(6497, 14)"
      ]
     },
     "execution_count": 9,
     "metadata": {},
     "output_type": "execute_result"
    }
   ],
   "source": [
    "data.shape"
   ]
  },
  {
   "cell_type": "code",
   "execution_count": 10,
   "metadata": {},
   "outputs": [
    {
     "data": {
      "text/plain": [
       "Class B     2182\n",
       "Class A     1648\n",
       "Class C      836\n",
       "Class Z2     162\n",
       "Class X1     142\n",
       "Class Z1      26\n",
       "Class X2       4\n",
       "Name: class, dtype: int64"
      ]
     },
     "execution_count": 10,
     "metadata": {},
     "output_type": "execute_result"
    }
   ],
   "source": [
    "data[\"class\"].value_counts()"
   ]
  },
  {
   "cell_type": "code",
   "execution_count": 11,
   "metadata": {},
   "outputs": [
    {
     "name": "stdout",
     "output_type": "stream",
     "text": [
      "<class 'pandas.core.frame.DataFrame'>\n",
      "Int64Index: 6497 entries, 0 to 1496\n",
      "Data columns (total 14 columns):\n",
      "chlorides            6318 non-null float64\n",
      "class                5000 non-null object\n",
      "conductance          6497 non-null float64\n",
      "density              6229 non-null float64\n",
      "isotope_diversity    6497 non-null float64\n",
      "metals               6323 non-null float64\n",
      "nitrates             6327 non-null float64\n",
      "organics             6497 non-null float64\n",
      "pH                   6497 non-null float64\n",
      "phosphates           6497 non-null float64\n",
      "sample_id            6497 non-null int64\n",
      "spectrum             6497 non-null object\n",
      "sulphates            6320 non-null float64\n",
      "viscosity            6336 non-null float64\n",
      "dtypes: float64(11), int64(1), object(2)\n",
      "memory usage: 761.4+ KB\n"
     ]
    }
   ],
   "source": [
    "data.info()"
   ]
  },
  {
   "cell_type": "code",
   "execution_count": 12,
   "metadata": {},
   "outputs": [
    {
     "data": {
      "text/plain": [
       "class                1497\n",
       "density               268\n",
       "chlorides             179\n",
       "sulphates             177\n",
       "metals                174\n",
       "nitrates              170\n",
       "viscosity             161\n",
       "spectrum                0\n",
       "sample_id               0\n",
       "phosphates              0\n",
       "pH                      0\n",
       "organics                0\n",
       "isotope_diversity       0\n",
       "conductance             0\n",
       "dtype: int64"
      ]
     },
     "execution_count": 12,
     "metadata": {},
     "output_type": "execute_result"
    }
   ],
   "source": [
    "data.isnull().sum().sort_values(ascending=False)"
   ]
  },
  {
   "cell_type": "markdown",
   "metadata": {},
   "source": [
    "PLAN 2: drop all null\n",
    "PLAN 1 : fill with average values probabily after checking varience"
   ]
  },
  {
   "cell_type": "markdown",
   "metadata": {},
   "source": [
    "I am droping na"
   ]
  },
  {
   "cell_type": "code",
   "execution_count": 15,
   "metadata": {},
   "outputs": [],
   "source": [
    "trainnull=traindata.dropna()"
   ]
  },
  {
   "cell_type": "code",
   "execution_count": 16,
   "metadata": {},
   "outputs": [
    {
     "data": {
      "text/plain": [
       "Class B     1824\n",
       "Class A     1381\n",
       "Class C      702\n",
       "Class Z2     129\n",
       "Class X1     122\n",
       "Class Z1      24\n",
       "Class X2       2\n",
       "Name: class, dtype: int64"
      ]
     },
     "execution_count": 16,
     "metadata": {},
     "output_type": "execute_result"
    }
   ],
   "source": [
    "trainnull[\"class\"].value_counts()"
   ]
  },
  {
   "cell_type": "code",
   "execution_count": 19,
   "metadata": {},
   "outputs": [],
   "source": [
    "import matplotlib.pyplot as plt\n",
    "import seaborn as sns"
   ]
  },
  {
   "cell_type": "code",
   "execution_count": 18,
   "metadata": {},
   "outputs": [
    {
     "name": "stdout",
     "output_type": "stream",
     "text": [
      "Collecting seaborn\n",
      "  Downloading seaborn-0.11.0-py3-none-any.whl (283 kB)\n",
      "\u001b[K     |████████████████████████████████| 283 kB 4.8 MB/s eta 0:00:01\n",
      "\u001b[?25hRequirement already satisfied: pandas>=0.23 in /anaconda/envs/azureml_py36/lib/python3.6/site-packages (from seaborn) (0.25.3)\n",
      "Requirement already satisfied: matplotlib>=2.2 in /anaconda/envs/azureml_py36/lib/python3.6/site-packages (from seaborn) (3.2.1)\n",
      "Requirement already satisfied: scipy>=1.0 in /anaconda/envs/azureml_py36/lib/python3.6/site-packages (from seaborn) (1.4.1)\n",
      "Requirement already satisfied: numpy>=1.15 in /anaconda/envs/azureml_py36/lib/python3.6/site-packages (from seaborn) (1.18.5)\n",
      "Requirement already satisfied: python-dateutil>=2.6.1 in /anaconda/envs/azureml_py36/lib/python3.6/site-packages (from pandas>=0.23->seaborn) (2.8.1)\n",
      "Requirement already satisfied: pytz>=2017.2 in /anaconda/envs/azureml_py36/lib/python3.6/site-packages (from pandas>=0.23->seaborn) (2020.1)\n",
      "Requirement already satisfied: cycler>=0.10 in /anaconda/envs/azureml_py36/lib/python3.6/site-packages (from matplotlib>=2.2->seaborn) (0.10.0)\n",
      "Requirement already satisfied: kiwisolver>=1.0.1 in /anaconda/envs/azureml_py36/lib/python3.6/site-packages (from matplotlib>=2.2->seaborn) (1.2.0)\n",
      "Requirement already satisfied: pyparsing!=2.0.4,!=2.1.2,!=2.1.6,>=2.0.1 in /anaconda/envs/azureml_py36/lib/python3.6/site-packages (from matplotlib>=2.2->seaborn) (2.4.7)\n",
      "Requirement already satisfied: six>=1.5 in /anaconda/envs/azureml_py36/lib/python3.6/site-packages (from python-dateutil>=2.6.1->pandas>=0.23->seaborn) (1.15.0)\n",
      "Installing collected packages: seaborn\n",
      "Successfully installed seaborn-0.11.0\n"
     ]
    }
   ],
   "source": [
    "!pip install seaborn"
   ]
  },
  {
   "cell_type": "code",
   "execution_count": 21,
   "metadata": {},
   "outputs": [
    {
     "data": {
      "image/png": "[encoded data removed]",
      "text/plain": [
       "<Figure size 432x288 with 2 Axes>"
      ]
     },
     "metadata": {
      "needs_background": "light"
     },
     "output_type": "display_data"
    }
   ],
   "source": [
    "plt.figure()        # Size of the figure\n",
    "sns.heatmap(trainnull.corr(),annot = True)\n",
    "plt.show()"
   ]
  },
  {
   "cell_type": "code",
   "execution_count": 22,
   "metadata": {},
   "outputs": [],
   "source": [
    "import matplotlib.pyplot as plt\n",
    "import seaborn as sns\n",
    "%matplotlib inline "
   ]
  },
  {
   "cell_type": "code",
   "execution_count": 30,
   "metadata": {},
   "outputs": [
    {
     "data": {
      "image/png": "[encoded data removed]",
      "text/plain": [
       "<Figure size 2160x720 with 1 Axes>"
      ]
     },
     "metadata": {
      "needs_background": "light"
     },
     "output_type": "display_data"
    }
   ],
   "source": [
    "plt.figure(figsize = (30,10))\n",
    "sns.boxplot( x=trainnull[\"class\"], y=trainnull[\"pH\"], width = 0.5, notch = True)\n",
    "plt.rcParams.update({'font.size': 30})"
   ]
  },
  {
   "cell_type": "code",
   "execution_count": 31,
   "metadata": {},
   "outputs": [
    {
     "data": {
      "image/png": "[encoded data removed]",
      "text/plain": [
       "<Figure size 2160x720 with 1 Axes>"
      ]
     },
     "metadata": {
      "needs_background": "light"
     },
     "output_type": "display_data"
    }
   ],
   "source": [
    "plt.figure(figsize = (30,10))\n",
    "sns.boxplot( x=trainnull[\"class\"], y=trainnull[\"metals\"], width = 0.5, notch = True)\n",
    "plt.rcParams.update({'font.size': 30})"
   ]
  },
  {
   "cell_type": "code",
   "execution_count": 32,
   "metadata": {},
   "outputs": [
    {
     "data": {
      "image/png": "[encoded data removed]",
      "text/plain": [
       "<Figure size 2160x720 with 1 Axes>"
      ]
     },
     "metadata": {
      "needs_background": "light"
     },
     "output_type": "display_data"
    }
   ],
   "source": [
    "plt.figure(figsize = (30,10))\n",
    "sns.boxplot( x=trainnull[\"class\"], y=trainnull[\"organics\"], width = 0.5, notch = True)\n",
    "plt.rcParams.update({'font.size': 30})"
   ]
  },
  {
   "cell_type": "code",
   "execution_count": 33,
   "metadata": {},
   "outputs": [
    {
     "data": {
      "image/png": "[encoded data removed]",
      "text/plain": [
       "<Figure size 2160x720 with 1 Axes>"
      ]
     },
     "metadata": {
      "needs_background": "light"
     },
     "output_type": "display_data"
    }
   ],
   "source": [
    "plt.figure(figsize = (30,10))\n",
    "sns.boxplot( x=trainnull[\"class\"], y=trainnull[\"density\"], width = 0.5, notch = True)\n",
    "plt.rcParams.update({'font.size': 30})"
   ]
  },
  {
   "cell_type": "code",
   "execution_count": 34,
   "metadata": {},
   "outputs": [
    {
     "data": {
      "image/png": "[encoded data removed]",
      "text/plain": [
       "<Figure size 2160x720 with 1 Axes>"
      ]
     },
     "metadata": {
      "needs_background": "light"
     },
     "output_type": "display_data"
    }
   ],
   "source": [
    "plt.figure(figsize = (30,10))\n",
    "sns.boxplot( x=trainnull[\"class\"], y=trainnull[\"isotope_diversity\"], width = 0.5, notch = True)\n",
    "plt.rcParams.update({'font.size': 30})"
   ]
  },
  {
   "cell_type": "code",
   "execution_count": 39,
   "metadata": {},
   "outputs": [
    {
     "ename": "Exception",
     "evalue": "Data must be 1-dimensional",
     "output_type": "error",
     "traceback": [
      "\u001b[0;31m---------------------------------------------------------------------------\u001b[0m",
      "\u001b[0;31mException\u001b[0m                                 Traceback (most recent call last)",
      "\u001b[0;32m<ipython-input-39-030d37e7caf0>\u001b[0m in \u001b[0;36m<module>\u001b[0;34m\u001b[0m\n\u001b[1;32m      4\u001b[0m \u001b[0my\u001b[0m \u001b[0;34m=\u001b[0m \u001b[0mtrainnull\u001b[0m\u001b[0;34m.\u001b[0m\u001b[0mgroupby\u001b[0m\u001b[0;34m(\u001b[0m\u001b[0;34m[\u001b[0m\u001b[0;34m'class'\u001b[0m\u001b[0;34m]\u001b[0m\u001b[0;34m)\u001b[0m\u001b[0;34m.\u001b[0m\u001b[0magg\u001b[0m\u001b[0;34m(\u001b[0m\u001b[0mnp\u001b[0m\u001b[0;34m.\u001b[0m\u001b[0msize\u001b[0m\u001b[0;34m)\u001b[0m\u001b[0;34m.\u001b[0m\u001b[0mvalues\u001b[0m\u001b[0;34m\u001b[0m\u001b[0;34m\u001b[0m\u001b[0m\n\u001b[1;32m      5\u001b[0m \u001b[0mx\u001b[0m \u001b[0;34m=\u001b[0m \u001b[0mtrainnull\u001b[0m\u001b[0;34m.\u001b[0m\u001b[0mgroupby\u001b[0m\u001b[0;34m(\u001b[0m\u001b[0;34m[\u001b[0m\u001b[0;34m'class'\u001b[0m\u001b[0;34m]\u001b[0m\u001b[0;34m)\u001b[0m\u001b[0;34m.\u001b[0m\u001b[0magg\u001b[0m\u001b[0;34m(\u001b[0m\u001b[0mnp\u001b[0m\u001b[0;34m.\u001b[0m\u001b[0msize\u001b[0m\u001b[0;34m)\u001b[0m\u001b[0;34m.\u001b[0m\u001b[0mindex\u001b[0m\u001b[0;34m\u001b[0m\u001b[0;34m\u001b[0m\u001b[0m\n\u001b[0;32m----> 6\u001b[0;31m \u001b[0msns\u001b[0m\u001b[0;34m.\u001b[0m\u001b[0mbarplot\u001b[0m\u001b[0;34m(\u001b[0m\u001b[0mx\u001b[0m\u001b[0;34m=\u001b[0m\u001b[0mx\u001b[0m\u001b[0;34m,\u001b[0m \u001b[0my\u001b[0m\u001b[0;34m=\u001b[0m\u001b[0my\u001b[0m\u001b[0;34m,\u001b[0m \u001b[0mdata\u001b[0m\u001b[0;34m=\u001b[0m\u001b[0mtrainnull\u001b[0m\u001b[0;34m)\u001b[0m\u001b[0;34m\u001b[0m\u001b[0;34m\u001b[0m\u001b[0m\n\u001b[0m",
      "\u001b[0;32m/anaconda/envs/azureml_py36/lib/python3.6/site-packages/seaborn/_decorators.py\u001b[0m in \u001b[0;36minner_f\u001b[0;34m(*args, **kwargs)\u001b[0m\n\u001b[1;32m     44\u001b[0m             )\n\u001b[1;32m     45\u001b[0m         \u001b[0mkwargs\u001b[0m\u001b[0;34m.\u001b[0m\u001b[0mupdate\u001b[0m\u001b[0;34m(\u001b[0m\u001b[0;34m{\u001b[0m\u001b[0mk\u001b[0m\u001b[0;34m:\u001b[0m \u001b[0marg\u001b[0m \u001b[0;32mfor\u001b[0m \u001b[0mk\u001b[0m\u001b[0;34m,\u001b[0m \u001b[0marg\u001b[0m \u001b[0;32min\u001b[0m \u001b[0mzip\u001b[0m\u001b[0;34m(\u001b[0m\u001b[0msig\u001b[0m\u001b[0;34m.\u001b[0m\u001b[0mparameters\u001b[0m\u001b[0;34m,\u001b[0m \u001b[0margs\u001b[0m\u001b[0;34m)\u001b[0m\u001b[0;34m}\u001b[0m\u001b[0;34m)\u001b[0m\u001b[0;34m\u001b[0m\u001b[0;34m\u001b[0m\u001b[0m\n\u001b[0;32m---> 46\u001b[0;31m         \u001b[0;32mreturn\u001b[0m \u001b[0mf\u001b[0m\u001b[0;34m(\u001b[0m\u001b[0;34m**\u001b[0m\u001b[0mkwargs\u001b[0m\u001b[0;34m)\u001b[0m\u001b[0;34m\u001b[0m\u001b[0;34m\u001b[0m\u001b[0m\n\u001b[0m\u001b[1;32m     47\u001b[0m     \u001b[0;32mreturn\u001b[0m \u001b[0minner_f\u001b[0m\u001b[0;34m\u001b[0m\u001b[0;34m\u001b[0m\u001b[0m\n\u001b[1;32m     48\u001b[0m \u001b[0;34m\u001b[0m\u001b[0m\n",
      "\u001b[0;32m/anaconda/envs/azureml_py36/lib/python3.6/site-packages/seaborn/categorical.py\u001b[0m in \u001b[0;36mbarplot\u001b[0;34m(x, y, hue, data, order, hue_order, estimator, ci, n_boot, units, seed, orient, color, palette, saturation, errcolor, errwidth, capsize, dodge, ax, **kwargs)\u001b[0m\n\u001b[1;32m   3170\u001b[0m                           \u001b[0mestimator\u001b[0m\u001b[0;34m,\u001b[0m \u001b[0mci\u001b[0m\u001b[0;34m,\u001b[0m \u001b[0mn_boot\u001b[0m\u001b[0;34m,\u001b[0m \u001b[0munits\u001b[0m\u001b[0;34m,\u001b[0m \u001b[0mseed\u001b[0m\u001b[0;34m,\u001b[0m\u001b[0;34m\u001b[0m\u001b[0;34m\u001b[0m\u001b[0m\n\u001b[1;32m   3171\u001b[0m                           \u001b[0morient\u001b[0m\u001b[0;34m,\u001b[0m \u001b[0mcolor\u001b[0m\u001b[0;34m,\u001b[0m \u001b[0mpalette\u001b[0m\u001b[0;34m,\u001b[0m \u001b[0msaturation\u001b[0m\u001b[0;34m,\u001b[0m\u001b[0;34m\u001b[0m\u001b[0;34m\u001b[0m\u001b[0m\n\u001b[0;32m-> 3172\u001b[0;31m                           errcolor, errwidth, capsize, dodge)\n\u001b[0m\u001b[1;32m   3173\u001b[0m \u001b[0;34m\u001b[0m\u001b[0m\n\u001b[1;32m   3174\u001b[0m     \u001b[0;32mif\u001b[0m \u001b[0max\u001b[0m \u001b[0;32mis\u001b[0m \u001b[0;32mNone\u001b[0m\u001b[0;34m:\u001b[0m\u001b[0;34m\u001b[0m\u001b[0;34m\u001b[0m\u001b[0m\n",
      "\u001b[0;32m/anaconda/envs/azureml_py36/lib/python3.6/site-packages/seaborn/categorical.py\u001b[0m in \u001b[0;36m__init__\u001b[0;34m(self, x, y, hue, data, order, hue_order, estimator, ci, n_boot, units, seed, orient, color, palette, saturation, errcolor, errwidth, capsize, dodge)\u001b[0m\n\u001b[1;32m   1583\u001b[0m         \u001b[0;34m\"\"\"Initialize the plotter.\"\"\"\u001b[0m\u001b[0;34m\u001b[0m\u001b[0;34m\u001b[0m\u001b[0m\n\u001b[1;32m   1584\u001b[0m         self.establish_variables(x, y, hue, data, orient,\n\u001b[0;32m-> 1585\u001b[0;31m                                  order, hue_order, units)\n\u001b[0m\u001b[1;32m   1586\u001b[0m         \u001b[0mself\u001b[0m\u001b[0;34m.\u001b[0m\u001b[0mestablish_colors\u001b[0m\u001b[0;34m(\u001b[0m\u001b[0mcolor\u001b[0m\u001b[0;34m,\u001b[0m \u001b[0mpalette\u001b[0m\u001b[0;34m,\u001b[0m \u001b[0msaturation\u001b[0m\u001b[0;34m)\u001b[0m\u001b[0;34m\u001b[0m\u001b[0;34m\u001b[0m\u001b[0m\n\u001b[1;32m   1587\u001b[0m         \u001b[0mself\u001b[0m\u001b[0;34m.\u001b[0m\u001b[0mestimate_statistic\u001b[0m\u001b[0;34m(\u001b[0m\u001b[0mestimator\u001b[0m\u001b[0;34m,\u001b[0m \u001b[0mci\u001b[0m\u001b[0;34m,\u001b[0m \u001b[0mn_boot\u001b[0m\u001b[0;34m,\u001b[0m \u001b[0mseed\u001b[0m\u001b[0;34m)\u001b[0m\u001b[0;34m\u001b[0m\u001b[0;34m\u001b[0m\u001b[0m\n",
      "\u001b[0;32m/anaconda/envs/azureml_py36/lib/python3.6/site-packages/seaborn/categorical.py\u001b[0m in \u001b[0;36mestablish_variables\u001b[0;34m(self, x, y, hue, data, orient, order, hue_order, units)\u001b[0m\n\u001b[1;32m    205\u001b[0m                 \u001b[0;31m# Group the numeric data\u001b[0m\u001b[0;34m\u001b[0m\u001b[0;34m\u001b[0m\u001b[0;34m\u001b[0m\u001b[0m\n\u001b[1;32m    206\u001b[0m                 plot_data, value_label = self._group_longform(vals, groups,\n\u001b[0;32m--> 207\u001b[0;31m                                                               group_names)\n\u001b[0m\u001b[1;32m    208\u001b[0m \u001b[0;34m\u001b[0m\u001b[0m\n\u001b[1;32m    209\u001b[0m                 \u001b[0;31m# Now handle the hue levels for nested ordering\u001b[0m\u001b[0;34m\u001b[0m\u001b[0;34m\u001b[0m\u001b[0;34m\u001b[0m\u001b[0m\n",
      "\u001b[0;32m/anaconda/envs/azureml_py36/lib/python3.6/site-packages/seaborn/categorical.py\u001b[0m in \u001b[0;36m_group_longform\u001b[0;34m(self, vals, grouper, order)\u001b[0m\n\u001b[1;32m    248\u001b[0m             \u001b[0;32melse\u001b[0m\u001b[0;34m:\u001b[0m\u001b[0;34m\u001b[0m\u001b[0;34m\u001b[0m\u001b[0m\n\u001b[1;32m    249\u001b[0m                 \u001b[0mindex\u001b[0m \u001b[0;34m=\u001b[0m \u001b[0;32mNone\u001b[0m\u001b[0;34m\u001b[0m\u001b[0;34m\u001b[0m\u001b[0m\n\u001b[0;32m--> 250\u001b[0;31m             \u001b[0mvals\u001b[0m \u001b[0;34m=\u001b[0m \u001b[0mpd\u001b[0m\u001b[0;34m.\u001b[0m\u001b[0mSeries\u001b[0m\u001b[0;34m(\u001b[0m\u001b[0mvals\u001b[0m\u001b[0;34m,\u001b[0m \u001b[0mindex\u001b[0m\u001b[0;34m=\u001b[0m\u001b[0mindex\u001b[0m\u001b[0;34m)\u001b[0m\u001b[0;34m\u001b[0m\u001b[0;34m\u001b[0m\u001b[0m\n\u001b[0m\u001b[1;32m    251\u001b[0m \u001b[0;34m\u001b[0m\u001b[0m\n\u001b[1;32m    252\u001b[0m         \u001b[0;31m# Group the val data\u001b[0m\u001b[0;34m\u001b[0m\u001b[0;34m\u001b[0m\u001b[0;34m\u001b[0m\u001b[0m\n",
      "\u001b[0;32m/anaconda/envs/azureml_py36/lib/python3.6/site-packages/pandas/core/series.py\u001b[0m in \u001b[0;36m__init__\u001b[0;34m(self, data, index, dtype, name, copy, fastpath)\u001b[0m\n\u001b[1;32m    312\u001b[0m                     \u001b[0mdata\u001b[0m \u001b[0;34m=\u001b[0m \u001b[0mdata\u001b[0m\u001b[0;34m.\u001b[0m\u001b[0mcopy\u001b[0m\u001b[0;34m(\u001b[0m\u001b[0;34m)\u001b[0m\u001b[0;34m\u001b[0m\u001b[0;34m\u001b[0m\u001b[0m\n\u001b[1;32m    313\u001b[0m             \u001b[0;32melse\u001b[0m\u001b[0;34m:\u001b[0m\u001b[0;34m\u001b[0m\u001b[0;34m\u001b[0m\u001b[0m\n\u001b[0;32m--> 314\u001b[0;31m                 \u001b[0mdata\u001b[0m \u001b[0;34m=\u001b[0m \u001b[0msanitize_array\u001b[0m\u001b[0;34m(\u001b[0m\u001b[0mdata\u001b[0m\u001b[0;34m,\u001b[0m \u001b[0mindex\u001b[0m\u001b[0;34m,\u001b[0m \u001b[0mdtype\u001b[0m\u001b[0;34m,\u001b[0m \u001b[0mcopy\u001b[0m\u001b[0;34m,\u001b[0m \u001b[0mraise_cast_failure\u001b[0m\u001b[0;34m=\u001b[0m\u001b[0;32mTrue\u001b[0m\u001b[0;34m)\u001b[0m\u001b[0;34m\u001b[0m\u001b[0;34m\u001b[0m\u001b[0m\n\u001b[0m\u001b[1;32m    315\u001b[0m \u001b[0;34m\u001b[0m\u001b[0m\n\u001b[1;32m    316\u001b[0m                 \u001b[0mdata\u001b[0m \u001b[0;34m=\u001b[0m \u001b[0mSingleBlockManager\u001b[0m\u001b[0;34m(\u001b[0m\u001b[0mdata\u001b[0m\u001b[0;34m,\u001b[0m \u001b[0mindex\u001b[0m\u001b[0;34m,\u001b[0m \u001b[0mfastpath\u001b[0m\u001b[0;34m=\u001b[0m\u001b[0;32mTrue\u001b[0m\u001b[0;34m)\u001b[0m\u001b[0;34m\u001b[0m\u001b[0;34m\u001b[0m\u001b[0m\n",
      "\u001b[0;32m/anaconda/envs/azureml_py36/lib/python3.6/site-packages/pandas/core/internals/construction.py\u001b[0m in \u001b[0;36msanitize_array\u001b[0;34m(data, index, dtype, copy, raise_cast_failure)\u001b[0m\n\u001b[1;32m    727\u001b[0m     \u001b[0;32melif\u001b[0m \u001b[0msubarr\u001b[0m\u001b[0;34m.\u001b[0m\u001b[0mndim\u001b[0m \u001b[0;34m>\u001b[0m \u001b[0;36m1\u001b[0m\u001b[0;34m:\u001b[0m\u001b[0;34m\u001b[0m\u001b[0;34m\u001b[0m\u001b[0m\n\u001b[1;32m    728\u001b[0m         \u001b[0;32mif\u001b[0m \u001b[0misinstance\u001b[0m\u001b[0;34m(\u001b[0m\u001b[0mdata\u001b[0m\u001b[0;34m,\u001b[0m \u001b[0mnp\u001b[0m\u001b[0;34m.\u001b[0m\u001b[0mndarray\u001b[0m\u001b[0;34m)\u001b[0m\u001b[0;34m:\u001b[0m\u001b[0;34m\u001b[0m\u001b[0;34m\u001b[0m\u001b[0m\n\u001b[0;32m--> 729\u001b[0;31m             \u001b[0;32mraise\u001b[0m \u001b[0mException\u001b[0m\u001b[0;34m(\u001b[0m\u001b[0;34m\"Data must be 1-dimensional\"\u001b[0m\u001b[0;34m)\u001b[0m\u001b[0;34m\u001b[0m\u001b[0;34m\u001b[0m\u001b[0m\n\u001b[0m\u001b[1;32m    730\u001b[0m         \u001b[0;32melse\u001b[0m\u001b[0;34m:\u001b[0m\u001b[0;34m\u001b[0m\u001b[0;34m\u001b[0m\u001b[0m\n\u001b[1;32m    731\u001b[0m             \u001b[0msubarr\u001b[0m \u001b[0;34m=\u001b[0m \u001b[0mcom\u001b[0m\u001b[0;34m.\u001b[0m\u001b[0masarray_tuplesafe\u001b[0m\u001b[0;34m(\u001b[0m\u001b[0mdata\u001b[0m\u001b[0;34m,\u001b[0m \u001b[0mdtype\u001b[0m\u001b[0;34m=\u001b[0m\u001b[0mdtype\u001b[0m\u001b[0;34m)\u001b[0m\u001b[0;34m\u001b[0m\u001b[0;34m\u001b[0m\u001b[0m\n",
      "\u001b[0;31mException\u001b[0m: Data must be 1-dimensional"
     ]
    },
    {
     "data": {
      "text/plain": [
       "<Figure size 864x432 with 0 Axes>"
      ]
     },
     "metadata": {},
     "output_type": "display_data"
    }
   ],
   "source": [
    "# visualizing defective status by payment_type\n",
    "from matplotlib.pyplot import figure\n",
    "figure(num=None, figsize=(12, 6))\n",
    "y = trainnull.groupby(['class']).agg(np.size).values\n",
    "x = trainnull.groupby(['class']).agg(np.size).index\n",
    "sns.barplot(x=x, y=y, data=trainnull)"
   ]
  },
  {
   "cell_type": "code",
   "execution_count": 40,
   "metadata": {},
   "outputs": [
    {
     "data": {
      "text/html": [
       "<div>\n",
       "<style scoped>\n",
       "    .dataframe tbody tr th:only-of-type {\n",
       "        vertical-align: middle;\n",
       "    }\n",
       "\n",
       "    .dataframe tbody tr th {\n",
       "        vertical-align: top;\n",
       "    }\n",
       "\n",
       "    .dataframe thead th {\n",
       "        text-align: right;\n",
       "    }\n",
       "</style>\n",
       "<table border=\"1\" class=\"dataframe\">\n",
       "  <thead>\n",
       "    <tr style=\"text-align: right;\">\n",
       "      <th></th>\n",
       "      <th>sample_id</th>\n",
       "      <th>density</th>\n",
       "      <th>viscosity</th>\n",
       "      <th>conductance</th>\n",
       "      <th>pH</th>\n",
       "      <th>nitrates</th>\n",
       "      <th>phosphates</th>\n",
       "      <th>chlorides</th>\n",
       "      <th>sulphates</th>\n",
       "      <th>organics</th>\n",
       "      <th>metals</th>\n",
       "      <th>isotope_diversity</th>\n",
       "    </tr>\n",
       "  </thead>\n",
       "  <tbody>\n",
       "    <tr>\n",
       "      <th>sample_id</th>\n",
       "      <td>1.000000</td>\n",
       "      <td>-0.194313</td>\n",
       "      <td>-0.202361</td>\n",
       "      <td>0.009572</td>\n",
       "      <td>-0.162001</td>\n",
       "      <td>-0.309742</td>\n",
       "      <td>0.092199</td>\n",
       "      <td>-0.334957</td>\n",
       "      <td>-0.254596</td>\n",
       "      <td>0.137348</td>\n",
       "      <td>0.265801</td>\n",
       "      <td>-0.005366</td>\n",
       "    </tr>\n",
       "    <tr>\n",
       "      <th>density</th>\n",
       "      <td>-0.194313</td>\n",
       "      <td>1.000000</td>\n",
       "      <td>0.315206</td>\n",
       "      <td>0.007472</td>\n",
       "      <td>-0.004049</td>\n",
       "      <td>0.179521</td>\n",
       "      <td>0.046917</td>\n",
       "      <td>0.418750</td>\n",
       "      <td>0.181821</td>\n",
       "      <td>0.353240</td>\n",
       "      <td>-0.005655</td>\n",
       "      <td>-0.492555</td>\n",
       "    </tr>\n",
       "    <tr>\n",
       "      <th>viscosity</th>\n",
       "      <td>-0.202361</td>\n",
       "      <td>0.315206</td>\n",
       "      <td>1.000000</td>\n",
       "      <td>-0.002799</td>\n",
       "      <td>-0.175215</td>\n",
       "      <td>0.139146</td>\n",
       "      <td>0.185282</td>\n",
       "      <td>0.259297</td>\n",
       "      <td>0.160741</td>\n",
       "      <td>-0.019491</td>\n",
       "      <td>-0.183847</td>\n",
       "      <td>-0.073921</td>\n",
       "    </tr>\n",
       "    <tr>\n",
       "      <th>conductance</th>\n",
       "      <td>0.009572</td>\n",
       "      <td>0.007472</td>\n",
       "      <td>-0.002799</td>\n",
       "      <td>1.000000</td>\n",
       "      <td>-0.012828</td>\n",
       "      <td>-0.004081</td>\n",
       "      <td>0.001258</td>\n",
       "      <td>-0.005401</td>\n",
       "      <td>0.010275</td>\n",
       "      <td>0.007448</td>\n",
       "      <td>-0.001189</td>\n",
       "      <td>-0.011482</td>\n",
       "    </tr>\n",
       "    <tr>\n",
       "      <th>pH</th>\n",
       "      <td>-0.162001</td>\n",
       "      <td>-0.004049</td>\n",
       "      <td>-0.175215</td>\n",
       "      <td>-0.012828</td>\n",
       "      <td>1.000000</td>\n",
       "      <td>0.113355</td>\n",
       "      <td>-0.194306</td>\n",
       "      <td>0.094996</td>\n",
       "      <td>0.162316</td>\n",
       "      <td>-0.152699</td>\n",
       "      <td>-0.100533</td>\n",
       "      <td>0.095691</td>\n",
       "    </tr>\n",
       "    <tr>\n",
       "      <th>nitrates</th>\n",
       "      <td>-0.309742</td>\n",
       "      <td>0.179521</td>\n",
       "      <td>0.139146</td>\n",
       "      <td>-0.004081</td>\n",
       "      <td>0.113355</td>\n",
       "      <td>1.000000</td>\n",
       "      <td>-0.194494</td>\n",
       "      <td>0.275755</td>\n",
       "      <td>0.179007</td>\n",
       "      <td>-0.047278</td>\n",
       "      <td>-0.250786</td>\n",
       "      <td>-0.011137</td>\n",
       "    </tr>\n",
       "    <tr>\n",
       "      <th>phosphates</th>\n",
       "      <td>0.092199</td>\n",
       "      <td>0.046917</td>\n",
       "      <td>0.185282</td>\n",
       "      <td>0.001258</td>\n",
       "      <td>-0.194306</td>\n",
       "      <td>-0.194494</td>\n",
       "      <td>1.000000</td>\n",
       "      <td>-0.044918</td>\n",
       "      <td>0.023979</td>\n",
       "      <td>0.066784</td>\n",
       "      <td>0.085577</td>\n",
       "      <td>0.004782</td>\n",
       "    </tr>\n",
       "    <tr>\n",
       "      <th>chlorides</th>\n",
       "      <td>-0.334957</td>\n",
       "      <td>0.418750</td>\n",
       "      <td>0.259297</td>\n",
       "      <td>-0.005401</td>\n",
       "      <td>0.094996</td>\n",
       "      <td>0.275755</td>\n",
       "      <td>-0.044918</td>\n",
       "      <td>1.000000</td>\n",
       "      <td>0.256033</td>\n",
       "      <td>-0.016981</td>\n",
       "      <td>-0.173011</td>\n",
       "      <td>-0.259549</td>\n",
       "    </tr>\n",
       "    <tr>\n",
       "      <th>sulphates</th>\n",
       "      <td>-0.254596</td>\n",
       "      <td>0.181821</td>\n",
       "      <td>0.160741</td>\n",
       "      <td>0.010275</td>\n",
       "      <td>0.162316</td>\n",
       "      <td>0.179007</td>\n",
       "      <td>0.023979</td>\n",
       "      <td>0.256033</td>\n",
       "      <td>1.000000</td>\n",
       "      <td>-0.097873</td>\n",
       "      <td>-0.153712</td>\n",
       "      <td>0.025635</td>\n",
       "    </tr>\n",
       "    <tr>\n",
       "      <th>organics</th>\n",
       "      <td>0.137348</td>\n",
       "      <td>0.353240</td>\n",
       "      <td>-0.019491</td>\n",
       "      <td>0.007448</td>\n",
       "      <td>-0.152699</td>\n",
       "      <td>-0.047278</td>\n",
       "      <td>0.066784</td>\n",
       "      <td>-0.016981</td>\n",
       "      <td>-0.097873</td>\n",
       "      <td>1.000000</td>\n",
       "      <td>0.251502</td>\n",
       "      <td>-0.202605</td>\n",
       "    </tr>\n",
       "    <tr>\n",
       "      <th>metals</th>\n",
       "      <td>0.265801</td>\n",
       "      <td>-0.005655</td>\n",
       "      <td>-0.183847</td>\n",
       "      <td>-0.001189</td>\n",
       "      <td>-0.100533</td>\n",
       "      <td>-0.250786</td>\n",
       "      <td>0.085577</td>\n",
       "      <td>-0.173011</td>\n",
       "      <td>-0.153712</td>\n",
       "      <td>0.251502</td>\n",
       "      <td>1.000000</td>\n",
       "      <td>-0.118617</td>\n",
       "    </tr>\n",
       "    <tr>\n",
       "      <th>isotope_diversity</th>\n",
       "      <td>-0.005366</td>\n",
       "      <td>-0.492555</td>\n",
       "      <td>-0.073921</td>\n",
       "      <td>-0.011482</td>\n",
       "      <td>0.095691</td>\n",
       "      <td>-0.011137</td>\n",
       "      <td>0.004782</td>\n",
       "      <td>-0.259549</td>\n",
       "      <td>0.025635</td>\n",
       "      <td>-0.202605</td>\n",
       "      <td>-0.118617</td>\n",
       "      <td>1.000000</td>\n",
       "    </tr>\n",
       "  </tbody>\n",
       "</table>\n",
       "</div>"
      ],
      "text/plain": [
       "                   sample_id   density  viscosity  conductance        pH  \\\n",
       "sample_id           1.000000 -0.194313  -0.202361     0.009572 -0.162001   \n",
       "density            -0.194313  1.000000   0.315206     0.007472 -0.004049   \n",
       "viscosity          -0.202361  0.315206   1.000000    -0.002799 -0.175215   \n",
       "conductance         0.009572  0.007472  -0.002799     1.000000 -0.012828   \n",
       "pH                 -0.162001 -0.004049  -0.175215    -0.012828  1.000000   \n",
       "nitrates           -0.309742  0.179521   0.139146    -0.004081  0.113355   \n",
       "phosphates          0.092199  0.046917   0.185282     0.001258 -0.194306   \n",
       "chlorides          -0.334957  0.418750   0.259297    -0.005401  0.094996   \n",
       "sulphates          -0.254596  0.181821   0.160741     0.010275  0.162316   \n",
       "organics            0.137348  0.353240  -0.019491     0.007448 -0.152699   \n",
       "metals              0.265801 -0.005655  -0.183847    -0.001189 -0.100533   \n",
       "isotope_diversity  -0.005366 -0.492555  -0.073921    -0.011482  0.095691   \n",
       "\n",
       "                   nitrates  phosphates  chlorides  sulphates  organics  \\\n",
       "sample_id         -0.309742    0.092199  -0.334957  -0.254596  0.137348   \n",
       "density            0.179521    0.046917   0.418750   0.181821  0.353240   \n",
       "viscosity          0.139146    0.185282   0.259297   0.160741 -0.019491   \n",
       "conductance       -0.004081    0.001258  -0.005401   0.010275  0.007448   \n",
       "pH                 0.113355   -0.194306   0.094996   0.162316 -0.152699   \n",
       "nitrates           1.000000   -0.194494   0.275755   0.179007 -0.047278   \n",
       "phosphates        -0.194494    1.000000  -0.044918   0.023979  0.066784   \n",
       "chlorides          0.275755   -0.044918   1.000000   0.256033 -0.016981   \n",
       "sulphates          0.179007    0.023979   0.256033   1.000000 -0.097873   \n",
       "organics          -0.047278    0.066784  -0.016981  -0.097873  1.000000   \n",
       "metals            -0.250786    0.085577  -0.173011  -0.153712  0.251502   \n",
       "isotope_diversity -0.011137    0.004782  -0.259549   0.025635 -0.202605   \n",
       "\n",
       "                     metals  isotope_diversity  \n",
       "sample_id          0.265801          -0.005366  \n",
       "density           -0.005655          -0.492555  \n",
       "viscosity         -0.183847          -0.073921  \n",
       "conductance       -0.001189          -0.011482  \n",
       "pH                -0.100533           0.095691  \n",
       "nitrates          -0.250786          -0.011137  \n",
       "phosphates         0.085577           0.004782  \n",
       "chlorides         -0.173011          -0.259549  \n",
       "sulphates         -0.153712           0.025635  \n",
       "organics           0.251502          -0.202605  \n",
       "metals             1.000000          -0.118617  \n",
       "isotope_diversity -0.118617           1.000000  "
      ]
     },
     "execution_count": 40,
     "metadata": {},
     "output_type": "execute_result"
    }
   ],
   "source": [
    "trainnull.corr(method ='kendall') "
   ]
  },
  {
   "cell_type": "markdown",
   "metadata": {},
   "source": [
    "no correlation found"
   ]
  },
  {
   "cell_type": "code",
   "execution_count": null,
   "metadata": {},
   "outputs": [],
   "source": [
    "from numpy import array\n",
    "from sklearn.model_selection import KFold\n",
    "# data sample\n",
    "data = array([0.1, 0.2, 0.3, 0.4, 0.5, 0.6])\n",
    "# prepare cross validation\n",
    "kfold = KFold(3, True, 1)\n",
    "# enumerate splits\n",
    "for train, test in kfold.split(data):\n",
    "\tprint('train: %s, test: %s' % (data[train], data[test]))"
   ]
  },
  {
   "cell_type": "code",
   "execution_count": null,
   "metadata": {},
   "outputs": [],
   "source": [
    "from numpy import mean\n",
    "from numpy import std\n",
    "from sklearn.datasets import make_classification\n",
    "from sklearn.model_selection import KFold\n",
    "from sklearn.model_selection import cross_val_score\n",
    "from sklearn.linear_model import LogisticRegression\n",
    "# create dataset\n",
    "X, y = make_classification(n_samples=100, n_features=20, n_informative=15, n_redundant=5, random_state=1)\n",
    "\n",
    "# prepare the cross-validation procedure\n",
    "cv = KFold(n_splits=10, random_state=1, shuffle=True)\n",
    "# create model\n",
    "model = LogisticRegression()\n",
    "# evaluate model\n",
    "scores = cross_val_score(model, X, y, scoring='accuracy', cv=cv, n_jobs=-1)\n",
    "# report performance\n",
    "print('Accuracy: %.3f (%.3f)' % (mean(scores), std(scores)))"
   ]
  },
  {
   "cell_type": "code",
   "execution_count": null,
   "metadata": {},
   "outputs": [],
   "source": [
    "# 1. Remove categorial \n",
    "filltrain = traindata.select_dtypes(exclude=   \n",
    "                 [\"object\"])\n",
    "# 2. Fit the numerical data to Imputer\n",
    "from sklearn.impute import SimpleImputer\n",
    "imputer = SimpleImputer(strategy=\"median\")\n",
    "imputer.fit(melbourne_data)\n",
    "# 3.\n",
    "X = imputer.transform(melbourne_data)\n",
    "melbourne_data_tr = pd.DataFrame(X, columns=melbourne_data.columns, \n",
    "                    index=melbourne_data.index"
   ]
  },
  {
   "cell_type": "code",
   "execution_count": 46,
   "metadata": {},
   "outputs": [],
   "source": [
    "traindata['class'] = traindata['class'].map({'Class A': 1, 'Class B': 2,'Class C': 3,'Class Z1': 4,'Class Z2': 5,'Class X1': 6,'Class X2': 7})\n",
    " "
   ]
  },
  {
   "cell_type": "code",
   "execution_count": 47,
   "metadata": {},
   "outputs": [
    {
     "data": {
      "text/html": [
       "<div>\n",
       "<style scoped>\n",
       "    .dataframe tbody tr th:only-of-type {\n",
       "        vertical-align: middle;\n",
       "    }\n",
       "\n",
       "    .dataframe tbody tr th {\n",
       "        vertical-align: top;\n",
       "    }\n",
       "\n",
       "    .dataframe thead th {\n",
       "        text-align: right;\n",
       "    }\n",
       "</style>\n",
       "<table border=\"1\" class=\"dataframe\">\n",
       "  <thead>\n",
       "    <tr style=\"text-align: right;\">\n",
       "      <th></th>\n",
       "      <th>sample_id</th>\n",
       "      <th>class</th>\n",
       "      <th>density</th>\n",
       "      <th>viscosity</th>\n",
       "      <th>conductance</th>\n",
       "      <th>spectrum</th>\n",
       "      <th>pH</th>\n",
       "      <th>nitrates</th>\n",
       "      <th>phosphates</th>\n",
       "      <th>chlorides</th>\n",
       "      <th>sulphates</th>\n",
       "      <th>organics</th>\n",
       "      <th>metals</th>\n",
       "      <th>isotope_diversity</th>\n",
       "    </tr>\n",
       "  </thead>\n",
       "  <tbody>\n",
       "    <tr>\n",
       "      <th>0</th>\n",
       "      <td>2998</td>\n",
       "      <td>1</td>\n",
       "      <td>0.99212</td>\n",
       "      <td>5.8</td>\n",
       "      <td>0.699926</td>\n",
       "      <td>violet</td>\n",
       "      <td>6.262996</td>\n",
       "      <td>0.36</td>\n",
       "      <td>0.50</td>\n",
       "      <td>0.127</td>\n",
       "      <td>0.45</td>\n",
       "      <td>1.0</td>\n",
       "      <td>4.143135</td>\n",
       "      <td>9.7</td>\n",
       "    </tr>\n",
       "    <tr>\n",
       "      <th>1</th>\n",
       "      <td>3411</td>\n",
       "      <td>5</td>\n",
       "      <td>0.99458</td>\n",
       "      <td>6.8</td>\n",
       "      <td>-0.781538</td>\n",
       "      <td>white</td>\n",
       "      <td>7.755652</td>\n",
       "      <td>0.27</td>\n",
       "      <td>0.29</td>\n",
       "      <td>0.046</td>\n",
       "      <td>0.48</td>\n",
       "      <td>4.6</td>\n",
       "      <td>1.791759</td>\n",
       "      <td>10.6</td>\n",
       "    </tr>\n",
       "    <tr>\n",
       "      <th>2</th>\n",
       "      <td>1371</td>\n",
       "      <td>2</td>\n",
       "      <td>0.99940</td>\n",
       "      <td>12.4</td>\n",
       "      <td>0.982642</td>\n",
       "      <td>red</td>\n",
       "      <td>5.889832</td>\n",
       "      <td>0.40</td>\n",
       "      <td>0.51</td>\n",
       "      <td>0.059</td>\n",
       "      <td>0.60</td>\n",
       "      <td>2.0</td>\n",
       "      <td>1.791759</td>\n",
       "      <td>9.3</td>\n",
       "    </tr>\n",
       "    <tr>\n",
       "      <th>3</th>\n",
       "      <td>925</td>\n",
       "      <td>1</td>\n",
       "      <td>0.99975</td>\n",
       "      <td>9.3</td>\n",
       "      <td>0.097245</td>\n",
       "      <td>red</td>\n",
       "      <td>7.133712</td>\n",
       "      <td>0.61</td>\n",
       "      <td>0.26</td>\n",
       "      <td>0.090</td>\n",
       "      <td>0.62</td>\n",
       "      <td>3.4</td>\n",
       "      <td>NaN</td>\n",
       "      <td>9.7</td>\n",
       "    </tr>\n",
       "    <tr>\n",
       "      <th>4</th>\n",
       "      <td>1859</td>\n",
       "      <td>2</td>\n",
       "      <td>0.98938</td>\n",
       "      <td>6.1</td>\n",
       "      <td>0.544021</td>\n",
       "      <td>ultraviolet</td>\n",
       "      <td>6.014220</td>\n",
       "      <td>0.34</td>\n",
       "      <td>0.29</td>\n",
       "      <td>0.036</td>\n",
       "      <td>0.44</td>\n",
       "      <td>2.2</td>\n",
       "      <td>3.218876</td>\n",
       "      <td>11.8</td>\n",
       "    </tr>\n",
       "  </tbody>\n",
       "</table>\n",
       "</div>"
      ],
      "text/plain": [
       "   sample_id  class  density  viscosity  conductance     spectrum        pH  \\\n",
       "0       2998      1  0.99212        5.8     0.699926       violet  6.262996   \n",
       "1       3411      5  0.99458        6.8    -0.781538        white  7.755652   \n",
       "2       1371      2  0.99940       12.4     0.982642          red  5.889832   \n",
       "3        925      1  0.99975        9.3     0.097245          red  7.133712   \n",
       "4       1859      2  0.98938        6.1     0.544021  ultraviolet  6.014220   \n",
       "\n",
       "   nitrates  phosphates  chlorides  sulphates  organics    metals  \\\n",
       "0      0.36        0.50      0.127       0.45       1.0  4.143135   \n",
       "1      0.27        0.29      0.046       0.48       4.6  1.791759   \n",
       "2      0.40        0.51      0.059       0.60       2.0  1.791759   \n",
       "3      0.61        0.26      0.090       0.62       3.4       NaN   \n",
       "4      0.34        0.29      0.036       0.44       2.2  3.218876   \n",
       "\n",
       "   isotope_diversity  \n",
       "0                9.7  \n",
       "1               10.6  \n",
       "2                9.3  \n",
       "3                9.7  \n",
       "4               11.8  "
      ]
     },
     "execution_count": 47,
     "metadata": {},
     "output_type": "execute_result"
    }
   ],
   "source": [
    "traindata.head()"
   ]
  },
  {
   "cell_type": "code",
   "execution_count": 48,
   "metadata": {},
   "outputs": [],
   "source": [
    "filltrain = traindata.select_dtypes(exclude=[\"object\"])"
   ]
  },
  {
   "cell_type": "code",
   "execution_count": 49,
   "metadata": {},
   "outputs": [
    {
     "data": {
      "text/plain": [
       "SimpleImputer(add_indicator=False, copy=True, fill_value=None,\n",
       "              missing_values=nan, strategy='median', verbose=0)"
      ]
     },
     "execution_count": 49,
     "metadata": {},
     "output_type": "execute_result"
    }
   ],
   "source": [
    "from sklearn.impute import SimpleImputer\n",
    "imputer = SimpleImputer(strategy=\"median\")\n",
    "imputer.fit(filltrain)"
   ]
  },
  {
   "cell_type": "code",
   "execution_count": 50,
   "metadata": {},
   "outputs": [],
   "source": [
    "X = imputer.transform(filltrain)\n",
    "finaltrain = pd.DataFrame(X, columns=filltrain.columns,index=filltrain.index)"
   ]
  },
  {
   "cell_type": "code",
   "execution_count": 51,
   "metadata": {},
   "outputs": [
    {
     "name": "stdout",
     "output_type": "stream",
     "text": [
      "<class 'pandas.core.frame.DataFrame'>\n",
      "RangeIndex: 5000 entries, 0 to 4999\n",
      "Data columns (total 13 columns):\n",
      "sample_id            5000 non-null float64\n",
      "class                5000 non-null float64\n",
      "density              5000 non-null float64\n",
      "viscosity            5000 non-null float64\n",
      "conductance          5000 non-null float64\n",
      "pH                   5000 non-null float64\n",
      "nitrates             5000 non-null float64\n",
      "phosphates           5000 non-null float64\n",
      "chlorides            5000 non-null float64\n",
      "sulphates            5000 non-null float64\n",
      "organics             5000 non-null float64\n",
      "metals               5000 non-null float64\n",
      "isotope_diversity    5000 non-null float64\n",
      "dtypes: float64(13)\n",
      "memory usage: 507.9 KB\n"
     ]
    }
   ],
   "source": [
    "finaltrain.info()"
   ]
  },
  {
   "cell_type": "markdown",
   "metadata": {},
   "source": [
    "after droping sample number"
   ]
  },
  {
   "cell_type": "code",
   "execution_count": 53,
   "metadata": {},
   "outputs": [
    {
     "data": {
      "text/html": [
       "<div>\n",
       "<style scoped>\n",
       "    .dataframe tbody tr th:only-of-type {\n",
       "        vertical-align: middle;\n",
       "    }\n",
       "\n",
       "    .dataframe tbody tr th {\n",
       "        vertical-align: top;\n",
       "    }\n",
       "\n",
       "    .dataframe thead th {\n",
       "        text-align: right;\n",
       "    }\n",
       "</style>\n",
       "<table border=\"1\" class=\"dataframe\">\n",
       "  <thead>\n",
       "    <tr style=\"text-align: right;\">\n",
       "      <th></th>\n",
       "      <th>sample_id</th>\n",
       "      <th>class</th>\n",
       "      <th>density</th>\n",
       "      <th>viscosity</th>\n",
       "      <th>conductance</th>\n",
       "      <th>pH</th>\n",
       "      <th>nitrates</th>\n",
       "      <th>phosphates</th>\n",
       "      <th>chlorides</th>\n",
       "      <th>sulphates</th>\n",
       "      <th>organics</th>\n",
       "      <th>metals</th>\n",
       "      <th>isotope_diversity</th>\n",
       "    </tr>\n",
       "  </thead>\n",
       "  <tbody>\n",
       "    <tr>\n",
       "      <th>0</th>\n",
       "      <td>2998.0</td>\n",
       "      <td>1.0</td>\n",
       "      <td>0.99212</td>\n",
       "      <td>5.8</td>\n",
       "      <td>0.699926</td>\n",
       "      <td>6.262996</td>\n",
       "      <td>0.36</td>\n",
       "      <td>0.50</td>\n",
       "      <td>0.127</td>\n",
       "      <td>0.45</td>\n",
       "      <td>1.0</td>\n",
       "      <td>4.143135</td>\n",
       "      <td>9.7</td>\n",
       "    </tr>\n",
       "    <tr>\n",
       "      <th>1</th>\n",
       "      <td>3411.0</td>\n",
       "      <td>5.0</td>\n",
       "      <td>0.99458</td>\n",
       "      <td>6.8</td>\n",
       "      <td>-0.781538</td>\n",
       "      <td>7.755652</td>\n",
       "      <td>0.27</td>\n",
       "      <td>0.29</td>\n",
       "      <td>0.046</td>\n",
       "      <td>0.48</td>\n",
       "      <td>4.6</td>\n",
       "      <td>1.791759</td>\n",
       "      <td>10.6</td>\n",
       "    </tr>\n",
       "    <tr>\n",
       "      <th>2</th>\n",
       "      <td>1371.0</td>\n",
       "      <td>2.0</td>\n",
       "      <td>0.99940</td>\n",
       "      <td>12.4</td>\n",
       "      <td>0.982642</td>\n",
       "      <td>5.889832</td>\n",
       "      <td>0.40</td>\n",
       "      <td>0.51</td>\n",
       "      <td>0.059</td>\n",
       "      <td>0.60</td>\n",
       "      <td>2.0</td>\n",
       "      <td>1.791759</td>\n",
       "      <td>9.3</td>\n",
       "    </tr>\n",
       "    <tr>\n",
       "      <th>3</th>\n",
       "      <td>925.0</td>\n",
       "      <td>1.0</td>\n",
       "      <td>0.99975</td>\n",
       "      <td>9.3</td>\n",
       "      <td>0.097245</td>\n",
       "      <td>7.133712</td>\n",
       "      <td>0.61</td>\n",
       "      <td>0.26</td>\n",
       "      <td>0.090</td>\n",
       "      <td>0.62</td>\n",
       "      <td>3.4</td>\n",
       "      <td>3.367296</td>\n",
       "      <td>9.7</td>\n",
       "    </tr>\n",
       "    <tr>\n",
       "      <th>4</th>\n",
       "      <td>1859.0</td>\n",
       "      <td>2.0</td>\n",
       "      <td>0.98938</td>\n",
       "      <td>6.1</td>\n",
       "      <td>0.544021</td>\n",
       "      <td>6.014220</td>\n",
       "      <td>0.34</td>\n",
       "      <td>0.29</td>\n",
       "      <td>0.036</td>\n",
       "      <td>0.44</td>\n",
       "      <td>2.2</td>\n",
       "      <td>3.218876</td>\n",
       "      <td>11.8</td>\n",
       "    </tr>\n",
       "  </tbody>\n",
       "</table>\n",
       "</div>"
      ],
      "text/plain": [
       "   sample_id  class  density  viscosity  conductance        pH  nitrates  \\\n",
       "0     2998.0    1.0  0.99212        5.8     0.699926  6.262996      0.36   \n",
       "1     3411.0    5.0  0.99458        6.8    -0.781538  7.755652      0.27   \n",
       "2     1371.0    2.0  0.99940       12.4     0.982642  5.889832      0.40   \n",
       "3      925.0    1.0  0.99975        9.3     0.097245  7.133712      0.61   \n",
       "4     1859.0    2.0  0.98938        6.1     0.544021  6.014220      0.34   \n",
       "\n",
       "   phosphates  chlorides  sulphates  organics    metals  isotope_diversity  \n",
       "0        0.50      0.127       0.45       1.0  4.143135                9.7  \n",
       "1        0.29      0.046       0.48       4.6  1.791759               10.6  \n",
       "2        0.51      0.059       0.60       2.0  1.791759                9.3  \n",
       "3        0.26      0.090       0.62       3.4  3.367296                9.7  \n",
       "4        0.29      0.036       0.44       2.2  3.218876               11.8  "
      ]
     },
     "execution_count": 53,
     "metadata": {},
     "output_type": "execute_result"
    }
   ],
   "source": [
    "finaltrain.head()"
   ]
  },
  {
   "cell_type": "code",
   "execution_count": 57,
   "metadata": {},
   "outputs": [],
   "source": [
    "finaldata=finaltrain.drop([\"sample_id\"],axis=1)"
   ]
  },
  {
   "cell_type": "code",
   "execution_count": 58,
   "metadata": {},
   "outputs": [
    {
     "data": {
      "text/html": [
       "<div>\n",
       "<style scoped>\n",
       "    .dataframe tbody tr th:only-of-type {\n",
       "        vertical-align: middle;\n",
       "    }\n",
       "\n",
       "    .dataframe tbody tr th {\n",
       "        vertical-align: top;\n",
       "    }\n",
       "\n",
       "    .dataframe thead th {\n",
       "        text-align: right;\n",
       "    }\n",
       "</style>\n",
       "<table border=\"1\" class=\"dataframe\">\n",
       "  <thead>\n",
       "    <tr style=\"text-align: right;\">\n",
       "      <th></th>\n",
       "      <th>density</th>\n",
       "      <th>viscosity</th>\n",
       "      <th>conductance</th>\n",
       "      <th>pH</th>\n",
       "      <th>nitrates</th>\n",
       "      <th>phosphates</th>\n",
       "      <th>chlorides</th>\n",
       "      <th>sulphates</th>\n",
       "      <th>organics</th>\n",
       "      <th>metals</th>\n",
       "      <th>isotope_diversity</th>\n",
       "    </tr>\n",
       "    <tr>\n",
       "      <th>class</th>\n",
       "      <th></th>\n",
       "      <th></th>\n",
       "      <th></th>\n",
       "      <th></th>\n",
       "      <th></th>\n",
       "      <th></th>\n",
       "      <th></th>\n",
       "      <th></th>\n",
       "      <th></th>\n",
       "      <th></th>\n",
       "      <th></th>\n",
       "    </tr>\n",
       "  </thead>\n",
       "  <tbody>\n",
       "    <tr>\n",
       "      <th>1.0</th>\n",
       "      <td>0.995833</td>\n",
       "      <td>7.318568</td>\n",
       "      <td>0.656681</td>\n",
       "      <td>6.942877</td>\n",
       "      <td>0.387524</td>\n",
       "      <td>0.305029</td>\n",
       "      <td>0.063908</td>\n",
       "      <td>0.525303</td>\n",
       "      <td>5.800449</td>\n",
       "      <td>3.184686</td>\n",
       "      <td>9.855390</td>\n",
       "    </tr>\n",
       "    <tr>\n",
       "      <th>2.0</th>\n",
       "      <td>0.994604</td>\n",
       "      <td>7.184028</td>\n",
       "      <td>0.632401</td>\n",
       "      <td>6.968609</td>\n",
       "      <td>0.312525</td>\n",
       "      <td>0.323112</td>\n",
       "      <td>0.053672</td>\n",
       "      <td>0.533181</td>\n",
       "      <td>5.564129</td>\n",
       "      <td>3.261561</td>\n",
       "      <td>10.560568</td>\n",
       "    </tr>\n",
       "    <tr>\n",
       "      <th>3.0</th>\n",
       "      <td>0.993236</td>\n",
       "      <td>7.124821</td>\n",
       "      <td>0.638141</td>\n",
       "      <td>7.091219</td>\n",
       "      <td>0.288559</td>\n",
       "      <td>0.338791</td>\n",
       "      <td>0.045659</td>\n",
       "      <td>0.552560</td>\n",
       "      <td>4.769649</td>\n",
       "      <td>3.276710</td>\n",
       "      <td>11.358614</td>\n",
       "    </tr>\n",
       "    <tr>\n",
       "      <th>4.0</th>\n",
       "      <td>0.995617</td>\n",
       "      <td>7.734615</td>\n",
       "      <td>0.718318</td>\n",
       "      <td>7.229395</td>\n",
       "      <td>0.531154</td>\n",
       "      <td>0.260769</td>\n",
       "      <td>0.064885</td>\n",
       "      <td>0.491154</td>\n",
       "      <td>3.431612</td>\n",
       "      <td>2.953070</td>\n",
       "      <td>10.384260</td>\n",
       "    </tr>\n",
       "    <tr>\n",
       "      <th>5.0</th>\n",
       "      <td>0.994783</td>\n",
       "      <td>7.199383</td>\n",
       "      <td>0.628913</td>\n",
       "      <td>7.051583</td>\n",
       "      <td>0.441204</td>\n",
       "      <td>0.267286</td>\n",
       "      <td>0.055025</td>\n",
       "      <td>0.502407</td>\n",
       "      <td>3.983212</td>\n",
       "      <td>2.686588</td>\n",
       "      <td>10.295802</td>\n",
       "    </tr>\n",
       "    <tr>\n",
       "      <th>6.0</th>\n",
       "      <td>0.992565</td>\n",
       "      <td>6.828169</td>\n",
       "      <td>0.658506</td>\n",
       "      <td>7.075954</td>\n",
       "      <td>0.285493</td>\n",
       "      <td>0.328094</td>\n",
       "      <td>0.041627</td>\n",
       "      <td>0.511268</td>\n",
       "      <td>5.397450</td>\n",
       "      <td>3.405506</td>\n",
       "      <td>11.698534</td>\n",
       "    </tr>\n",
       "    <tr>\n",
       "      <th>7.0</th>\n",
       "      <td>0.990075</td>\n",
       "      <td>7.000000</td>\n",
       "      <td>0.708704</td>\n",
       "      <td>7.724555</td>\n",
       "      <td>0.305000</td>\n",
       "      <td>0.370000</td>\n",
       "      <td>0.029500</td>\n",
       "      <td>0.490000</td>\n",
       "      <td>8.924786</td>\n",
       "      <td>3.487732</td>\n",
       "      <td>12.625000</td>\n",
       "    </tr>\n",
       "  </tbody>\n",
       "</table>\n",
       "</div>"
      ],
      "text/plain": [
       "        density  viscosity  conductance        pH  nitrates  phosphates  \\\n",
       "class                                                                     \n",
       "1.0    0.995833   7.318568     0.656681  6.942877  0.387524    0.305029   \n",
       "2.0    0.994604   7.184028     0.632401  6.968609  0.312525    0.323112   \n",
       "3.0    0.993236   7.124821     0.638141  7.091219  0.288559    0.338791   \n",
       "4.0    0.995617   7.734615     0.718318  7.229395  0.531154    0.260769   \n",
       "5.0    0.994783   7.199383     0.628913  7.051583  0.441204    0.267286   \n",
       "6.0    0.992565   6.828169     0.658506  7.075954  0.285493    0.328094   \n",
       "7.0    0.990075   7.000000     0.708704  7.724555  0.305000    0.370000   \n",
       "\n",
       "       chlorides  sulphates  organics    metals  isotope_diversity  \n",
       "class                                                               \n",
       "1.0     0.063908   0.525303  5.800449  3.184686           9.855390  \n",
       "2.0     0.053672   0.533181  5.564129  3.261561          10.560568  \n",
       "3.0     0.045659   0.552560  4.769649  3.276710          11.358614  \n",
       "4.0     0.064885   0.491154  3.431612  2.953070          10.384260  \n",
       "5.0     0.055025   0.502407  3.983212  2.686588          10.295802  \n",
       "6.0     0.041627   0.511268  5.397450  3.405506          11.698534  \n",
       "7.0     0.029500   0.490000  8.924786  3.487732          12.625000  "
      ]
     },
     "execution_count": 58,
     "metadata": {},
     "output_type": "execute_result"
    }
   ],
   "source": [
    "finaldata.groupby(\"class\").agg(\"mean\")"
   ]
  },
  {
   "cell_type": "code",
   "execution_count": 60,
   "metadata": {},
   "outputs": [],
   "source": [
    "X = finaldata.loc[:,finaldata.columns != 'class']\n",
    "y = finaldata['class']"
   ]
  },
  {
   "cell_type": "code",
   "execution_count": 93,
   "metadata": {},
   "outputs": [
    {
     "data": {
      "text/plain": [
       "7"
      ]
     },
     "execution_count": 93,
     "metadata": {},
     "output_type": "execute_result"
    }
   ],
   "source": [
    "y.nunique()"
   ]
  },
  {
   "cell_type": "code",
   "execution_count": 61,
   "metadata": {},
   "outputs": [],
   "source": [
    "# creating the train test split usually\n",
    "from sklearn.model_selection import train_test_split\n",
    "X_train, X_test, y_train, y_test = train_test_split(X, y, test_size=0.30, random_state=42)"
   ]
  },
  {
   "cell_type": "code",
   "execution_count": 62,
   "metadata": {},
   "outputs": [
    {
     "data": {
      "text/plain": [
       "Index(['density', 'viscosity', 'conductance', 'pH', 'nitrates', 'phosphates',\n",
       "       'chlorides', 'sulphates', 'organics', 'metals', 'isotope_diversity'],\n",
       "      dtype='object')"
      ]
     },
     "execution_count": 62,
     "metadata": {},
     "output_type": "execute_result"
    }
   ],
   "source": [
    "X_train.columns"
   ]
  },
  {
   "cell_type": "code",
   "execution_count": 65,
   "metadata": {},
   "outputs": [],
   "source": [
    "from sklearn.ensemble import RandomForestClassifier\n",
    "from sklearn.metrics import accuracy_score\n",
    "from sklearn.metrics import fbeta_score"
   ]
  },
  {
   "cell_type": "code",
   "execution_count": 66,
   "metadata": {},
   "outputs": [],
   "source": [
    "# Instantiate\n",
    "model = RandomForestClassifier()"
   ]
  },
  {
   "cell_type": "code",
   "execution_count": 67,
   "metadata": {},
   "outputs": [
    {
     "data": {
      "text/plain": [
       "RandomForestClassifier(bootstrap=True, ccp_alpha=0.0, class_weight=None,\n",
       "                       criterion='gini', max_depth=None, max_features='auto',\n",
       "                       max_leaf_nodes=None, max_samples=None,\n",
       "                       min_impurity_decrease=0.0, min_impurity_split=None,\n",
       "                       min_samples_leaf=1, min_samples_split=2,\n",
       "                       min_weight_fraction_leaf=0.0, n_estimators=100,\n",
       "                       n_jobs=None, oob_score=False, random_state=None,\n",
       "                       verbose=0, warm_start=False)"
      ]
     },
     "execution_count": 67,
     "metadata": {},
     "output_type": "execute_result"
    }
   ],
   "source": [
    "# Fit or train\n",
    "model.fit(X_train,y_train)"
   ]
  },
  {
   "cell_type": "code",
   "execution_count": 68,
   "metadata": {},
   "outputs": [],
   "source": [
    "# Predict the yvalue\n",
    "y_pred = model.predict(X_test)"
   ]
  },
  {
   "cell_type": "code",
   "execution_count": 73,
   "metadata": {},
   "outputs": [
    {
     "name": "stdout",
     "output_type": "stream",
     "text": [
      "The accuracy score of RandomForestClassifier model is 0.6333333333333333\n"
     ]
    },
    {
     "data": {
      "text/plain": [
       "array([3., 1., 1., ..., 2., 2., 3.])"
      ]
     },
     "execution_count": 73,
     "metadata": {},
     "output_type": "execute_result"
    }
   ],
   "source": [
    "# Evaluate\n",
    "print(\"The accuracy score of RandomForestClassifier model is %s\" %(accuracy_score(y_test, y_pred)))\n",
    "y_pred\n",
    "#print(\"The fbeta score of RandomForestClassifier model is %s\" %(fbeta_score(y_test, y_pred, beta = 1)))"
   ]
  },
  {
   "cell_type": "code",
   "execution_count": 71,
   "metadata": {},
   "outputs": [
    {
     "name": "stdout",
     "output_type": "stream",
     "text": [
      "Accuracy: 0.658 (0.010)\n"
     ]
    }
   ],
   "source": [
    "from numpy import mean\n",
    "from numpy import std\n",
    "from sklearn.datasets import make_classification\n",
    "from sklearn.model_selection import KFold\n",
    "from sklearn.model_selection import cross_val_score\n",
    "from sklearn.linear_model import LogisticRegression\n",
    "# create dataset\n",
    "#X, y = make_classification(n_samples=100, n_features=20, n_informative=15, n_redundant=5, random_state=1)\n",
    "X1 = finaldata.loc[:,finaldata.columns != 'class']\n",
    "y1 = finaldata['class']\n",
    "# prepare the cross-validation procedure\n",
    "cv = KFold(n_splits=10, random_state=1, shuffle=True)\n",
    "# create model\n",
    "model = RandomForestClassifier()\n",
    "# evaluate model\n",
    "scores = cross_val_score(model, X1, y1, scoring='accuracy', cv=cv, n_jobs=-1)\n",
    "# report performance\n",
    "print('Accuracy: %.3f (%.3f)' % (mean(scores), std(scores)))"
   ]
  },
  {
   "cell_type": "code",
   "execution_count": null,
   "metadata": {},
   "outputs": [],
   "source": [
    "from sklearn.preprocessing import StandardScaler\n",
    "scaler = StandardScaler() \n",
    "#data_scaled = scaler.fit_transform(data)\n",
    "model.fit(X_train,y_train)\n",
    "y_pred = model.predict(X_test)\n",
    "print(\"The accuracy score of RandomForestClassifier model is %s\" %(accuracy_score(y_test, y_pred)))"
   ]
  },
  {
   "cell_type": "code",
   "execution_count": 74,
   "metadata": {},
   "outputs": [
    {
     "name": "stdout",
     "output_type": "stream",
     "text": [
      "<class 'pandas.core.frame.DataFrame'>\n",
      "RangeIndex: 1497 entries, 0 to 1496\n",
      "Data columns (total 13 columns):\n",
      "sample_id            1497 non-null int64\n",
      "density              1428 non-null float64\n",
      "viscosity            1458 non-null float64\n",
      "conductance          1497 non-null float64\n",
      "spectrum             1497 non-null object\n",
      "pH                   1497 non-null float64\n",
      "nitrates             1461 non-null float64\n",
      "phosphates           1497 non-null float64\n",
      "chlorides            1468 non-null float64\n",
      "sulphates            1449 non-null float64\n",
      "organics             1497 non-null float64\n",
      "metals               1462 non-null float64\n",
      "isotope_diversity    1497 non-null float64\n",
      "dtypes: float64(11), int64(1), object(1)\n",
      "memory usage: 152.2+ KB\n"
     ]
    }
   ],
   "source": [
    "testdata.info()"
   ]
  },
  {
   "cell_type": "code",
   "execution_count": null,
   "metadata": {},
   "outputs": [],
   "source": []
  },
  {
   "cell_type": "code",
   "execution_count": null,
   "metadata": {},
   "outputs": [],
   "source": []
  },
  {
   "cell_type": "code",
   "execution_count": 75,
   "metadata": {},
   "outputs": [
    {
     "name": "stdout",
     "output_type": "stream",
     "text": [
      "<class 'pandas.core.frame.DataFrame'>\n",
      "RangeIndex: 1497 entries, 0 to 1496\n",
      "Data columns (total 12 columns):\n",
      "sample_id            1497 non-null float64\n",
      "density              1497 non-null float64\n",
      "viscosity            1497 non-null float64\n",
      "conductance          1497 non-null float64\n",
      "pH                   1497 non-null float64\n",
      "nitrates             1497 non-null float64\n",
      "phosphates           1497 non-null float64\n",
      "chlorides            1497 non-null float64\n",
      "sulphates            1497 non-null float64\n",
      "organics             1497 non-null float64\n",
      "metals               1497 non-null float64\n",
      "isotope_diversity    1497 non-null float64\n",
      "dtypes: float64(12)\n",
      "memory usage: 140.5 KB\n"
     ]
    }
   ],
   "source": [
    "filltest = testdata.select_dtypes(exclude=[\"object\"])\n",
    "from sklearn.impute import SimpleImputer\n",
    "imputer = SimpleImputer(strategy=\"median\")\n",
    "imputer.fit(filltest)\n",
    "X = imputer.transform(filltest)\n",
    "finaltest = pd.DataFrame(X, columns=filltest.columns,index=filltest.index)\n",
    "finaltest.info()"
   ]
  },
  {
   "cell_type": "code",
   "execution_count": 80,
   "metadata": {},
   "outputs": [
    {
     "data": {
      "text/html": [
       "<div>\n",
       "<style scoped>\n",
       "    .dataframe tbody tr th:only-of-type {\n",
       "        vertical-align: middle;\n",
       "    }\n",
       "\n",
       "    .dataframe tbody tr th {\n",
       "        vertical-align: top;\n",
       "    }\n",
       "\n",
       "    .dataframe thead th {\n",
       "        text-align: right;\n",
       "    }\n",
       "</style>\n",
       "<table border=\"1\" class=\"dataframe\">\n",
       "  <thead>\n",
       "    <tr style=\"text-align: right;\">\n",
       "      <th></th>\n",
       "      <th>sample_id</th>\n",
       "      <th>density</th>\n",
       "      <th>viscosity</th>\n",
       "      <th>conductance</th>\n",
       "      <th>pH</th>\n",
       "      <th>nitrates</th>\n",
       "      <th>phosphates</th>\n",
       "      <th>chlorides</th>\n",
       "      <th>sulphates</th>\n",
       "      <th>organics</th>\n",
       "      <th>metals</th>\n",
       "      <th>isotope_diversity</th>\n",
       "    </tr>\n",
       "  </thead>\n",
       "  <tbody>\n",
       "    <tr>\n",
       "      <th>0</th>\n",
       "      <td>6.0</td>\n",
       "      <td>0.99402</td>\n",
       "      <td>5.4</td>\n",
       "      <td>0.926185</td>\n",
       "      <td>9.808054</td>\n",
       "      <td>0.30</td>\n",
       "      <td>0.09</td>\n",
       "      <td>0.089</td>\n",
       "      <td>0.56</td>\n",
       "      <td>1.7</td>\n",
       "      <td>2.772589</td>\n",
       "      <td>11.6</td>\n",
       "    </tr>\n",
       "    <tr>\n",
       "      <th>1</th>\n",
       "      <td>9.0</td>\n",
       "      <td>0.99480</td>\n",
       "      <td>7.3</td>\n",
       "      <td>0.478675</td>\n",
       "      <td>8.191010</td>\n",
       "      <td>0.39</td>\n",
       "      <td>0.31</td>\n",
       "      <td>0.074</td>\n",
       "      <td>0.51</td>\n",
       "      <td>2.4</td>\n",
       "      <td>2.197225</td>\n",
       "      <td>9.4</td>\n",
       "    </tr>\n",
       "    <tr>\n",
       "      <th>2</th>\n",
       "      <td>11.0</td>\n",
       "      <td>0.99970</td>\n",
       "      <td>6.8</td>\n",
       "      <td>0.971762</td>\n",
       "      <td>8.501980</td>\n",
       "      <td>0.69</td>\n",
       "      <td>0.00</td>\n",
       "      <td>0.124</td>\n",
       "      <td>0.72</td>\n",
       "      <td>5.6</td>\n",
       "      <td>3.044522</td>\n",
       "      <td>10.2</td>\n",
       "    </tr>\n",
       "    <tr>\n",
       "      <th>3</th>\n",
       "      <td>12.0</td>\n",
       "      <td>0.99480</td>\n",
       "      <td>8.2</td>\n",
       "      <td>0.999759</td>\n",
       "      <td>8.066622</td>\n",
       "      <td>0.28</td>\n",
       "      <td>0.60</td>\n",
       "      <td>0.104</td>\n",
       "      <td>0.68</td>\n",
       "      <td>3.0</td>\n",
       "      <td>2.302585</td>\n",
       "      <td>10.6</td>\n",
       "    </tr>\n",
       "    <tr>\n",
       "      <th>4</th>\n",
       "      <td>13.0</td>\n",
       "      <td>0.99464</td>\n",
       "      <td>6.1</td>\n",
       "      <td>0.836948</td>\n",
       "      <td>7.880040</td>\n",
       "      <td>0.34</td>\n",
       "      <td>0.25</td>\n",
       "      <td>0.084</td>\n",
       "      <td>0.44</td>\n",
       "      <td>1.8</td>\n",
       "      <td>1.386294</td>\n",
       "      <td>10.1</td>\n",
       "    </tr>\n",
       "  </tbody>\n",
       "</table>\n",
       "</div>"
      ],
      "text/plain": [
       "   sample_id  density  viscosity  conductance        pH  nitrates  phosphates  \\\n",
       "0        6.0  0.99402        5.4     0.926185  9.808054      0.30        0.09   \n",
       "1        9.0  0.99480        7.3     0.478675  8.191010      0.39        0.31   \n",
       "2       11.0  0.99970        6.8     0.971762  8.501980      0.69        0.00   \n",
       "3       12.0  0.99480        8.2     0.999759  8.066622      0.28        0.60   \n",
       "4       13.0  0.99464        6.1     0.836948  7.880040      0.34        0.25   \n",
       "\n",
       "   chlorides  sulphates  organics    metals  isotope_diversity  \n",
       "0      0.089       0.56       1.7  2.772589               11.6  \n",
       "1      0.074       0.51       2.4  2.197225                9.4  \n",
       "2      0.124       0.72       5.6  3.044522               10.2  \n",
       "3      0.104       0.68       3.0  2.302585               10.6  \n",
       "4      0.084       0.44       1.8  1.386294               10.1  "
      ]
     },
     "execution_count": 80,
     "metadata": {},
     "output_type": "execute_result"
    }
   ],
   "source": [
    "filltest.head()\n",
    "finaltest.head()"
   ]
  },
  {
   "cell_type": "code",
   "execution_count": 77,
   "metadata": {},
   "outputs": [],
   "source": [
    "finaltestdata=finaltest.drop([\"sample_id\"],axis=1)"
   ]
  },
  {
   "cell_type": "code",
   "execution_count": 78,
   "metadata": {},
   "outputs": [
    {
     "data": {
      "text/html": [
       "<div>\n",
       "<style scoped>\n",
       "    .dataframe tbody tr th:only-of-type {\n",
       "        vertical-align: middle;\n",
       "    }\n",
       "\n",
       "    .dataframe tbody tr th {\n",
       "        vertical-align: top;\n",
       "    }\n",
       "\n",
       "    .dataframe thead th {\n",
       "        text-align: right;\n",
       "    }\n",
       "</style>\n",
       "<table border=\"1\" class=\"dataframe\">\n",
       "  <thead>\n",
       "    <tr style=\"text-align: right;\">\n",
       "      <th></th>\n",
       "      <th>density</th>\n",
       "      <th>viscosity</th>\n",
       "      <th>conductance</th>\n",
       "      <th>pH</th>\n",
       "      <th>nitrates</th>\n",
       "      <th>phosphates</th>\n",
       "      <th>chlorides</th>\n",
       "      <th>sulphates</th>\n",
       "      <th>organics</th>\n",
       "      <th>metals</th>\n",
       "      <th>isotope_diversity</th>\n",
       "    </tr>\n",
       "  </thead>\n",
       "  <tbody>\n",
       "    <tr>\n",
       "      <th>0</th>\n",
       "      <td>0.99402</td>\n",
       "      <td>5.4</td>\n",
       "      <td>0.926185</td>\n",
       "      <td>9.808054</td>\n",
       "      <td>0.30</td>\n",
       "      <td>0.09</td>\n",
       "      <td>0.089</td>\n",
       "      <td>0.56</td>\n",
       "      <td>1.7</td>\n",
       "      <td>2.772589</td>\n",
       "      <td>11.6</td>\n",
       "    </tr>\n",
       "    <tr>\n",
       "      <th>1</th>\n",
       "      <td>0.99480</td>\n",
       "      <td>7.3</td>\n",
       "      <td>0.478675</td>\n",
       "      <td>8.191010</td>\n",
       "      <td>0.39</td>\n",
       "      <td>0.31</td>\n",
       "      <td>0.074</td>\n",
       "      <td>0.51</td>\n",
       "      <td>2.4</td>\n",
       "      <td>2.197225</td>\n",
       "      <td>9.4</td>\n",
       "    </tr>\n",
       "    <tr>\n",
       "      <th>2</th>\n",
       "      <td>0.99970</td>\n",
       "      <td>6.8</td>\n",
       "      <td>0.971762</td>\n",
       "      <td>8.501980</td>\n",
       "      <td>0.69</td>\n",
       "      <td>0.00</td>\n",
       "      <td>0.124</td>\n",
       "      <td>0.72</td>\n",
       "      <td>5.6</td>\n",
       "      <td>3.044522</td>\n",
       "      <td>10.2</td>\n",
       "    </tr>\n",
       "    <tr>\n",
       "      <th>3</th>\n",
       "      <td>0.99480</td>\n",
       "      <td>8.2</td>\n",
       "      <td>0.999759</td>\n",
       "      <td>8.066622</td>\n",
       "      <td>0.28</td>\n",
       "      <td>0.60</td>\n",
       "      <td>0.104</td>\n",
       "      <td>0.68</td>\n",
       "      <td>3.0</td>\n",
       "      <td>2.302585</td>\n",
       "      <td>10.6</td>\n",
       "    </tr>\n",
       "    <tr>\n",
       "      <th>4</th>\n",
       "      <td>0.99464</td>\n",
       "      <td>6.1</td>\n",
       "      <td>0.836948</td>\n",
       "      <td>7.880040</td>\n",
       "      <td>0.34</td>\n",
       "      <td>0.25</td>\n",
       "      <td>0.084</td>\n",
       "      <td>0.44</td>\n",
       "      <td>1.8</td>\n",
       "      <td>1.386294</td>\n",
       "      <td>10.1</td>\n",
       "    </tr>\n",
       "  </tbody>\n",
       "</table>\n",
       "</div>"
      ],
      "text/plain": [
       "   density  viscosity  conductance        pH  nitrates  phosphates  chlorides  \\\n",
       "0  0.99402        5.4     0.926185  9.808054      0.30        0.09      0.089   \n",
       "1  0.99480        7.3     0.478675  8.191010      0.39        0.31      0.074   \n",
       "2  0.99970        6.8     0.971762  8.501980      0.69        0.00      0.124   \n",
       "3  0.99480        8.2     0.999759  8.066622      0.28        0.60      0.104   \n",
       "4  0.99464        6.1     0.836948  7.880040      0.34        0.25      0.084   \n",
       "\n",
       "   sulphates  organics    metals  isotope_diversity  \n",
       "0       0.56       1.7  2.772589               11.6  \n",
       "1       0.51       2.4  2.197225                9.4  \n",
       "2       0.72       5.6  3.044522               10.2  \n",
       "3       0.68       3.0  2.302585               10.6  \n",
       "4       0.44       1.8  1.386294               10.1  "
      ]
     },
     "execution_count": 78,
     "metadata": {},
     "output_type": "execute_result"
    }
   ],
   "source": [
    "finaltestdata.head()"
   ]
  },
  {
   "cell_type": "code",
   "execution_count": 79,
   "metadata": {},
   "outputs": [
    {
     "data": {
      "text/plain": [
       "array([2., 1., 1., ..., 2., 2., 2.])"
      ]
     },
     "execution_count": 79,
     "metadata": {},
     "output_type": "execute_result"
    }
   ],
   "source": [
    "X2 = finaldata.loc[:,finaldata.columns != 'class']\n",
    "y2 = finaldata['class']\n",
    "model = RandomForestClassifier()\n",
    "model.fit(X2,y2)\n",
    "y_pred2 = model.predict(finaltestdata)\n",
    "y_pred2"
   ]
  },
  {
   "cell_type": "code",
   "execution_count": 86,
   "metadata": {},
   "outputs": [],
   "source": [
    "df_output=pd.DataFrame(y_pred2)\n",
    "#df_output['sample_number']=finaltest[\"sample_id\"]\n",
    "#df_output=pd.concat([df_output,finaltestdata])\n",
    "df_output[0] = df_output[0].map({1.0:'Class A', 2.0:'Class B',3.0:'Class C',4.0:'Class Z1',5.0:'Class Z2',6.0:'Class X1',7.0:'Class X2'})\n",
    " \n",
    "df_output.to_csv('final_output.csv',index=False)"
   ]
  },
  {
   "cell_type": "code",
   "execution_count": 94,
   "metadata": {},
   "outputs": [
    {
     "data": {
      "text/plain": [
       "7"
      ]
     },
     "execution_count": 94,
     "metadata": {},
     "output_type": "execute_result"
    }
   ],
   "source": [
    "X3 = finaldata.loc[:,finaldata.columns != 'class']\n",
    "y3 = finaldata['class']\n",
    "y3.nunique()"
   ]
  },
  {
   "cell_type": "code",
   "execution_count": 96,
   "metadata": {},
   "outputs": [
    {
     "name": "stdout",
     "output_type": "stream",
     "text": [
      "Accuracy: 0.613 (0.003)\n"
     ]
    }
   ],
   "source": [
    "\n",
    "from sklearn.preprocessing import StandardScaler\n",
    "scaler = StandardScaler() \n",
    "X3_scaled = scaler.fit_transform(X3)\n",
    "finaltestdata_scaled =scaler.transform(finaltestdata)\n",
    "from sklearn.model_selection import StratifiedKFold\n",
    "\n",
    "# prepare the cross-validation procedure\n",
    "cv = StratifiedKFold(n_splits=2, random_state=1, shuffle=True)\n",
    "# create model\n",
    "model3 = RandomForestClassifier()\n",
    "# evaluate model\n",
    "scores = cross_val_score(model, X3_scaled, y3, scoring='accuracy', cv=cv, n_jobs=-1)\n",
    "# report performance\n",
    "print('Accuracy: %.3f (%.3f)' % (mean(scores), std(scores)))"
   ]
  },
  {
   "cell_type": "code",
   "execution_count": 99,
   "metadata": {},
   "outputs": [
    {
     "name": "stdout",
     "output_type": "stream",
     "text": [
      "Accuracy: 0.658 (0.020)\n"
     ]
    }
   ],
   "source": [
    "X1 = finaldata.loc[:,finaldata.columns != 'class']\n",
    "y1 = finaldata['class']\n",
    "# prepare the cross-validation procedure\n",
    "cv = KFold(n_splits=20, random_state=1, shuffle=True)\n",
    "# create model\n",
    "model4 = RandomForestClassifier()\n",
    "# evaluate model\n",
    "scores = cross_val_score(model, X1, y1, scoring='accuracy', cv=cv, n_jobs=-1)\n",
    "# report performance\n",
    "print('Accuracy: %.3f (%.3f)' % (mean(scores), std(scores)))"
   ]
  },
  {
   "cell_type": "code",
   "execution_count": 101,
   "metadata": {},
   "outputs": [
    {
     "name": "stdout",
     "output_type": "stream",
     "text": [
      "Accuracy: 0.666 (0.019)\n"
     ]
    }
   ],
   "source": [
    "X5 = finaldata.loc[:,finaldata.columns != 'class']\n",
    "y5 = finaldata['class']\n",
    "\n",
    "from sklearn.preprocessing import StandardScaler\n",
    "scaler = StandardScaler() \n",
    "X5_scaled = scaler.fit_transform(X5)\n",
    "finaltestdata_scaled =scaler.transform(finaltestdata)\n",
    "# prepare the cross-validation procedure\n",
    "cv = KFold(n_splits=20, random_state=1, shuffle=True)\n",
    "# create model\n",
    "model5 = RandomForestClassifier()\n",
    "# evaluate model\n",
    "scores = cross_val_score(model5, X5_scaled, y5, scoring='accuracy', cv=cv, n_jobs=-1)\n",
    "# report performance\n",
    "print('Accuracy: %.3f (%.3f)' % (mean(scores), std(scores)))"
   ]
  },
  {
   "cell_type": "code",
   "execution_count": 107,
   "metadata": {},
   "outputs": [
    {
     "data": {
      "text/plain": [
       "array([2., 1., 1., ..., 3., 2., 2.])"
      ]
     },
     "execution_count": 107,
     "metadata": {},
     "output_type": "execute_result"
    }
   ],
   "source": [
    "model5.fit(X5,y5)\n",
    "y_pred3 = model5.predict(finaltestdata)\n",
    "y_pred3"
   ]
  },
  {
   "cell_type": "code",
   "execution_count": 109,
   "metadata": {},
   "outputs": [],
   "source": [
    "df_output2=pd.DataFrame(y_pred3)\n",
    "#df_output['sample_number']=finaltest[\"sample_id\"]\n",
    "#df_output=pd.concat([df_output,finaltestdata])\n",
    "df_output2[0] = df_output2[0].map({1.0:'Class A', 2.0:'Class B',3.0:'Class C',4.0:'Class Z1',5.0:'Class Z2',6.0:'Class X1',7.0:'Class X2'})\n",
    " \n",
    "df_output2.to_csv('final_output2.csv',index=False)"
   ]
  },
  {
   "cell_type": "code",
   "execution_count": 102,
   "metadata": {},
   "outputs": [
    {
     "name": "stdout",
     "output_type": "stream",
     "text": [
      "The accuracy score of RandomForestClassifier model is 0.516\n"
     ]
    },
    {
     "name": "stderr",
     "output_type": "stream",
     "text": [
      "/anaconda/envs/azureml_py36/lib/python3.6/site-packages/sklearn/linear_model/_logistic.py:940: ConvergenceWarning: lbfgs failed to converge (status=1):\n",
      "STOP: TOTAL NO. of ITERATIONS REACHED LIMIT.\n",
      "\n",
      "Increase the number of iterations (max_iter) or scale the data as shown in:\n",
      "    https://scikit-learn.org/stable/modules/preprocessing.html\n",
      "Please also refer to the documentation for alternative solver options:\n",
      "    https://scikit-learn.org/stable/modules/linear_model.html#logistic-regression\n",
      "  extra_warning_msg=_LOGISTIC_SOLVER_CONVERGENCE_MSG)\n"
     ]
    },
    {
     "data": {
      "text/plain": [
       "array([2., 2., 1., ..., 2., 1., 2.])"
      ]
     },
     "execution_count": 102,
     "metadata": {},
     "output_type": "execute_result"
    }
   ],
   "source": [
    "from sklearn.linear_model import LogisticRegression\n",
    "model8 = LogisticRegression()\n",
    "model8.fit(X_train,y_train)\n",
    "y_pred = model8.predict(X_test)\n",
    "print(\"The accuracy score of RandomForestClassifier model is %s\" %(accuracy_score(y_test, y_pred)))\n",
    "y_pred"
   ]
  },
  {
   "cell_type": "code",
   "execution_count": 103,
   "metadata": {},
   "outputs": [
    {
     "name": "stdout",
     "output_type": "stream",
     "text": [
      "The accuracy score of RandomForestClassifier model is 0.464\n"
     ]
    },
    {
     "data": {
      "text/plain": [
       "array([3., 2., 1., ..., 2., 1., 3.])"
      ]
     },
     "execution_count": 103,
     "metadata": {},
     "output_type": "execute_result"
    }
   ],
   "source": [
    "from sklearn.naive_bayes import GaussianNB\n",
    "model9 = GaussianNB()\n",
    "model9.fit(X_train,y_train)\n",
    "y_pred = model9.predict(X_test)\n",
    "print(\"The accuracy score of RandomForestClassifier model is %s\" %(accuracy_score(y_test, y_pred)))\n",
    "y_pred"
   ]
  },
  {
   "cell_type": "code",
   "execution_count": 106,
   "metadata": {},
   "outputs": [
    {
     "name": "stdout",
     "output_type": "stream",
     "text": [
      "The accuracy score of RandomForestClassifier model is 0.5113333333333333\n"
     ]
    },
    {
     "data": {
      "text/plain": [
       "array([2., 1., 1., ..., 1., 2., 2.])"
      ]
     },
     "execution_count": 106,
     "metadata": {},
     "output_type": "execute_result"
    }
   ],
   "source": [
    "from sklearn.svm import SVC\n",
    "model10 = SVC()\n",
    "model10.fit(X_train,y_train)\n",
    "y_pred = model10.predict(X_test)\n",
    "print(\"The accuracy score of RandomForestClassifier model is %s\" %(accuracy_score(y_test, y_pred)))\n",
    "y_pred"
   ]
  },
  {
   "cell_type": "code",
   "execution_count": null,
   "metadata": {},
   "outputs": [],
   "source": [
    "X7 = finaldata.loc[:,finaldata.columns != 'class']\n",
    "y7 = finaldata['class']\n",
    "\n",
    "from sklearn.preprocessing import StandardScaler\n",
    "scaler = StandardScaler() \n",
    "X7_scaled = scaler.fit_transform(X7)\n",
    "finaltestdata_scaled =scaler.transform(finaltestdata)\n",
    "# prepare the cross-validation procedure\n",
    "cv = KFold(n_splits=20, random_state=1, shuffle=True)\n",
    "# create model\n",
    "model7 = RandomForestClassifier()\n",
    "# evaluate model\n",
    "scores = cross_val_score(model7, X7_scaled, y7, scoring='accuracy', cv=cv, n_jobs=-1)\n",
    "# report performance\n",
    "print('Accuracy: %.3f (%.3f)' % (mean(scores), std(scores)))"
   ]
  }
 ],
 "metadata": {
  "kernelspec": {
   "display_name": "Python 3",
   "language": "python",
   "name": "python3"
  },
  "language_info": {
   "codemirror_mode": {
    "name": "ipython",
    "version": 3
   },
   "file_extension": ".py",
   "mimetype": "text/x-python",
   "name": "python",
   "nbconvert_exporter": "python",
   "pygments_lexer": "ipython3",
   "version": "3.6.9"
  }
 },
 "nbformat": 4,
 "nbformat_minor": 4
}
