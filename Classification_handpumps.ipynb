{
 "cells": [
  {
   "cell_type": "code",
   "execution_count": 1,
   "metadata": {},
   "outputs": [],
   "source": [
    "# importing basic packages\n",
    "import pandas as pd\n",
    "import numpy as np"
   ]
  },
  {
   "cell_type": "markdown",
   "metadata": {},
   "source": [
    "* **Data Pre-processing :**\n",
    "    * Step 1 : Creating Test, Validation and Train splits\n",
    "        * Look for % of row split by response variable\n",
    "        * Correct class imbalance if exists\n",
    "        * Randomize the dataset and apply split method to create train, validation and test datasets\n"
   ]
  },
  {
   "cell_type": "code",
   "execution_count": 2,
   "metadata": {},
   "outputs": [],
   "source": [
    "df_full = pd.read_csv('hand_pump.csv')"
   ]
  },
  {
   "cell_type": "code",
   "execution_count": 3,
   "metadata": {},
   "outputs": [
    {
     "data": {
      "text/plain": [
       "(59400, 42)"
      ]
     },
     "execution_count": 3,
     "metadata": {},
     "output_type": "execute_result"
    }
   ],
   "source": [
    "df_full.shape"
   ]
  },
  {
   "cell_type": "code",
   "execution_count": 4,
   "metadata": {},
   "outputs": [
    {
     "data": {
      "text/html": [
       "<div>\n",
       "<style scoped>\n",
       "    .dataframe tbody tr th:only-of-type {\n",
       "        vertical-align: middle;\n",
       "    }\n",
       "\n",
       "    .dataframe tbody tr th {\n",
       "        vertical-align: top;\n",
       "    }\n",
       "\n",
       "    .dataframe thead th {\n",
       "        text-align: right;\n",
       "    }\n",
       "</style>\n",
       "<table border=\"1\" class=\"dataframe\">\n",
       "  <thead>\n",
       "    <tr style=\"text-align: right;\">\n",
       "      <th></th>\n",
       "      <th>Unnamed: 0</th>\n",
       "      <th>id</th>\n",
       "      <th>amount_tsh</th>\n",
       "      <th>date_recorded</th>\n",
       "      <th>funder</th>\n",
       "      <th>gps_height</th>\n",
       "      <th>installer</th>\n",
       "      <th>longitude</th>\n",
       "      <th>latitude</th>\n",
       "      <th>wpt_name</th>\n",
       "      <th>...</th>\n",
       "      <th>water_quality</th>\n",
       "      <th>quality_group</th>\n",
       "      <th>quantity</th>\n",
       "      <th>quantity_group</th>\n",
       "      <th>source</th>\n",
       "      <th>source_type</th>\n",
       "      <th>source_class</th>\n",
       "      <th>waterpoint_type</th>\n",
       "      <th>waterpoint_type_group</th>\n",
       "      <th>status_group</th>\n",
       "    </tr>\n",
       "  </thead>\n",
       "  <tbody>\n",
       "    <tr>\n",
       "      <th>0</th>\n",
       "      <td>0</td>\n",
       "      <td>69572</td>\n",
       "      <td>6000.0</td>\n",
       "      <td>2011-03-14</td>\n",
       "      <td>Roman</td>\n",
       "      <td>1390</td>\n",
       "      <td>Roman</td>\n",
       "      <td>34.938093</td>\n",
       "      <td>-9.856322</td>\n",
       "      <td>none</td>\n",
       "      <td>...</td>\n",
       "      <td>soft</td>\n",
       "      <td>good</td>\n",
       "      <td>enough</td>\n",
       "      <td>enough</td>\n",
       "      <td>spring</td>\n",
       "      <td>spring</td>\n",
       "      <td>groundwater</td>\n",
       "      <td>communal standpipe</td>\n",
       "      <td>communal standpipe</td>\n",
       "      <td>functional</td>\n",
       "    </tr>\n",
       "    <tr>\n",
       "      <th>1</th>\n",
       "      <td>1</td>\n",
       "      <td>8776</td>\n",
       "      <td>0.0</td>\n",
       "      <td>2013-03-06</td>\n",
       "      <td>Grumeti</td>\n",
       "      <td>1399</td>\n",
       "      <td>GRUMETI</td>\n",
       "      <td>34.698766</td>\n",
       "      <td>-2.147466</td>\n",
       "      <td>Zahanati</td>\n",
       "      <td>...</td>\n",
       "      <td>soft</td>\n",
       "      <td>good</td>\n",
       "      <td>insufficient</td>\n",
       "      <td>insufficient</td>\n",
       "      <td>rainwater harvesting</td>\n",
       "      <td>rainwater harvesting</td>\n",
       "      <td>surface</td>\n",
       "      <td>communal standpipe</td>\n",
       "      <td>communal standpipe</td>\n",
       "      <td>functional</td>\n",
       "    </tr>\n",
       "    <tr>\n",
       "      <th>2</th>\n",
       "      <td>2</td>\n",
       "      <td>34310</td>\n",
       "      <td>25.0</td>\n",
       "      <td>2013-02-25</td>\n",
       "      <td>Lottery Club</td>\n",
       "      <td>686</td>\n",
       "      <td>World vision</td>\n",
       "      <td>37.460664</td>\n",
       "      <td>-3.821329</td>\n",
       "      <td>Kwa Mahundi</td>\n",
       "      <td>...</td>\n",
       "      <td>soft</td>\n",
       "      <td>good</td>\n",
       "      <td>enough</td>\n",
       "      <td>enough</td>\n",
       "      <td>dam</td>\n",
       "      <td>dam</td>\n",
       "      <td>surface</td>\n",
       "      <td>communal standpipe multiple</td>\n",
       "      <td>communal standpipe</td>\n",
       "      <td>functional</td>\n",
       "    </tr>\n",
       "    <tr>\n",
       "      <th>3</th>\n",
       "      <td>3</td>\n",
       "      <td>67743</td>\n",
       "      <td>0.0</td>\n",
       "      <td>2013-01-28</td>\n",
       "      <td>Unicef</td>\n",
       "      <td>263</td>\n",
       "      <td>UNICEF</td>\n",
       "      <td>38.486161</td>\n",
       "      <td>-11.155298</td>\n",
       "      <td>Zahanati Ya Nanyumbu</td>\n",
       "      <td>...</td>\n",
       "      <td>soft</td>\n",
       "      <td>good</td>\n",
       "      <td>dry</td>\n",
       "      <td>dry</td>\n",
       "      <td>machine dbh</td>\n",
       "      <td>borehole</td>\n",
       "      <td>groundwater</td>\n",
       "      <td>communal standpipe multiple</td>\n",
       "      <td>communal standpipe</td>\n",
       "      <td>non functional</td>\n",
       "    </tr>\n",
       "    <tr>\n",
       "      <th>4</th>\n",
       "      <td>4</td>\n",
       "      <td>19728</td>\n",
       "      <td>0.0</td>\n",
       "      <td>2011-07-13</td>\n",
       "      <td>Action In A</td>\n",
       "      <td>0</td>\n",
       "      <td>Artisan</td>\n",
       "      <td>31.130847</td>\n",
       "      <td>-1.825359</td>\n",
       "      <td>Shuleni</td>\n",
       "      <td>...</td>\n",
       "      <td>soft</td>\n",
       "      <td>good</td>\n",
       "      <td>seasonal</td>\n",
       "      <td>seasonal</td>\n",
       "      <td>rainwater harvesting</td>\n",
       "      <td>rainwater harvesting</td>\n",
       "      <td>surface</td>\n",
       "      <td>communal standpipe</td>\n",
       "      <td>communal standpipe</td>\n",
       "      <td>functional</td>\n",
       "    </tr>\n",
       "  </tbody>\n",
       "</table>\n",
       "<p>5 rows × 42 columns</p>\n",
       "</div>"
      ],
      "text/plain": [
       "   Unnamed: 0     id  amount_tsh date_recorded        funder  gps_height  \\\n",
       "0           0  69572      6000.0    2011-03-14         Roman        1390   \n",
       "1           1   8776         0.0    2013-03-06       Grumeti        1399   \n",
       "2           2  34310        25.0    2013-02-25  Lottery Club         686   \n",
       "3           3  67743         0.0    2013-01-28        Unicef         263   \n",
       "4           4  19728         0.0    2011-07-13   Action In A           0   \n",
       "\n",
       "      installer  longitude   latitude              wpt_name  ...  \\\n",
       "0         Roman  34.938093  -9.856322                  none  ...   \n",
       "1       GRUMETI  34.698766  -2.147466              Zahanati  ...   \n",
       "2  World vision  37.460664  -3.821329           Kwa Mahundi  ...   \n",
       "3        UNICEF  38.486161 -11.155298  Zahanati Ya Nanyumbu  ...   \n",
       "4       Artisan  31.130847  -1.825359               Shuleni  ...   \n",
       "\n",
       "   water_quality quality_group      quantity quantity_group  \\\n",
       "0           soft          good        enough         enough   \n",
       "1           soft          good  insufficient   insufficient   \n",
       "2           soft          good        enough         enough   \n",
       "3           soft          good           dry            dry   \n",
       "4           soft          good      seasonal       seasonal   \n",
       "\n",
       "                 source           source_type source_class  \\\n",
       "0                spring                spring  groundwater   \n",
       "1  rainwater harvesting  rainwater harvesting      surface   \n",
       "2                   dam                   dam      surface   \n",
       "3           machine dbh              borehole  groundwater   \n",
       "4  rainwater harvesting  rainwater harvesting      surface   \n",
       "\n",
       "               waterpoint_type  waterpoint_type_group    status_group  \n",
       "0           communal standpipe     communal standpipe      functional  \n",
       "1           communal standpipe     communal standpipe      functional  \n",
       "2  communal standpipe multiple     communal standpipe      functional  \n",
       "3  communal standpipe multiple     communal standpipe  non functional  \n",
       "4           communal standpipe     communal standpipe      functional  \n",
       "\n",
       "[5 rows x 42 columns]"
      ]
     },
     "execution_count": 4,
     "metadata": {},
     "output_type": "execute_result"
    }
   ],
   "source": [
    "df_full.head()"
   ]
  },
  {
   "cell_type": "code",
   "execution_count": 5,
   "metadata": {},
   "outputs": [
    {
     "data": {
      "text/plain": [
       "functional                 32259\n",
       "non functional             22824\n",
       "functional needs repair     4317\n",
       "Name: status_group, dtype: int64"
      ]
     },
     "execution_count": 5,
     "metadata": {},
     "output_type": "execute_result"
    }
   ],
   "source": [
    "# checking for row count per level of response variable\n",
    "df_full['status_group'].value_counts()"
   ]
  },
  {
   "cell_type": "code",
   "execution_count": 6,
   "metadata": {},
   "outputs": [
    {
     "data": {
      "text/plain": [
       "7.267676767676767"
      ]
     },
     "execution_count": 6,
     "metadata": {},
     "output_type": "execute_result"
    }
   ],
   "source": [
    "100*4317/(4317+32259+22824)"
   ]
  },
  {
   "cell_type": "markdown",
   "metadata": {},
   "source": [
    "### Please note :\n",
    "* We see that the category **\"functional needs repair\"** is only 7% of total data\n",
    "* To treat this problem as a \"binary classification problem\", let's get rid of this category\n"
   ]
  },
  {
   "cell_type": "code",
   "execution_count": 7,
   "metadata": {},
   "outputs": [],
   "source": [
    "# creating a reduced dataset by removing rows containing the class = \"functional needs repair\"\n",
    "df_redc = df_full[df_full['status_group'] != 'functional needs repair']"
   ]
  },
  {
   "cell_type": "code",
   "execution_count": 8,
   "metadata": {},
   "outputs": [
    {
     "name": "stdout",
     "output_type": "stream",
     "text": [
      "<class 'pandas.core.frame.DataFrame'>\n",
      "Int64Index: 55083 entries, 0 to 59399\n",
      "Data columns (total 42 columns):\n",
      "Unnamed: 0               55083 non-null int64\n",
      "id                       55083 non-null int64\n",
      "amount_tsh               55083 non-null float64\n",
      "date_recorded            55083 non-null object\n",
      "funder                   51885 non-null object\n",
      "gps_height               55083 non-null int64\n",
      "installer                51868 non-null object\n",
      "longitude                55083 non-null float64\n",
      "latitude                 55083 non-null float64\n",
      "wpt_name                 55083 non-null object\n",
      "num_private              55083 non-null int64\n",
      "basin                    55083 non-null object\n",
      "subvillage               54713 non-null object\n",
      "region                   55083 non-null object\n",
      "region_code              55083 non-null int64\n",
      "district_code            55083 non-null int64\n",
      "lga                      55083 non-null object\n",
      "ward                     55083 non-null object\n",
      "population               55083 non-null int64\n",
      "public_meeting           51905 non-null object\n",
      "recorded_by              55083 non-null object\n",
      "scheme_management        51429 non-null object\n",
      "scheme_name              28921 non-null object\n",
      "permit                   52327 non-null object\n",
      "construction_year        55083 non-null int64\n",
      "extraction_type          55083 non-null object\n",
      "extraction_type_group    55083 non-null object\n",
      "extraction_type_class    55083 non-null object\n",
      "management               55083 non-null object\n",
      "management_group         55083 non-null object\n",
      "payment                  55083 non-null object\n",
      "payment_type             55083 non-null object\n",
      "water_quality            55083 non-null object\n",
      "quality_group            55083 non-null object\n",
      "quantity                 55083 non-null object\n",
      "quantity_group           55083 non-null object\n",
      "source                   55083 non-null object\n",
      "source_type              55083 non-null object\n",
      "source_class             55083 non-null object\n",
      "waterpoint_type          55083 non-null object\n",
      "waterpoint_type_group    55083 non-null object\n",
      "status_group             55083 non-null object\n",
      "dtypes: float64(3), int64(8), object(31)\n",
      "memory usage: 18.1+ MB\n"
     ]
    }
   ],
   "source": [
    "df_redc.info()"
   ]
  },
  {
   "cell_type": "code",
   "execution_count": 9,
   "metadata": {},
   "outputs": [
    {
     "data": {
      "text/plain": [
       "scheme_name              26162\n",
       "scheme_management         3654\n",
       "installer                 3215\n",
       "funder                    3198\n",
       "public_meeting            3178\n",
       "permit                    2756\n",
       "subvillage                 370\n",
       "ward                         0\n",
       "lga                          0\n",
       "district_code                0\n",
       "region_code                  0\n",
       "region                       0\n",
       "status_group                 0\n",
       "basin                        0\n",
       "population                   0\n",
       "wpt_name                     0\n",
       "latitude                     0\n",
       "longitude                    0\n",
       "gps_height                   0\n",
       "date_recorded                0\n",
       "amount_tsh                   0\n",
       "id                           0\n",
       "num_private                  0\n",
       "recorded_by                  0\n",
       "waterpoint_type_group        0\n",
       "construction_year            0\n",
       "waterpoint_type              0\n",
       "source_class                 0\n",
       "source_type                  0\n",
       "source                       0\n",
       "quantity_group               0\n",
       "quantity                     0\n",
       "quality_group                0\n",
       "water_quality                0\n",
       "payment_type                 0\n",
       "payment                      0\n",
       "management_group             0\n",
       "management                   0\n",
       "extraction_type_class        0\n",
       "extraction_type_group        0\n",
       "extraction_type              0\n",
       "Unnamed: 0                   0\n",
       "dtype: int64"
      ]
     },
     "execution_count": 9,
     "metadata": {},
     "output_type": "execute_result"
    }
   ],
   "source": [
    "df_redc.isnull().sum().sort_values(ascending=False)"
   ]
  },
  {
   "cell_type": "code",
   "execution_count": 10,
   "metadata": {},
   "outputs": [
    {
     "data": {
      "text/plain": [
       "(55083, 42)"
      ]
     },
     "execution_count": 10,
     "metadata": {},
     "output_type": "execute_result"
    }
   ],
   "source": [
    "df_redc.shape"
   ]
  },
  {
   "cell_type": "markdown",
   "metadata": {},
   "source": [
    "### Next Step :\n",
    "* Now, since the dataset consists of only two classes, let's check the class imbalance scenario"
   ]
  },
  {
   "cell_type": "code",
   "execution_count": 11,
   "metadata": {},
   "outputs": [],
   "source": [
    "train = df_redc"
   ]
  },
  {
   "cell_type": "code",
   "execution_count": 12,
   "metadata": {
    "scrolled": true
   },
   "outputs": [
    {
     "data": {
      "text/plain": [
       "functional        32259\n",
       "non functional    22824\n",
       "Name: status_group, dtype: int64"
      ]
     },
     "execution_count": 12,
     "metadata": {},
     "output_type": "execute_result"
    }
   ],
   "source": [
    "train.status_group.value_counts()"
   ]
  },
  {
   "cell_type": "markdown",
   "metadata": {},
   "source": [
    "##### There are several columns with missing data. All are categorical\n",
    "##### scheme name column has almost 50% data missing. Hence, we drop it"
   ]
  },
  {
   "cell_type": "code",
   "execution_count": 13,
   "metadata": {},
   "outputs": [],
   "source": [
    "train = train.drop('scheme_name',axis = 1)"
   ]
  },
  {
   "cell_type": "markdown",
   "metadata": {},
   "source": [
    "Feature selection"
   ]
  },
  {
   "cell_type": "code",
   "execution_count": 14,
   "metadata": {},
   "outputs": [],
   "source": [
    "# selecting all categorical features\n",
    "feature_cols = train.select_dtypes(include=['object']).columns"
   ]
  },
  {
   "cell_type": "code",
   "execution_count": 15,
   "metadata": {},
   "outputs": [],
   "source": [
    "# selecting all numeric features\n",
    "num_cols = train.select_dtypes(include = ['int64','float64']).columns"
   ]
  },
  {
   "cell_type": "code",
   "execution_count": 16,
   "metadata": {},
   "outputs": [
    {
     "name": "stdout",
     "output_type": "stream",
     "text": [
      "30\n",
      "11\n"
     ]
    }
   ],
   "source": [
    "print(len(feature_cols))\n",
    "print(len(num_cols))"
   ]
  },
  {
   "cell_type": "markdown",
   "metadata": {},
   "source": [
    "Let's do a bit of feature engineering and create a column called age (age of the pump since construction)"
   ]
  },
  {
   "cell_type": "code",
   "execution_count": 17,
   "metadata": {},
   "outputs": [
    {
     "data": {
      "text/plain": [
       "0    2011-03-14\n",
       "1    2013-03-06\n",
       "2    2013-02-25\n",
       "3    2013-01-28\n",
       "4    2011-07-13\n",
       "Name: date_recorded, dtype: object"
      ]
     },
     "execution_count": 17,
     "metadata": {},
     "output_type": "execute_result"
    }
   ],
   "source": [
    "train.date_recorded.head() # date where the details of the waterpump were recorded"
   ]
  },
  {
   "cell_type": "code",
   "execution_count": 19,
   "metadata": {},
   "outputs": [],
   "source": [
    "train['year_recorded'] = train['date_recorded'].apply(lambda x: int(x.strip().split('-')[0]))"
   ]
  },
  {
   "cell_type": "code",
   "execution_count": 20,
   "metadata": {},
   "outputs": [
    {
     "data": {
      "text/html": [
       "<div>\n",
       "<style scoped>\n",
       "    .dataframe tbody tr th:only-of-type {\n",
       "        vertical-align: middle;\n",
       "    }\n",
       "\n",
       "    .dataframe tbody tr th {\n",
       "        vertical-align: top;\n",
       "    }\n",
       "\n",
       "    .dataframe thead th {\n",
       "        text-align: right;\n",
       "    }\n",
       "</style>\n",
       "<table border=\"1\" class=\"dataframe\">\n",
       "  <thead>\n",
       "    <tr style=\"text-align: right;\">\n",
       "      <th></th>\n",
       "      <th>Unnamed: 0</th>\n",
       "      <th>id</th>\n",
       "      <th>amount_tsh</th>\n",
       "      <th>date_recorded</th>\n",
       "      <th>funder</th>\n",
       "      <th>gps_height</th>\n",
       "      <th>installer</th>\n",
       "      <th>longitude</th>\n",
       "      <th>latitude</th>\n",
       "      <th>wpt_name</th>\n",
       "      <th>...</th>\n",
       "      <th>quantity</th>\n",
       "      <th>quantity_group</th>\n",
       "      <th>source</th>\n",
       "      <th>source_type</th>\n",
       "      <th>source_class</th>\n",
       "      <th>waterpoint_type</th>\n",
       "      <th>waterpoint_type_group</th>\n",
       "      <th>status_group</th>\n",
       "      <th>year_recorded</th>\n",
       "      <th>handpump_age</th>\n",
       "    </tr>\n",
       "  </thead>\n",
       "  <tbody>\n",
       "    <tr>\n",
       "      <th>0</th>\n",
       "      <td>0</td>\n",
       "      <td>69572</td>\n",
       "      <td>6000.0</td>\n",
       "      <td>2011-03-14</td>\n",
       "      <td>Roman</td>\n",
       "      <td>1390</td>\n",
       "      <td>Roman</td>\n",
       "      <td>34.938093</td>\n",
       "      <td>-9.856322</td>\n",
       "      <td>none</td>\n",
       "      <td>...</td>\n",
       "      <td>enough</td>\n",
       "      <td>enough</td>\n",
       "      <td>spring</td>\n",
       "      <td>spring</td>\n",
       "      <td>groundwater</td>\n",
       "      <td>communal standpipe</td>\n",
       "      <td>communal standpipe</td>\n",
       "      <td>functional</td>\n",
       "      <td>2011</td>\n",
       "      <td>12</td>\n",
       "    </tr>\n",
       "    <tr>\n",
       "      <th>1</th>\n",
       "      <td>1</td>\n",
       "      <td>8776</td>\n",
       "      <td>0.0</td>\n",
       "      <td>2013-03-06</td>\n",
       "      <td>Grumeti</td>\n",
       "      <td>1399</td>\n",
       "      <td>GRUMETI</td>\n",
       "      <td>34.698766</td>\n",
       "      <td>-2.147466</td>\n",
       "      <td>Zahanati</td>\n",
       "      <td>...</td>\n",
       "      <td>insufficient</td>\n",
       "      <td>insufficient</td>\n",
       "      <td>rainwater harvesting</td>\n",
       "      <td>rainwater harvesting</td>\n",
       "      <td>surface</td>\n",
       "      <td>communal standpipe</td>\n",
       "      <td>communal standpipe</td>\n",
       "      <td>functional</td>\n",
       "      <td>2013</td>\n",
       "      <td>3</td>\n",
       "    </tr>\n",
       "    <tr>\n",
       "      <th>2</th>\n",
       "      <td>2</td>\n",
       "      <td>34310</td>\n",
       "      <td>25.0</td>\n",
       "      <td>2013-02-25</td>\n",
       "      <td>Lottery Club</td>\n",
       "      <td>686</td>\n",
       "      <td>World vision</td>\n",
       "      <td>37.460664</td>\n",
       "      <td>-3.821329</td>\n",
       "      <td>Kwa Mahundi</td>\n",
       "      <td>...</td>\n",
       "      <td>enough</td>\n",
       "      <td>enough</td>\n",
       "      <td>dam</td>\n",
       "      <td>dam</td>\n",
       "      <td>surface</td>\n",
       "      <td>communal standpipe multiple</td>\n",
       "      <td>communal standpipe</td>\n",
       "      <td>functional</td>\n",
       "      <td>2013</td>\n",
       "      <td>4</td>\n",
       "    </tr>\n",
       "    <tr>\n",
       "      <th>3</th>\n",
       "      <td>3</td>\n",
       "      <td>67743</td>\n",
       "      <td>0.0</td>\n",
       "      <td>2013-01-28</td>\n",
       "      <td>Unicef</td>\n",
       "      <td>263</td>\n",
       "      <td>UNICEF</td>\n",
       "      <td>38.486161</td>\n",
       "      <td>-11.155298</td>\n",
       "      <td>Zahanati Ya Nanyumbu</td>\n",
       "      <td>...</td>\n",
       "      <td>dry</td>\n",
       "      <td>dry</td>\n",
       "      <td>machine dbh</td>\n",
       "      <td>borehole</td>\n",
       "      <td>groundwater</td>\n",
       "      <td>communal standpipe multiple</td>\n",
       "      <td>communal standpipe</td>\n",
       "      <td>non functional</td>\n",
       "      <td>2013</td>\n",
       "      <td>27</td>\n",
       "    </tr>\n",
       "    <tr>\n",
       "      <th>4</th>\n",
       "      <td>4</td>\n",
       "      <td>19728</td>\n",
       "      <td>0.0</td>\n",
       "      <td>2011-07-13</td>\n",
       "      <td>Action In A</td>\n",
       "      <td>0</td>\n",
       "      <td>Artisan</td>\n",
       "      <td>31.130847</td>\n",
       "      <td>-1.825359</td>\n",
       "      <td>Shuleni</td>\n",
       "      <td>...</td>\n",
       "      <td>seasonal</td>\n",
       "      <td>seasonal</td>\n",
       "      <td>rainwater harvesting</td>\n",
       "      <td>rainwater harvesting</td>\n",
       "      <td>surface</td>\n",
       "      <td>communal standpipe</td>\n",
       "      <td>communal standpipe</td>\n",
       "      <td>functional</td>\n",
       "      <td>2011</td>\n",
       "      <td>2011</td>\n",
       "    </tr>\n",
       "    <tr>\n",
       "      <th>...</th>\n",
       "      <td>...</td>\n",
       "      <td>...</td>\n",
       "      <td>...</td>\n",
       "      <td>...</td>\n",
       "      <td>...</td>\n",
       "      <td>...</td>\n",
       "      <td>...</td>\n",
       "      <td>...</td>\n",
       "      <td>...</td>\n",
       "      <td>...</td>\n",
       "      <td>...</td>\n",
       "      <td>...</td>\n",
       "      <td>...</td>\n",
       "      <td>...</td>\n",
       "      <td>...</td>\n",
       "      <td>...</td>\n",
       "      <td>...</td>\n",
       "      <td>...</td>\n",
       "      <td>...</td>\n",
       "      <td>...</td>\n",
       "      <td>...</td>\n",
       "    </tr>\n",
       "    <tr>\n",
       "      <th>108</th>\n",
       "      <td>108</td>\n",
       "      <td>74246</td>\n",
       "      <td>50.0</td>\n",
       "      <td>2011-03-07</td>\n",
       "      <td>Ruthe</td>\n",
       "      <td>1428</td>\n",
       "      <td>Ruthe</td>\n",
       "      <td>35.630481</td>\n",
       "      <td>-7.710549</td>\n",
       "      <td>none</td>\n",
       "      <td>...</td>\n",
       "      <td>dry</td>\n",
       "      <td>dry</td>\n",
       "      <td>spring</td>\n",
       "      <td>spring</td>\n",
       "      <td>groundwater</td>\n",
       "      <td>communal standpipe</td>\n",
       "      <td>communal standpipe</td>\n",
       "      <td>non functional</td>\n",
       "      <td>2011</td>\n",
       "      <td>11</td>\n",
       "    </tr>\n",
       "    <tr>\n",
       "      <th>109</th>\n",
       "      <td>109</td>\n",
       "      <td>7116</td>\n",
       "      <td>0.0</td>\n",
       "      <td>2011-07-12</td>\n",
       "      <td>NaN</td>\n",
       "      <td>0</td>\n",
       "      <td>NaN</td>\n",
       "      <td>33.805081</td>\n",
       "      <td>-9.130674</td>\n",
       "      <td>Kwa Mzee Kaiga</td>\n",
       "      <td>...</td>\n",
       "      <td>enough</td>\n",
       "      <td>enough</td>\n",
       "      <td>river</td>\n",
       "      <td>river/lake</td>\n",
       "      <td>surface</td>\n",
       "      <td>communal standpipe</td>\n",
       "      <td>communal standpipe</td>\n",
       "      <td>functional</td>\n",
       "      <td>2011</td>\n",
       "      <td>2011</td>\n",
       "    </tr>\n",
       "    <tr>\n",
       "      <th>110</th>\n",
       "      <td>110</td>\n",
       "      <td>64063</td>\n",
       "      <td>0.0</td>\n",
       "      <td>2013-05-03</td>\n",
       "      <td>Adra</td>\n",
       "      <td>1295</td>\n",
       "      <td>Adra/Community</td>\n",
       "      <td>36.908329</td>\n",
       "      <td>-3.330743</td>\n",
       "      <td>Lukumai</td>\n",
       "      <td>...</td>\n",
       "      <td>insufficient</td>\n",
       "      <td>insufficient</td>\n",
       "      <td>river</td>\n",
       "      <td>river/lake</td>\n",
       "      <td>surface</td>\n",
       "      <td>communal standpipe</td>\n",
       "      <td>communal standpipe</td>\n",
       "      <td>non functional</td>\n",
       "      <td>2013</td>\n",
       "      <td>9</td>\n",
       "    </tr>\n",
       "    <tr>\n",
       "      <th>111</th>\n",
       "      <td>111</td>\n",
       "      <td>59983</td>\n",
       "      <td>0.0</td>\n",
       "      <td>2013-07-03</td>\n",
       "      <td>Government Of Tanzania</td>\n",
       "      <td>1207</td>\n",
       "      <td>Community</td>\n",
       "      <td>36.875535</td>\n",
       "      <td>-3.344567</td>\n",
       "      <td>Kumbuaeli</td>\n",
       "      <td>...</td>\n",
       "      <td>enough</td>\n",
       "      <td>enough</td>\n",
       "      <td>river</td>\n",
       "      <td>river/lake</td>\n",
       "      <td>surface</td>\n",
       "      <td>communal standpipe multiple</td>\n",
       "      <td>communal standpipe</td>\n",
       "      <td>functional</td>\n",
       "      <td>2013</td>\n",
       "      <td>8</td>\n",
       "    </tr>\n",
       "    <tr>\n",
       "      <th>112</th>\n",
       "      <td>112</td>\n",
       "      <td>10784</td>\n",
       "      <td>0.0</td>\n",
       "      <td>2011-07-17</td>\n",
       "      <td>Tulawaka Gold Mine</td>\n",
       "      <td>0</td>\n",
       "      <td>Tulawaka Gold Mine</td>\n",
       "      <td>31.489047</td>\n",
       "      <td>-3.267904</td>\n",
       "      <td>Imalanota</td>\n",
       "      <td>...</td>\n",
       "      <td>enough</td>\n",
       "      <td>enough</td>\n",
       "      <td>shallow well</td>\n",
       "      <td>shallow well</td>\n",
       "      <td>groundwater</td>\n",
       "      <td>hand pump</td>\n",
       "      <td>hand pump</td>\n",
       "      <td>functional</td>\n",
       "      <td>2011</td>\n",
       "      <td>2011</td>\n",
       "    </tr>\n",
       "  </tbody>\n",
       "</table>\n",
       "<p>100 rows × 43 columns</p>\n",
       "</div>"
      ],
      "text/plain": [
       "     Unnamed: 0     id  amount_tsh date_recorded                  funder  \\\n",
       "0             0  69572      6000.0    2011-03-14                   Roman   \n",
       "1             1   8776         0.0    2013-03-06                 Grumeti   \n",
       "2             2  34310        25.0    2013-02-25            Lottery Club   \n",
       "3             3  67743         0.0    2013-01-28                  Unicef   \n",
       "4             4  19728         0.0    2011-07-13             Action In A   \n",
       "..          ...    ...         ...           ...                     ...   \n",
       "108         108  74246        50.0    2011-03-07                   Ruthe   \n",
       "109         109   7116         0.0    2011-07-12                     NaN   \n",
       "110         110  64063         0.0    2013-05-03                    Adra   \n",
       "111         111  59983         0.0    2013-07-03  Government Of Tanzania   \n",
       "112         112  10784         0.0    2011-07-17      Tulawaka Gold Mine   \n",
       "\n",
       "     gps_height           installer  longitude   latitude  \\\n",
       "0          1390               Roman  34.938093  -9.856322   \n",
       "1          1399             GRUMETI  34.698766  -2.147466   \n",
       "2           686        World vision  37.460664  -3.821329   \n",
       "3           263              UNICEF  38.486161 -11.155298   \n",
       "4             0             Artisan  31.130847  -1.825359   \n",
       "..          ...                 ...        ...        ...   \n",
       "108        1428               Ruthe  35.630481  -7.710549   \n",
       "109           0                 NaN  33.805081  -9.130674   \n",
       "110        1295      Adra/Community  36.908329  -3.330743   \n",
       "111        1207           Community  36.875535  -3.344567   \n",
       "112           0  Tulawaka Gold Mine  31.489047  -3.267904   \n",
       "\n",
       "                 wpt_name  ...      quantity quantity_group  \\\n",
       "0                    none  ...        enough         enough   \n",
       "1                Zahanati  ...  insufficient   insufficient   \n",
       "2             Kwa Mahundi  ...        enough         enough   \n",
       "3    Zahanati Ya Nanyumbu  ...           dry            dry   \n",
       "4                 Shuleni  ...      seasonal       seasonal   \n",
       "..                    ...  ...           ...            ...   \n",
       "108                  none  ...           dry            dry   \n",
       "109        Kwa Mzee Kaiga  ...        enough         enough   \n",
       "110               Lukumai  ...  insufficient   insufficient   \n",
       "111             Kumbuaeli  ...        enough         enough   \n",
       "112             Imalanota  ...        enough         enough   \n",
       "\n",
       "                   source           source_type  source_class  \\\n",
       "0                  spring                spring   groundwater   \n",
       "1    rainwater harvesting  rainwater harvesting       surface   \n",
       "2                     dam                   dam       surface   \n",
       "3             machine dbh              borehole   groundwater   \n",
       "4    rainwater harvesting  rainwater harvesting       surface   \n",
       "..                    ...                   ...           ...   \n",
       "108                spring                spring   groundwater   \n",
       "109                 river            river/lake       surface   \n",
       "110                 river            river/lake       surface   \n",
       "111                 river            river/lake       surface   \n",
       "112          shallow well          shallow well   groundwater   \n",
       "\n",
       "                 waterpoint_type waterpoint_type_group    status_group  \\\n",
       "0             communal standpipe    communal standpipe      functional   \n",
       "1             communal standpipe    communal standpipe      functional   \n",
       "2    communal standpipe multiple    communal standpipe      functional   \n",
       "3    communal standpipe multiple    communal standpipe  non functional   \n",
       "4             communal standpipe    communal standpipe      functional   \n",
       "..                           ...                   ...             ...   \n",
       "108           communal standpipe    communal standpipe  non functional   \n",
       "109           communal standpipe    communal standpipe      functional   \n",
       "110           communal standpipe    communal standpipe  non functional   \n",
       "111  communal standpipe multiple    communal standpipe      functional   \n",
       "112                    hand pump             hand pump      functional   \n",
       "\n",
       "     year_recorded handpump_age  \n",
       "0             2011           12  \n",
       "1             2013            3  \n",
       "2             2013            4  \n",
       "3             2013           27  \n",
       "4             2011         2011  \n",
       "..             ...          ...  \n",
       "108           2011           11  \n",
       "109           2011         2011  \n",
       "110           2013            9  \n",
       "111           2013            8  \n",
       "112           2011         2011  \n",
       "\n",
       "[100 rows x 43 columns]"
      ]
     },
     "execution_count": 20,
     "metadata": {},
     "output_type": "execute_result"
    }
   ],
   "source": [
    "train['handpump_age'] = train['year_recorded'] - train['construction_year']\n",
    "train.head(100)"
   ]
  },
  {
   "cell_type": "code",
   "execution_count": 22,
   "metadata": {
    "scrolled": true
   },
   "outputs": [
    {
     "data": {
      "text/html": [
       "<div>\n",
       "<style scoped>\n",
       "    .dataframe tbody tr th:only-of-type {\n",
       "        vertical-align: middle;\n",
       "    }\n",
       "\n",
       "    .dataframe tbody tr th {\n",
       "        vertical-align: top;\n",
       "    }\n",
       "\n",
       "    .dataframe thead th {\n",
       "        text-align: right;\n",
       "    }\n",
       "</style>\n",
       "<table border=\"1\" class=\"dataframe\">\n",
       "  <thead>\n",
       "    <tr style=\"text-align: right;\">\n",
       "      <th></th>\n",
       "      <th>Unnamed: 0</th>\n",
       "      <th>id</th>\n",
       "      <th>amount_tsh</th>\n",
       "      <th>date_recorded</th>\n",
       "      <th>funder</th>\n",
       "      <th>gps_height</th>\n",
       "      <th>installer</th>\n",
       "      <th>longitude</th>\n",
       "      <th>latitude</th>\n",
       "      <th>wpt_name</th>\n",
       "      <th>...</th>\n",
       "      <th>quantity</th>\n",
       "      <th>quantity_group</th>\n",
       "      <th>source</th>\n",
       "      <th>source_type</th>\n",
       "      <th>source_class</th>\n",
       "      <th>waterpoint_type</th>\n",
       "      <th>waterpoint_type_group</th>\n",
       "      <th>status_group</th>\n",
       "      <th>year_recorded</th>\n",
       "      <th>handpump_age</th>\n",
       "    </tr>\n",
       "  </thead>\n",
       "  <tbody>\n",
       "    <tr>\n",
       "      <th>0</th>\n",
       "      <td>0</td>\n",
       "      <td>69572</td>\n",
       "      <td>6000.0</td>\n",
       "      <td>2011-03-14</td>\n",
       "      <td>Roman</td>\n",
       "      <td>1390</td>\n",
       "      <td>Roman</td>\n",
       "      <td>34.938093</td>\n",
       "      <td>-9.856322</td>\n",
       "      <td>none</td>\n",
       "      <td>...</td>\n",
       "      <td>enough</td>\n",
       "      <td>enough</td>\n",
       "      <td>spring</td>\n",
       "      <td>spring</td>\n",
       "      <td>groundwater</td>\n",
       "      <td>communal standpipe</td>\n",
       "      <td>communal standpipe</td>\n",
       "      <td>functional</td>\n",
       "      <td>2011</td>\n",
       "      <td>12.0</td>\n",
       "    </tr>\n",
       "    <tr>\n",
       "      <th>1</th>\n",
       "      <td>1</td>\n",
       "      <td>8776</td>\n",
       "      <td>0.0</td>\n",
       "      <td>2013-03-06</td>\n",
       "      <td>Grumeti</td>\n",
       "      <td>1399</td>\n",
       "      <td>GRUMETI</td>\n",
       "      <td>34.698766</td>\n",
       "      <td>-2.147466</td>\n",
       "      <td>Zahanati</td>\n",
       "      <td>...</td>\n",
       "      <td>insufficient</td>\n",
       "      <td>insufficient</td>\n",
       "      <td>rainwater harvesting</td>\n",
       "      <td>rainwater harvesting</td>\n",
       "      <td>surface</td>\n",
       "      <td>communal standpipe</td>\n",
       "      <td>communal standpipe</td>\n",
       "      <td>functional</td>\n",
       "      <td>2013</td>\n",
       "      <td>3.0</td>\n",
       "    </tr>\n",
       "    <tr>\n",
       "      <th>2</th>\n",
       "      <td>2</td>\n",
       "      <td>34310</td>\n",
       "      <td>25.0</td>\n",
       "      <td>2013-02-25</td>\n",
       "      <td>Lottery Club</td>\n",
       "      <td>686</td>\n",
       "      <td>World vision</td>\n",
       "      <td>37.460664</td>\n",
       "      <td>-3.821329</td>\n",
       "      <td>Kwa Mahundi</td>\n",
       "      <td>...</td>\n",
       "      <td>enough</td>\n",
       "      <td>enough</td>\n",
       "      <td>dam</td>\n",
       "      <td>dam</td>\n",
       "      <td>surface</td>\n",
       "      <td>communal standpipe multiple</td>\n",
       "      <td>communal standpipe</td>\n",
       "      <td>functional</td>\n",
       "      <td>2013</td>\n",
       "      <td>4.0</td>\n",
       "    </tr>\n",
       "    <tr>\n",
       "      <th>3</th>\n",
       "      <td>3</td>\n",
       "      <td>67743</td>\n",
       "      <td>0.0</td>\n",
       "      <td>2013-01-28</td>\n",
       "      <td>Unicef</td>\n",
       "      <td>263</td>\n",
       "      <td>UNICEF</td>\n",
       "      <td>38.486161</td>\n",
       "      <td>-11.155298</td>\n",
       "      <td>Zahanati Ya Nanyumbu</td>\n",
       "      <td>...</td>\n",
       "      <td>dry</td>\n",
       "      <td>dry</td>\n",
       "      <td>machine dbh</td>\n",
       "      <td>borehole</td>\n",
       "      <td>groundwater</td>\n",
       "      <td>communal standpipe multiple</td>\n",
       "      <td>communal standpipe</td>\n",
       "      <td>non functional</td>\n",
       "      <td>2013</td>\n",
       "      <td>27.0</td>\n",
       "    </tr>\n",
       "    <tr>\n",
       "      <th>4</th>\n",
       "      <td>4</td>\n",
       "      <td>19728</td>\n",
       "      <td>0.0</td>\n",
       "      <td>2011-07-13</td>\n",
       "      <td>Action In A</td>\n",
       "      <td>0</td>\n",
       "      <td>Artisan</td>\n",
       "      <td>31.130847</td>\n",
       "      <td>-1.825359</td>\n",
       "      <td>Shuleni</td>\n",
       "      <td>...</td>\n",
       "      <td>seasonal</td>\n",
       "      <td>seasonal</td>\n",
       "      <td>rainwater harvesting</td>\n",
       "      <td>rainwater harvesting</td>\n",
       "      <td>surface</td>\n",
       "      <td>communal standpipe</td>\n",
       "      <td>communal standpipe</td>\n",
       "      <td>functional</td>\n",
       "      <td>2011</td>\n",
       "      <td>NaN</td>\n",
       "    </tr>\n",
       "  </tbody>\n",
       "</table>\n",
       "<p>5 rows × 43 columns</p>\n",
       "</div>"
      ],
      "text/plain": [
       "   Unnamed: 0     id  amount_tsh date_recorded        funder  gps_height  \\\n",
       "0           0  69572      6000.0    2011-03-14         Roman        1390   \n",
       "1           1   8776         0.0    2013-03-06       Grumeti        1399   \n",
       "2           2  34310        25.0    2013-02-25  Lottery Club         686   \n",
       "3           3  67743         0.0    2013-01-28        Unicef         263   \n",
       "4           4  19728         0.0    2011-07-13   Action In A           0   \n",
       "\n",
       "      installer  longitude   latitude              wpt_name  ...  \\\n",
       "0         Roman  34.938093  -9.856322                  none  ...   \n",
       "1       GRUMETI  34.698766  -2.147466              Zahanati  ...   \n",
       "2  World vision  37.460664  -3.821329           Kwa Mahundi  ...   \n",
       "3        UNICEF  38.486161 -11.155298  Zahanati Ya Nanyumbu  ...   \n",
       "4       Artisan  31.130847  -1.825359               Shuleni  ...   \n",
       "\n",
       "       quantity quantity_group                source           source_type  \\\n",
       "0        enough         enough                spring                spring   \n",
       "1  insufficient   insufficient  rainwater harvesting  rainwater harvesting   \n",
       "2        enough         enough                   dam                   dam   \n",
       "3           dry            dry           machine dbh              borehole   \n",
       "4      seasonal       seasonal  rainwater harvesting  rainwater harvesting   \n",
       "\n",
       "   source_class              waterpoint_type waterpoint_type_group  \\\n",
       "0   groundwater           communal standpipe    communal standpipe   \n",
       "1       surface           communal standpipe    communal standpipe   \n",
       "2       surface  communal standpipe multiple    communal standpipe   \n",
       "3   groundwater  communal standpipe multiple    communal standpipe   \n",
       "4       surface           communal standpipe    communal standpipe   \n",
       "\n",
       "     status_group  year_recorded handpump_age  \n",
       "0      functional           2011         12.0  \n",
       "1      functional           2013          3.0  \n",
       "2      functional           2013          4.0  \n",
       "3  non functional           2013         27.0  \n",
       "4      functional           2011          NaN  \n",
       "\n",
       "[5 rows x 43 columns]"
      ]
     },
     "execution_count": 22,
     "metadata": {},
     "output_type": "execute_result"
    }
   ],
   "source": [
    "# if handpump age = year recorded => replace with null\n",
    "train.loc[train['handpump_age']==train['year_recorded'],['handpump_age']] = np.nan\n",
    "train.head()"
   ]
  },
  {
   "cell_type": "markdown",
   "metadata": {},
   "source": [
    "### Missing value treatment :\n",
    "* 35% of handpump data is missing\n",
    "* I'll use the below strategy to treat missing values\n",
    "    * Find district wise average age of the pumps and replace the missing values with the same"
   ]
  },
  {
   "cell_type": "code",
   "execution_count": 23,
   "metadata": {},
   "outputs": [
    {
     "data": {
      "text/plain": [
       "18920"
      ]
     },
     "execution_count": 23,
     "metadata": {},
     "output_type": "execute_result"
    }
   ],
   "source": [
    "train['handpump_age'].isnull().sum()"
   ]
  },
  {
   "cell_type": "markdown",
   "metadata": {},
   "source": [
    "we are pulling out all the rows where handpum age is not null "
   ]
  },
  {
   "cell_type": "code",
   "execution_count": 24,
   "metadata": {},
   "outputs": [],
   "source": [
    "df_p1 = train.loc[~train['handpump_age'].isnull()]"
   ]
  },
  {
   "cell_type": "code",
   "execution_count": 25,
   "metadata": {},
   "outputs": [
    {
     "data": {
      "text/plain": [
       "(36163, 43)"
      ]
     },
     "execution_count": 25,
     "metadata": {},
     "output_type": "execute_result"
    }
   ],
   "source": [
    "df_p1.shape"
   ]
  },
  {
   "cell_type": "code",
   "execution_count": 26,
   "metadata": {},
   "outputs": [],
   "source": [
    "df_p2 = train.loc[train['handpump_age'].isnull()]"
   ]
  },
  {
   "cell_type": "markdown",
   "metadata": {},
   "source": [
    "we are doing this because we need to treat all the values of handpump age column which are null\n",
    "\n",
    "replace it with the avg age of the pumps belonging to that district code"
   ]
  },
  {
   "cell_type": "code",
   "execution_count": 27,
   "metadata": {},
   "outputs": [
    {
     "data": {
      "text/plain": [
       "(18920, 43)"
      ]
     },
     "execution_count": 27,
     "metadata": {},
     "output_type": "execute_result"
    }
   ],
   "source": [
    "df_p2.shape"
   ]
  },
  {
   "cell_type": "code",
   "execution_count": 28,
   "metadata": {},
   "outputs": [],
   "source": [
    "df_p3 = train.groupby('district_code',as_index=False)['handpump_age'].agg(np.mean)"
   ]
  },
  {
   "cell_type": "markdown",
   "metadata": {},
   "source": [
    "Using the as_index parameter while Grouping data in pandas prevents setting a row index on the result."
   ]
  },
  {
   "cell_type": "code",
   "execution_count": 29,
   "metadata": {},
   "outputs": [
    {
     "data": {
      "text/html": [
       "<div>\n",
       "<style scoped>\n",
       "    .dataframe tbody tr th:only-of-type {\n",
       "        vertical-align: middle;\n",
       "    }\n",
       "\n",
       "    .dataframe tbody tr th {\n",
       "        vertical-align: top;\n",
       "    }\n",
       "\n",
       "    .dataframe thead th {\n",
       "        text-align: right;\n",
       "    }\n",
       "</style>\n",
       "<table border=\"1\" class=\"dataframe\">\n",
       "  <thead>\n",
       "    <tr style=\"text-align: right;\">\n",
       "      <th></th>\n",
       "      <th>district_code</th>\n",
       "      <th>handpump_age</th>\n",
       "    </tr>\n",
       "  </thead>\n",
       "  <tbody>\n",
       "    <tr>\n",
       "      <th>0</th>\n",
       "      <td>0</td>\n",
       "      <td>NaN</td>\n",
       "    </tr>\n",
       "    <tr>\n",
       "      <th>1</th>\n",
       "      <td>1</td>\n",
       "      <td>14.477396</td>\n",
       "    </tr>\n",
       "    <tr>\n",
       "      <th>2</th>\n",
       "      <td>2</td>\n",
       "      <td>16.339741</td>\n",
       "    </tr>\n",
       "    <tr>\n",
       "      <th>3</th>\n",
       "      <td>3</td>\n",
       "      <td>15.693479</td>\n",
       "    </tr>\n",
       "    <tr>\n",
       "      <th>4</th>\n",
       "      <td>4</td>\n",
       "      <td>15.573717</td>\n",
       "    </tr>\n",
       "    <tr>\n",
       "      <th>5</th>\n",
       "      <td>5</td>\n",
       "      <td>14.231460</td>\n",
       "    </tr>\n",
       "    <tr>\n",
       "      <th>6</th>\n",
       "      <td>6</td>\n",
       "      <td>15.845278</td>\n",
       "    </tr>\n",
       "    <tr>\n",
       "      <th>7</th>\n",
       "      <td>7</td>\n",
       "      <td>12.079893</td>\n",
       "    </tr>\n",
       "    <tr>\n",
       "      <th>8</th>\n",
       "      <td>8</td>\n",
       "      <td>17.309446</td>\n",
       "    </tr>\n",
       "    <tr>\n",
       "      <th>9</th>\n",
       "      <td>13</td>\n",
       "      <td>16.435028</td>\n",
       "    </tr>\n",
       "  </tbody>\n",
       "</table>\n",
       "</div>"
      ],
      "text/plain": [
       "   district_code  handpump_age\n",
       "0              0           NaN\n",
       "1              1     14.477396\n",
       "2              2     16.339741\n",
       "3              3     15.693479\n",
       "4              4     15.573717\n",
       "5              5     14.231460\n",
       "6              6     15.845278\n",
       "7              7     12.079893\n",
       "8              8     17.309446\n",
       "9             13     16.435028"
      ]
     },
     "execution_count": 29,
     "metadata": {},
     "output_type": "execute_result"
    }
   ],
   "source": [
    "df_p3.head(10)"
   ]
  },
  {
   "cell_type": "markdown",
   "metadata": {},
   "source": [
    "There are still districts where the handpump_age is null, so we cant do anything about that. \n",
    "\n",
    "According to our strategy, if all pumps in a given district do not have a district year, we are going to drop them. For the rest, we can find the average age"
   ]
  },
  {
   "cell_type": "markdown",
   "metadata": {},
   "source": [
    "We are now going to merge the above dataframe with the dataframe which had null values df_p2"
   ]
  },
  {
   "cell_type": "code",
   "execution_count": 30,
   "metadata": {},
   "outputs": [],
   "source": [
    "df_p4 = pd.merge(df_p2, df_p3, on = 'district_code')"
   ]
  },
  {
   "cell_type": "code",
   "execution_count": 31,
   "metadata": {},
   "outputs": [
    {
     "data": {
      "text/html": [
       "<div>\n",
       "<style scoped>\n",
       "    .dataframe tbody tr th:only-of-type {\n",
       "        vertical-align: middle;\n",
       "    }\n",
       "\n",
       "    .dataframe tbody tr th {\n",
       "        vertical-align: top;\n",
       "    }\n",
       "\n",
       "    .dataframe thead th {\n",
       "        text-align: right;\n",
       "    }\n",
       "</style>\n",
       "<table border=\"1\" class=\"dataframe\">\n",
       "  <thead>\n",
       "    <tr style=\"text-align: right;\">\n",
       "      <th></th>\n",
       "      <th>Unnamed: 0</th>\n",
       "      <th>id</th>\n",
       "      <th>amount_tsh</th>\n",
       "      <th>date_recorded</th>\n",
       "      <th>funder</th>\n",
       "      <th>gps_height</th>\n",
       "      <th>installer</th>\n",
       "      <th>longitude</th>\n",
       "      <th>latitude</th>\n",
       "      <th>wpt_name</th>\n",
       "      <th>...</th>\n",
       "      <th>quantity_group</th>\n",
       "      <th>source</th>\n",
       "      <th>source_type</th>\n",
       "      <th>source_class</th>\n",
       "      <th>waterpoint_type</th>\n",
       "      <th>waterpoint_type_group</th>\n",
       "      <th>status_group</th>\n",
       "      <th>year_recorded</th>\n",
       "      <th>handpump_age_x</th>\n",
       "      <th>handpump_age_y</th>\n",
       "    </tr>\n",
       "  </thead>\n",
       "  <tbody>\n",
       "    <tr>\n",
       "      <th>0</th>\n",
       "      <td>4</td>\n",
       "      <td>19728</td>\n",
       "      <td>0.0</td>\n",
       "      <td>2011-07-13</td>\n",
       "      <td>Action In A</td>\n",
       "      <td>0</td>\n",
       "      <td>Artisan</td>\n",
       "      <td>31.130847</td>\n",
       "      <td>-1.825359e+00</td>\n",
       "      <td>Shuleni</td>\n",
       "      <td>...</td>\n",
       "      <td>seasonal</td>\n",
       "      <td>rainwater harvesting</td>\n",
       "      <td>rainwater harvesting</td>\n",
       "      <td>surface</td>\n",
       "      <td>communal standpipe</td>\n",
       "      <td>communal standpipe</td>\n",
       "      <td>functional</td>\n",
       "      <td>2011</td>\n",
       "      <td>NaN</td>\n",
       "      <td>14.477396</td>\n",
       "    </tr>\n",
       "    <tr>\n",
       "      <th>1</th>\n",
       "      <td>9</td>\n",
       "      <td>46144</td>\n",
       "      <td>0.0</td>\n",
       "      <td>2011-08-03</td>\n",
       "      <td>Isingiro Ho</td>\n",
       "      <td>0</td>\n",
       "      <td>Artisan</td>\n",
       "      <td>30.626991</td>\n",
       "      <td>-1.257051e+00</td>\n",
       "      <td>Kwapeto</td>\n",
       "      <td>...</td>\n",
       "      <td>enough</td>\n",
       "      <td>shallow well</td>\n",
       "      <td>shallow well</td>\n",
       "      <td>groundwater</td>\n",
       "      <td>hand pump</td>\n",
       "      <td>hand pump</td>\n",
       "      <td>functional</td>\n",
       "      <td>2011</td>\n",
       "      <td>NaN</td>\n",
       "      <td>14.477396</td>\n",
       "    </tr>\n",
       "    <tr>\n",
       "      <th>2</th>\n",
       "      <td>21</td>\n",
       "      <td>6091</td>\n",
       "      <td>0.0</td>\n",
       "      <td>2013-02-10</td>\n",
       "      <td>Dwsp</td>\n",
       "      <td>0</td>\n",
       "      <td>DWE</td>\n",
       "      <td>0.000000</td>\n",
       "      <td>-2.000000e-08</td>\n",
       "      <td>Muungano</td>\n",
       "      <td>...</td>\n",
       "      <td>unknown</td>\n",
       "      <td>shallow well</td>\n",
       "      <td>shallow well</td>\n",
       "      <td>groundwater</td>\n",
       "      <td>hand pump</td>\n",
       "      <td>hand pump</td>\n",
       "      <td>functional</td>\n",
       "      <td>2013</td>\n",
       "      <td>NaN</td>\n",
       "      <td>14.477396</td>\n",
       "    </tr>\n",
       "    <tr>\n",
       "      <th>3</th>\n",
       "      <td>27</td>\n",
       "      <td>20145</td>\n",
       "      <td>0.0</td>\n",
       "      <td>2011-07-11</td>\n",
       "      <td>Hesawa</td>\n",
       "      <td>0</td>\n",
       "      <td>DWE</td>\n",
       "      <td>31.104257</td>\n",
       "      <td>-1.735361e+00</td>\n",
       "      <td>Kwawilliam</td>\n",
       "      <td>...</td>\n",
       "      <td>enough</td>\n",
       "      <td>shallow well</td>\n",
       "      <td>shallow well</td>\n",
       "      <td>groundwater</td>\n",
       "      <td>hand pump</td>\n",
       "      <td>hand pump</td>\n",
       "      <td>functional</td>\n",
       "      <td>2011</td>\n",
       "      <td>NaN</td>\n",
       "      <td>14.477396</td>\n",
       "    </tr>\n",
       "    <tr>\n",
       "      <th>4</th>\n",
       "      <td>37</td>\n",
       "      <td>60048</td>\n",
       "      <td>0.0</td>\n",
       "      <td>2011-03-27</td>\n",
       "      <td>Kirde</td>\n",
       "      <td>0</td>\n",
       "      <td>DWE</td>\n",
       "      <td>35.858373</td>\n",
       "      <td>-4.647906e+00</td>\n",
       "      <td>Tangi</td>\n",
       "      <td>...</td>\n",
       "      <td>enough</td>\n",
       "      <td>spring</td>\n",
       "      <td>spring</td>\n",
       "      <td>groundwater</td>\n",
       "      <td>communal standpipe</td>\n",
       "      <td>communal standpipe</td>\n",
       "      <td>functional</td>\n",
       "      <td>2011</td>\n",
       "      <td>NaN</td>\n",
       "      <td>14.477396</td>\n",
       "    </tr>\n",
       "  </tbody>\n",
       "</table>\n",
       "<p>5 rows × 44 columns</p>\n",
       "</div>"
      ],
      "text/plain": [
       "   Unnamed: 0     id  amount_tsh date_recorded       funder  gps_height  \\\n",
       "0           4  19728         0.0    2011-07-13  Action In A           0   \n",
       "1           9  46144         0.0    2011-08-03  Isingiro Ho           0   \n",
       "2          21   6091         0.0    2013-02-10         Dwsp           0   \n",
       "3          27  20145         0.0    2011-07-11       Hesawa           0   \n",
       "4          37  60048         0.0    2011-03-27        Kirde           0   \n",
       "\n",
       "  installer  longitude      latitude    wpt_name  ...  quantity_group  \\\n",
       "0   Artisan  31.130847 -1.825359e+00     Shuleni  ...        seasonal   \n",
       "1   Artisan  30.626991 -1.257051e+00     Kwapeto  ...          enough   \n",
       "2       DWE   0.000000 -2.000000e-08    Muungano  ...         unknown   \n",
       "3       DWE  31.104257 -1.735361e+00  Kwawilliam  ...          enough   \n",
       "4       DWE  35.858373 -4.647906e+00       Tangi  ...          enough   \n",
       "\n",
       "                 source           source_type source_class  \\\n",
       "0  rainwater harvesting  rainwater harvesting      surface   \n",
       "1          shallow well          shallow well  groundwater   \n",
       "2          shallow well          shallow well  groundwater   \n",
       "3          shallow well          shallow well  groundwater   \n",
       "4                spring                spring  groundwater   \n",
       "\n",
       "      waterpoint_type  waterpoint_type_group status_group year_recorded  \\\n",
       "0  communal standpipe     communal standpipe   functional          2011   \n",
       "1           hand pump              hand pump   functional          2011   \n",
       "2           hand pump              hand pump   functional          2013   \n",
       "3           hand pump              hand pump   functional          2011   \n",
       "4  communal standpipe     communal standpipe   functional          2011   \n",
       "\n",
       "   handpump_age_x handpump_age_y  \n",
       "0             NaN      14.477396  \n",
       "1             NaN      14.477396  \n",
       "2             NaN      14.477396  \n",
       "3             NaN      14.477396  \n",
       "4             NaN      14.477396  \n",
       "\n",
       "[5 rows x 44 columns]"
      ]
     },
     "execution_count": 31,
     "metadata": {},
     "output_type": "execute_result"
    }
   ],
   "source": [
    "df_p4.head()"
   ]
  },
  {
   "cell_type": "markdown",
   "metadata": {},
   "source": [
    "values are same because all handpumps come from the same district"
   ]
  },
  {
   "cell_type": "code",
   "execution_count": 32,
   "metadata": {},
   "outputs": [],
   "source": [
    "df_p4 = df_p4.drop('handpump_age_x',axis = 1)"
   ]
  },
  {
   "cell_type": "code",
   "execution_count": 33,
   "metadata": {},
   "outputs": [
    {
     "data": {
      "text/plain": [
       "(18920, 43)"
      ]
     },
     "execution_count": 33,
     "metadata": {},
     "output_type": "execute_result"
    }
   ],
   "source": [
    "df_p4.shape"
   ]
  },
  {
   "cell_type": "code",
   "execution_count": 34,
   "metadata": {},
   "outputs": [],
   "source": [
    "#df_p4 = df_p4.drop('handpump_age_y',axis = 1)"
   ]
  },
  {
   "cell_type": "code",
   "execution_count": 35,
   "metadata": {},
   "outputs": [],
   "source": [
    "df_p4 = df_p4.rename(columns = {\"handpump_age_y\": \"handpump_age\"}) "
   ]
  },
  {
   "cell_type": "code",
   "execution_count": 36,
   "metadata": {},
   "outputs": [],
   "source": [
    "train = pd.concat([df_p1,df_p4])"
   ]
  },
  {
   "cell_type": "code",
   "execution_count": 37,
   "metadata": {},
   "outputs": [],
   "source": [
    "train[feature_cols] = train[feature_cols].fillna(np.nan)"
   ]
  },
  {
   "cell_type": "markdown",
   "metadata": {
    "scrolled": true
   },
   "source": [
    "removing all the rows having null values for handpump_age"
   ]
  },
  {
   "cell_type": "code",
   "execution_count": 38,
   "metadata": {
    "scrolled": true
   },
   "outputs": [],
   "source": [
    "df_final = train[~train['handpump_age'].isnull()]"
   ]
  },
  {
   "cell_type": "code",
   "execution_count": 39,
   "metadata": {},
   "outputs": [
    {
     "data": {
      "text/plain": [
       "scheme_management        3654\n",
       "public_meeting           3176\n",
       "installer                3150\n",
       "funder                   3133\n",
       "permit                   2756\n",
       "subvillage                370\n",
       "id                          0\n",
       "population                  0\n",
       "ward                        0\n",
       "lga                         0\n",
       "district_code               0\n",
       "region_code                 0\n",
       "region                      0\n",
       "basin                       0\n",
       "amount_tsh                  0\n",
       "recorded_by                 0\n",
       "wpt_name                    0\n",
       "latitude                    0\n",
       "longitude                   0\n",
       "gps_height                  0\n",
       "date_recorded               0\n",
       "num_private                 0\n",
       "handpump_age                0\n",
       "year_recorded               0\n",
       "construction_year           0\n",
       "status_group                0\n",
       "waterpoint_type_group       0\n",
       "waterpoint_type             0\n",
       "source_class                0\n",
       "source_type                 0\n",
       "source                      0\n",
       "quantity_group              0\n",
       "quantity                    0\n",
       "quality_group               0\n",
       "water_quality               0\n",
       "payment_type                0\n",
       "payment                     0\n",
       "management_group            0\n",
       "management                  0\n",
       "extraction_type_class       0\n",
       "extraction_type_group       0\n",
       "extraction_type             0\n",
       "Unnamed: 0                  0\n",
       "dtype: int64"
      ]
     },
     "execution_count": 39,
     "metadata": {},
     "output_type": "execute_result"
    }
   ],
   "source": [
    "df_final.isnull().sum().sort_values(ascending=False)"
   ]
  },
  {
   "cell_type": "code",
   "execution_count": 40,
   "metadata": {},
   "outputs": [
    {
     "data": {
      "text/plain": [
       "(54986, 43)"
      ]
     },
     "execution_count": 40,
     "metadata": {},
     "output_type": "execute_result"
    }
   ],
   "source": [
    "df_final.shape"
   ]
  },
  {
   "cell_type": "code",
   "execution_count": 41,
   "metadata": {},
   "outputs": [],
   "source": [
    "# dropping variables which have either too many levels or seem to be of no use\n",
    "df_final = df_final.drop(['wpt_name','date_recorded','installer','subvillage','funder','latitude','longitude','gps_height','ward',],axis=1)"
   ]
  },
  {
   "cell_type": "code",
   "execution_count": 42,
   "metadata": {},
   "outputs": [
    {
     "data": {
      "text/plain": [
       "(54986, 34)"
      ]
     },
     "execution_count": 42,
     "metadata": {},
     "output_type": "execute_result"
    }
   ],
   "source": [
    "df_final.shape"
   ]
  },
  {
   "cell_type": "markdown",
   "metadata": {},
   "source": [
    "### Outlier Treatment\n",
    "* We'll analyze two of the numeric features i.e amount_tsh and handpump_age for outliers and treat them accordingly"
   ]
  },
  {
   "cell_type": "code",
   "execution_count": 43,
   "metadata": {},
   "outputs": [],
   "source": [
    "import matplotlib.pyplot as plt\n",
    "import seaborn as sns\n",
    "%matplotlib inline"
   ]
  },
  {
   "cell_type": "code",
   "execution_count": 44,
   "metadata": {},
   "outputs": [
    {
     "name": "stderr",
     "output_type": "stream",
     "text": [
      "/anaconda/envs/azureml_py36/lib/python3.6/site-packages/seaborn/_decorators.py:43: FutureWarning: Pass the following variable as a keyword arg: x. From version 0.12, the only valid positional argument will be `data`, and passing other arguments without an explicit keyword will result in an error or misinterpretation.\n",
      "  FutureWarning\n"
     ]
    },
    {
     "data": {
      "text/plain": [
       "<matplotlib.axes._subplots.AxesSubplot at 0x7f4190644400>"
      ]
     },
     "execution_count": 44,
     "metadata": {},
     "output_type": "execute_result"
    },
    {
     "data": {
      "image/png": "[encoded data removed]",
      "text/plain": [
       "<Figure size 432x288 with 1 Axes>"
      ]
     },
     "metadata": {
      "needs_background": "light"
     },
     "output_type": "display_data"
    }
   ],
   "source": [
    "sns.boxplot(df_final['handpump_age'])"
   ]
  },
  {
   "cell_type": "code",
   "execution_count": 45,
   "metadata": {},
   "outputs": [
    {
     "name": "stderr",
     "output_type": "stream",
     "text": [
      "/anaconda/envs/azureml_py36/lib/python3.6/site-packages/seaborn/_decorators.py:43: FutureWarning: Pass the following variable as a keyword arg: x. From version 0.12, the only valid positional argument will be `data`, and passing other arguments without an explicit keyword will result in an error or misinterpretation.\n",
      "  FutureWarning\n"
     ]
    },
    {
     "data": {
      "text/plain": [
       "<matplotlib.axes._subplots.AxesSubplot at 0x7f418df22978>"
      ]
     },
     "execution_count": 45,
     "metadata": {},
     "output_type": "execute_result"
    },
    {
     "data": {
      "image/png": "[encoded data removed]",
      "text/plain": [
       "<Figure size 432x288 with 1 Axes>"
      ]
     },
     "metadata": {
      "needs_background": "light"
     },
     "output_type": "display_data"
    }
   ],
   "source": [
    "sns.boxplot(df_final['amount_tsh'])"
   ]
  },
  {
   "cell_type": "code",
   "execution_count": 46,
   "metadata": {},
   "outputs": [],
   "source": [
    "from numpy import percentile\n",
    "Q1 = df_final['amount_tsh'].quantile(0.25)"
   ]
  },
  {
   "cell_type": "code",
   "execution_count": 47,
   "metadata": {},
   "outputs": [],
   "source": [
    "Q3 = df_final['amount_tsh'].quantile(0.75)"
   ]
  },
  {
   "cell_type": "code",
   "execution_count": 48,
   "metadata": {},
   "outputs": [],
   "source": [
    "IQR = Q3 - Q1"
   ]
  },
  {
   "cell_type": "code",
   "execution_count": 49,
   "metadata": {},
   "outputs": [],
   "source": [
    "lower_band = 0 if Q1 - 1.5*IQR <= 0 else Q1 - 1.5*IQR\n",
    "upper_band = Q3 + 1.5*IQR"
   ]
  },
  {
   "cell_type": "code",
   "execution_count": 50,
   "metadata": {},
   "outputs": [
    {
     "data": {
      "text/plain": [
       "(0, 50.0)"
      ]
     },
     "execution_count": 50,
     "metadata": {},
     "output_type": "execute_result"
    }
   ],
   "source": [
    "lower_band,upper_band"
   ]
  },
  {
   "cell_type": "code",
   "execution_count": 51,
   "metadata": {},
   "outputs": [],
   "source": [
    "df_final['amount_tsh'] = df_final['amount_tsh'].clip(lower = lower_band, upper = upper_band)"
   ]
  },
  {
   "cell_type": "code",
   "execution_count": 52,
   "metadata": {},
   "outputs": [
    {
     "name": "stderr",
     "output_type": "stream",
     "text": [
      "/anaconda/envs/azureml_py36/lib/python3.6/site-packages/seaborn/_decorators.py:43: FutureWarning: Pass the following variable as a keyword arg: x. From version 0.12, the only valid positional argument will be `data`, and passing other arguments without an explicit keyword will result in an error or misinterpretation.\n",
      "  FutureWarning\n"
     ]
    },
    {
     "data": {
      "text/plain": [
       "<matplotlib.axes._subplots.AxesSubplot at 0x7f418de94dd8>"
      ]
     },
     "execution_count": 52,
     "metadata": {},
     "output_type": "execute_result"
    },
    {
     "data": {
      "image/png": "[encoded data removed]",
      "text/plain": [
       "<Figure size 432x288 with 1 Axes>"
      ]
     },
     "metadata": {
      "needs_background": "light"
     },
     "output_type": "display_data"
    }
   ],
   "source": [
    "sns.boxplot(df_final['amount_tsh'])"
   ]
  },
  {
   "cell_type": "markdown",
   "metadata": {},
   "source": [
    "### Exploratory Data Analysis"
   ]
  },
  {
   "cell_type": "markdown",
   "metadata": {},
   "source": [
    "### Hypotheses to test :\n",
    "* Now, since we have a clean data set, let's do some EDA\n",
    "* Here are several hypotheses which we'll explore during the EDA phase :\n",
    "    * The older the pump, the higher the chance of damage = being non-functional\n",
    "    * The higher the population of the location, the higher the usage of the pump, thus higher the chance of damage\n",
    "    * Water quality may have an impact. Salty water may lead to internal rusting of the pump hence leading to possible damage\n",
    "    * The installer company may show some impact (for examples one company may manufacture inferior quality pumps compared to others)\n",
    "    * Funder, Installer, Lat-Long, Source, Region may not have any impact on the defectiveness of the pump\n",
    "<br><br/>\n",
    "#### Let's analyze the dataset and test these hypotheses!"
   ]
  },
  {
   "cell_type": "code",
   "execution_count": 53,
   "metadata": {},
   "outputs": [],
   "source": [
    "import matplotlib.pyplot as plt\n",
    "import seaborn as sns\n",
    "%matplotlib inline "
   ]
  },
  {
   "cell_type": "code",
   "execution_count": 54,
   "metadata": {
    "scrolled": true
   },
   "outputs": [
    {
     "data": {
      "text/plain": [
       "<matplotlib.axes._subplots.AxesSubplot at 0x7f418de6f390>"
      ]
     },
     "execution_count": 54,
     "metadata": {},
     "output_type": "execute_result"
    },
    {
     "data": {
      "image/png": "[encoded data removed]",
      "text/plain": [
       "<Figure size 432x288 with 1 Axes>"
      ]
     },
     "metadata": {
      "needs_background": "light"
     },
     "output_type": "display_data"
    }
   ],
   "source": [
    "sns.boxplot( x=df_final[\"status_group\"], y=df_final[\"handpump_age\"], width = 0.5, notch = True)"
   ]
  },
  {
   "cell_type": "markdown",
   "metadata": {},
   "source": [
    "We see that for the non-functional pumps, the mean age is higher. Therefore pumps which are older can lead to more damage and hence nonfunctional"
   ]
  },
  {
   "cell_type": "code",
   "execution_count": 55,
   "metadata": {},
   "outputs": [
    {
     "data": {
      "text/plain": [
       "<matplotlib.axes._subplots.AxesSubplot at 0x7f418dded9b0>"
      ]
     },
     "execution_count": 55,
     "metadata": {},
     "output_type": "execute_result"
    },
    {
     "data": {
      "image/png": "[encoded data removed]",
      "text/plain": [
       "<Figure size 864x432 with 1 Axes>"
      ]
     },
     "metadata": {
      "needs_background": "light"
     },
     "output_type": "display_data"
    }
   ],
   "source": [
    "# visualizing defective status by payment_type\n",
    "from matplotlib.pyplot import figure\n",
    "figure(num=None, figsize=(12, 6))\n",
    "y = df_final[df_final['status_group']=='non functional'].groupby(['payment_type'])['id'].agg(np.size).values\n",
    "x = df_final[df_final['status_group']=='non functional'].groupby(['payment_type'])['id'].agg(np.size).index\n",
    "sns.barplot(x=x, y=y, data=df_final)"
   ]
  },
  {
   "cell_type": "markdown",
   "metadata": {},
   "source": [
    "We can see that when the maintainence amt is not paid/never paid, the pumps are non functional"
   ]
  },
  {
   "cell_type": "markdown",
   "metadata": {},
   "source": [
    "### Conclusion : \n",
    "* It appears that a majority of non-functional handpumps are in the payment category 'never pay'. Payment type may have an impact on the response variable."
   ]
  },
  {
   "cell_type": "code",
   "execution_count": 56,
   "metadata": {},
   "outputs": [
    {
     "data": {
      "text/plain": [
       "<matplotlib.axes._subplots.AxesSubplot at 0x7f418dd0ca58>"
      ]
     },
     "execution_count": 56,
     "metadata": {},
     "output_type": "execute_result"
    },
    {
     "data": {
      "image/png": "[encoded data removed]",
      "text/plain": [
       "<Figure size 864x432 with 1 Axes>"
      ]
     },
     "metadata": {
      "needs_background": "light"
     },
     "output_type": "display_data"
    }
   ],
   "source": [
    "# visualizing defective status by water_quality\n",
    "from matplotlib.pyplot import figure\n",
    "figure(num=None, figsize=(12, 6))\n",
    "y = df_final[df_final['status_group']=='non functional'].groupby(['water_quality'])['id'].agg(np.size).values\n",
    "x = df_final[df_final['status_group']=='non functional'].groupby(['water_quality'])['id'].agg(np.size).index\n",
    "sns.barplot(x=x, y=y, data=df_final)"
   ]
  },
  {
   "cell_type": "markdown",
   "metadata": {},
   "source": [
    "### Conclusion : \n",
    "* It appears that the majority of defective pumps are associated with \"soft\" water. While looking for the cause of this, I got to read the following article [here](https://curaflo.com/soft-water/). This shows quality of water can lead to corrosion of pipes in a big way"
   ]
  },
  {
   "cell_type": "code",
   "execution_count": 57,
   "metadata": {},
   "outputs": [
    {
     "name": "stdout",
     "output_type": "stream",
     "text": [
      "<class 'pandas.core.frame.DataFrame'>\n",
      "Int64Index: 54986 entries, 0 to 18919\n",
      "Data columns (total 34 columns):\n",
      "Unnamed: 0               54986 non-null int64\n",
      "id                       54986 non-null int64\n",
      "amount_tsh               54986 non-null float64\n",
      "num_private              54986 non-null int64\n",
      "basin                    54986 non-null object\n",
      "region                   54986 non-null object\n",
      "region_code              54986 non-null int64\n",
      "district_code            54986 non-null int64\n",
      "lga                      54986 non-null object\n",
      "population               54986 non-null int64\n",
      "public_meeting           51810 non-null object\n",
      "recorded_by              54986 non-null object\n",
      "scheme_management        51332 non-null object\n",
      "permit                   52230 non-null object\n",
      "construction_year        54986 non-null int64\n",
      "extraction_type          54986 non-null object\n",
      "extraction_type_group    54986 non-null object\n",
      "extraction_type_class    54986 non-null object\n",
      "management               54986 non-null object\n",
      "management_group         54986 non-null object\n",
      "payment                  54986 non-null object\n",
      "payment_type             54986 non-null object\n",
      "water_quality            54986 non-null object\n",
      "quality_group            54986 non-null object\n",
      "quantity                 54986 non-null object\n",
      "quantity_group           54986 non-null object\n",
      "source                   54986 non-null object\n",
      "source_type              54986 non-null object\n",
      "source_class             54986 non-null object\n",
      "waterpoint_type          54986 non-null object\n",
      "waterpoint_type_group    54986 non-null object\n",
      "status_group             54986 non-null object\n",
      "year_recorded            54986 non-null int64\n",
      "handpump_age             54986 non-null float64\n",
      "dtypes: float64(2), int64(8), object(24)\n",
      "memory usage: 15.9+ MB\n"
     ]
    }
   ],
   "source": [
    "df_final.info()"
   ]
  },
  {
   "cell_type": "code",
   "execution_count": 58,
   "metadata": {
    "scrolled": true
   },
   "outputs": [
    {
     "data": {
      "text/plain": [
       "<matplotlib.axes._subplots.AxesSubplot at 0x7f418dcb4b70>"
      ]
     },
     "execution_count": 58,
     "metadata": {},
     "output_type": "execute_result"
    },
    {
     "data": {
      "image/png": "[encoded data removed]",
      "text/plain": [
       "<Figure size 864x288 with 1 Axes>"
      ]
     },
     "metadata": {
      "needs_background": "light"
     },
     "output_type": "display_data"
    }
   ],
   "source": [
    "# visualizing defective status by quantity\n",
    "from matplotlib.pyplot import figure\n",
    "figure(num=None, figsize=(12,4))\n",
    "y = df_final[df_final['status_group']=='non functional'].groupby(['quantity'])['id'].agg(np.size).values\n",
    "x = df_final[df_final['status_group']=='non functional'].groupby(['quantity'])['id'].agg(np.size).index\n",
    "sns.barplot(x=x, y=y, data=df_final)"
   ]
  },
  {
   "cell_type": "markdown",
   "metadata": {},
   "source": [
    "### Conclusion : \n",
    "* Can't say conclusively whether source of water has any impact on the extent of damage to the hand pump"
   ]
  },
  {
   "cell_type": "code",
   "execution_count": 59,
   "metadata": {},
   "outputs": [
    {
     "data": {
      "text/plain": [
       "<matplotlib.axes._subplots.AxesSubplot at 0x7f418dd10e80>"
      ]
     },
     "execution_count": 59,
     "metadata": {},
     "output_type": "execute_result"
    },
    {
     "data": {
      "image/png": "[encoded data removed]",
      "text/plain": [
       "<Figure size 864x432 with 1 Axes>"
      ]
     },
     "metadata": {
      "needs_background": "light"
     },
     "output_type": "display_data"
    }
   ],
   "source": [
    "# visualizing defective status by management_group\n",
    "from matplotlib.pyplot import figure\n",
    "figure(num=None, figsize=(12, 6))\n",
    "y = df_final[df_final['status_group']=='non functional'].groupby(['management_group'])['id'].agg(np.size).values\n",
    "x = df_final[df_final['status_group']=='non functional'].groupby(['management_group'])['id'].agg(np.size).index\n",
    "sns.barplot(x=x, y=y, data=df_final)"
   ]
  },
  {
   "cell_type": "markdown",
   "metadata": {},
   "source": [
    "### Conclusion : \n",
    "* It is evident that the hand pumps managed by user groups are more prone to damage (may be due to negligence)"
   ]
  },
  {
   "cell_type": "code",
   "execution_count": 60,
   "metadata": {},
   "outputs": [
    {
     "data": {
      "text/plain": [
       "<matplotlib.axes._subplots.AxesSubplot at 0x7f418db891d0>"
      ]
     },
     "execution_count": 60,
     "metadata": {},
     "output_type": "execute_result"
    },
    {
     "data": {
      "image/png": "[encoded data removed]",
      "text/plain": [
       "<Figure size 1152x432 with 1 Axes>"
      ]
     },
     "metadata": {
      "needs_background": "light"
     },
     "output_type": "display_data"
    }
   ],
   "source": [
    "# visualizing defective status by payment_type\n",
    "from matplotlib.pyplot import figure\n",
    "figure(num=None, figsize=(16, 6))\n",
    "y = df_final[df_final['status_group']=='non functional'].groupby(['basin'])['id'].agg(np.size).values\n",
    "x = df_final[df_final['status_group']=='non functional'].groupby(['basin'])['id'].agg(np.size).index\n",
    "sns.barplot(x=x, y=y, data=df_final)"
   ]
  },
  {
   "cell_type": "markdown",
   "metadata": {},
   "source": [
    "### Conclusion : \n",
    "* It seems nothing can be said conclusively about the impact of type of basin on hand pump damage"
   ]
  },
  {
   "cell_type": "code",
   "execution_count": 61,
   "metadata": {},
   "outputs": [],
   "source": [
    "df_final = df_final.drop(['num_private','lga','construction_year',\n",
    "                          'extraction_type','extraction_type_group','management',\n",
    "                          'source_type','quality_group','quantity_group',\n",
    "                          'waterpoint_type_group','year_recorded'],axis=1)"
   ]
  },
  {
   "cell_type": "code",
   "execution_count": 62,
   "metadata": {},
   "outputs": [
    {
     "data": {
      "text/html": [
       "<div>\n",
       "<style scoped>\n",
       "    .dataframe tbody tr th:only-of-type {\n",
       "        vertical-align: middle;\n",
       "    }\n",
       "\n",
       "    .dataframe tbody tr th {\n",
       "        vertical-align: top;\n",
       "    }\n",
       "\n",
       "    .dataframe thead th {\n",
       "        text-align: right;\n",
       "    }\n",
       "</style>\n",
       "<table border=\"1\" class=\"dataframe\">\n",
       "  <thead>\n",
       "    <tr style=\"text-align: right;\">\n",
       "      <th></th>\n",
       "      <th>Unnamed: 0</th>\n",
       "      <th>id</th>\n",
       "      <th>amount_tsh</th>\n",
       "      <th>basin</th>\n",
       "      <th>region</th>\n",
       "      <th>region_code</th>\n",
       "      <th>district_code</th>\n",
       "      <th>population</th>\n",
       "      <th>public_meeting</th>\n",
       "      <th>recorded_by</th>\n",
       "      <th>...</th>\n",
       "      <th>management_group</th>\n",
       "      <th>payment</th>\n",
       "      <th>payment_type</th>\n",
       "      <th>water_quality</th>\n",
       "      <th>quantity</th>\n",
       "      <th>source</th>\n",
       "      <th>source_class</th>\n",
       "      <th>waterpoint_type</th>\n",
       "      <th>status_group</th>\n",
       "      <th>handpump_age</th>\n",
       "    </tr>\n",
       "  </thead>\n",
       "  <tbody>\n",
       "    <tr>\n",
       "      <th>0</th>\n",
       "      <td>0</td>\n",
       "      <td>69572</td>\n",
       "      <td>50.0</td>\n",
       "      <td>Lake Nyasa</td>\n",
       "      <td>Iringa</td>\n",
       "      <td>11</td>\n",
       "      <td>5</td>\n",
       "      <td>109</td>\n",
       "      <td>True</td>\n",
       "      <td>GeoData Consultants Ltd</td>\n",
       "      <td>...</td>\n",
       "      <td>user-group</td>\n",
       "      <td>pay annually</td>\n",
       "      <td>annually</td>\n",
       "      <td>soft</td>\n",
       "      <td>enough</td>\n",
       "      <td>spring</td>\n",
       "      <td>groundwater</td>\n",
       "      <td>communal standpipe</td>\n",
       "      <td>functional</td>\n",
       "      <td>12.0</td>\n",
       "    </tr>\n",
       "    <tr>\n",
       "      <th>1</th>\n",
       "      <td>1</td>\n",
       "      <td>8776</td>\n",
       "      <td>0.0</td>\n",
       "      <td>Lake Victoria</td>\n",
       "      <td>Mara</td>\n",
       "      <td>20</td>\n",
       "      <td>2</td>\n",
       "      <td>280</td>\n",
       "      <td>NaN</td>\n",
       "      <td>GeoData Consultants Ltd</td>\n",
       "      <td>...</td>\n",
       "      <td>user-group</td>\n",
       "      <td>never pay</td>\n",
       "      <td>never pay</td>\n",
       "      <td>soft</td>\n",
       "      <td>insufficient</td>\n",
       "      <td>rainwater harvesting</td>\n",
       "      <td>surface</td>\n",
       "      <td>communal standpipe</td>\n",
       "      <td>functional</td>\n",
       "      <td>3.0</td>\n",
       "    </tr>\n",
       "    <tr>\n",
       "      <th>2</th>\n",
       "      <td>2</td>\n",
       "      <td>34310</td>\n",
       "      <td>25.0</td>\n",
       "      <td>Pangani</td>\n",
       "      <td>Manyara</td>\n",
       "      <td>21</td>\n",
       "      <td>4</td>\n",
       "      <td>250</td>\n",
       "      <td>True</td>\n",
       "      <td>GeoData Consultants Ltd</td>\n",
       "      <td>...</td>\n",
       "      <td>user-group</td>\n",
       "      <td>pay per bucket</td>\n",
       "      <td>per bucket</td>\n",
       "      <td>soft</td>\n",
       "      <td>enough</td>\n",
       "      <td>dam</td>\n",
       "      <td>surface</td>\n",
       "      <td>communal standpipe multiple</td>\n",
       "      <td>functional</td>\n",
       "      <td>4.0</td>\n",
       "    </tr>\n",
       "    <tr>\n",
       "      <th>3</th>\n",
       "      <td>3</td>\n",
       "      <td>67743</td>\n",
       "      <td>0.0</td>\n",
       "      <td>Ruvuma / Southern Coast</td>\n",
       "      <td>Mtwara</td>\n",
       "      <td>90</td>\n",
       "      <td>63</td>\n",
       "      <td>58</td>\n",
       "      <td>True</td>\n",
       "      <td>GeoData Consultants Ltd</td>\n",
       "      <td>...</td>\n",
       "      <td>user-group</td>\n",
       "      <td>never pay</td>\n",
       "      <td>never pay</td>\n",
       "      <td>soft</td>\n",
       "      <td>dry</td>\n",
       "      <td>machine dbh</td>\n",
       "      <td>groundwater</td>\n",
       "      <td>communal standpipe multiple</td>\n",
       "      <td>non functional</td>\n",
       "      <td>27.0</td>\n",
       "    </tr>\n",
       "    <tr>\n",
       "      <th>5</th>\n",
       "      <td>5</td>\n",
       "      <td>9944</td>\n",
       "      <td>20.0</td>\n",
       "      <td>Pangani</td>\n",
       "      <td>Tanga</td>\n",
       "      <td>4</td>\n",
       "      <td>8</td>\n",
       "      <td>1</td>\n",
       "      <td>True</td>\n",
       "      <td>GeoData Consultants Ltd</td>\n",
       "      <td>...</td>\n",
       "      <td>user-group</td>\n",
       "      <td>pay per bucket</td>\n",
       "      <td>per bucket</td>\n",
       "      <td>salty</td>\n",
       "      <td>enough</td>\n",
       "      <td>other</td>\n",
       "      <td>unknown</td>\n",
       "      <td>communal standpipe multiple</td>\n",
       "      <td>functional</td>\n",
       "      <td>2.0</td>\n",
       "    </tr>\n",
       "  </tbody>\n",
       "</table>\n",
       "<p>5 rows × 23 columns</p>\n",
       "</div>"
      ],
      "text/plain": [
       "   Unnamed: 0     id  amount_tsh                    basin   region  \\\n",
       "0           0  69572        50.0               Lake Nyasa   Iringa   \n",
       "1           1   8776         0.0            Lake Victoria     Mara   \n",
       "2           2  34310        25.0                  Pangani  Manyara   \n",
       "3           3  67743         0.0  Ruvuma / Southern Coast   Mtwara   \n",
       "5           5   9944        20.0                  Pangani    Tanga   \n",
       "\n",
       "   region_code  district_code  population public_meeting  \\\n",
       "0           11              5         109           True   \n",
       "1           20              2         280            NaN   \n",
       "2           21              4         250           True   \n",
       "3           90             63          58           True   \n",
       "5            4              8           1           True   \n",
       "\n",
       "               recorded_by  ... management_group         payment payment_type  \\\n",
       "0  GeoData Consultants Ltd  ...       user-group    pay annually     annually   \n",
       "1  GeoData Consultants Ltd  ...       user-group       never pay    never pay   \n",
       "2  GeoData Consultants Ltd  ...       user-group  pay per bucket   per bucket   \n",
       "3  GeoData Consultants Ltd  ...       user-group       never pay    never pay   \n",
       "5  GeoData Consultants Ltd  ...       user-group  pay per bucket   per bucket   \n",
       "\n",
       "  water_quality      quantity                source source_class  \\\n",
       "0          soft        enough                spring  groundwater   \n",
       "1          soft  insufficient  rainwater harvesting      surface   \n",
       "2          soft        enough                   dam      surface   \n",
       "3          soft           dry           machine dbh  groundwater   \n",
       "5         salty        enough                 other      unknown   \n",
       "\n",
       "               waterpoint_type    status_group handpump_age  \n",
       "0           communal standpipe      functional         12.0  \n",
       "1           communal standpipe      functional          3.0  \n",
       "2  communal standpipe multiple      functional          4.0  \n",
       "3  communal standpipe multiple  non functional         27.0  \n",
       "5  communal standpipe multiple      functional          2.0  \n",
       "\n",
       "[5 rows x 23 columns]"
      ]
     },
     "execution_count": 62,
     "metadata": {},
     "output_type": "execute_result"
    }
   ],
   "source": [
    "# let's look at the no. of levels for each categorical variable\n",
    "df_final.head()"
   ]
  },
  {
   "cell_type": "code",
   "execution_count": 63,
   "metadata": {},
   "outputs": [
    {
     "name": "stdout",
     "output_type": "stream",
     "text": [
      "<class 'pandas.core.frame.DataFrame'>\n",
      "Int64Index: 54986 entries, 0 to 18919\n",
      "Data columns (total 23 columns):\n",
      "Unnamed: 0               54986 non-null int64\n",
      "id                       54986 non-null int64\n",
      "amount_tsh               54986 non-null float64\n",
      "basin                    54986 non-null object\n",
      "region                   54986 non-null object\n",
      "region_code              54986 non-null int64\n",
      "district_code            54986 non-null int64\n",
      "population               54986 non-null int64\n",
      "public_meeting           51810 non-null object\n",
      "recorded_by              54986 non-null object\n",
      "scheme_management        51332 non-null object\n",
      "permit                   52230 non-null object\n",
      "extraction_type_class    54986 non-null object\n",
      "management_group         54986 non-null object\n",
      "payment                  54986 non-null object\n",
      "payment_type             54986 non-null object\n",
      "water_quality            54986 non-null object\n",
      "quantity                 54986 non-null object\n",
      "source                   54986 non-null object\n",
      "source_class             54986 non-null object\n",
      "waterpoint_type          54986 non-null object\n",
      "status_group             54986 non-null object\n",
      "handpump_age             54986 non-null float64\n",
      "dtypes: float64(2), int64(5), object(16)\n",
      "memory usage: 11.3+ MB\n"
     ]
    }
   ],
   "source": [
    "df_final.info()"
   ]
  },
  {
   "cell_type": "code",
   "execution_count": 64,
   "metadata": {},
   "outputs": [],
   "source": [
    "final_feat_cols = df_final.select_dtypes(include=['object']).columns"
   ]
  },
  {
   "cell_type": "code",
   "execution_count": 65,
   "metadata": {},
   "outputs": [
    {
     "data": {
      "text/plain": [
       "Index(['basin', 'region', 'public_meeting', 'recorded_by', 'scheme_management',\n",
       "       'permit', 'extraction_type_class', 'management_group', 'payment',\n",
       "       'payment_type', 'water_quality', 'quantity', 'source', 'source_class',\n",
       "       'waterpoint_type', 'status_group'],\n",
       "      dtype='object')"
      ]
     },
     "execution_count": 65,
     "metadata": {},
     "output_type": "execute_result"
    }
   ],
   "source": [
    "final_feat_cols"
   ]
  },
  {
   "cell_type": "markdown",
   "metadata": {},
   "source": [
    "### Next Step\n",
    "\n",
    "With some of understanding of the potential factors leading to defective pumps, let's get into the actual modelling"
   ]
  },
  {
   "cell_type": "code",
   "execution_count": 66,
   "metadata": {
    "scrolled": false
   },
   "outputs": [],
   "source": [
    "# let's split the train data further into features and labels\n",
    "df_final['status_group'] = df_final['status_group'].map({'non functional': 1, 'functional': 0})"
   ]
  },
  {
   "cell_type": "markdown",
   "metadata": {
    "scrolled": false
   },
   "source": [
    " other feature columns which have missing values replace it with dummy values"
   ]
  },
  {
   "cell_type": "code",
   "execution_count": 67,
   "metadata": {
    "scrolled": false
   },
   "outputs": [],
   "source": [
    "df_final[final_feat_cols] = df_final[final_feat_cols].fillna('N/A')"
   ]
  },
  {
   "cell_type": "code",
   "execution_count": 68,
   "metadata": {},
   "outputs": [],
   "source": [
    "df_final['public_meeting'] = df_final['public_meeting'].map({'True': 1, 'False': 0, 'N/A': 0})\n",
    "df_final['permit'] = df_final['permit'].map({'True': 1, 'False': 0, 'N/A': 0})"
   ]
  },
  {
   "cell_type": "markdown",
   "metadata": {},
   "source": [
    " filling missing values is essential and should be done before encoding categorical features. "
   ]
  },
  {
   "cell_type": "code",
   "execution_count": 69,
   "metadata": {},
   "outputs": [],
   "source": [
    "# label encoding categorical features\n",
    "from sklearn.preprocessing import LabelEncoder\n",
    "le = LabelEncoder()\n",
    "df_final = df_final.apply(LabelEncoder().fit_transform)"
   ]
  },
  {
   "cell_type": "code",
   "execution_count": 70,
   "metadata": {},
   "outputs": [
    {
     "data": {
      "text/html": [
       "<div>\n",
       "<style scoped>\n",
       "    .dataframe tbody tr th:only-of-type {\n",
       "        vertical-align: middle;\n",
       "    }\n",
       "\n",
       "    .dataframe tbody tr th {\n",
       "        vertical-align: top;\n",
       "    }\n",
       "\n",
       "    .dataframe thead th {\n",
       "        text-align: right;\n",
       "    }\n",
       "</style>\n",
       "<table border=\"1\" class=\"dataframe\">\n",
       "  <thead>\n",
       "    <tr style=\"text-align: right;\">\n",
       "      <th></th>\n",
       "      <th>Unnamed: 0</th>\n",
       "      <th>id</th>\n",
       "      <th>amount_tsh</th>\n",
       "      <th>basin</th>\n",
       "      <th>region</th>\n",
       "      <th>region_code</th>\n",
       "      <th>district_code</th>\n",
       "      <th>population</th>\n",
       "      <th>public_meeting</th>\n",
       "      <th>recorded_by</th>\n",
       "      <th>...</th>\n",
       "      <th>management_group</th>\n",
       "      <th>payment</th>\n",
       "      <th>payment_type</th>\n",
       "      <th>water_quality</th>\n",
       "      <th>quantity</th>\n",
       "      <th>source</th>\n",
       "      <th>source_class</th>\n",
       "      <th>waterpoint_type</th>\n",
       "      <th>status_group</th>\n",
       "      <th>handpump_age</th>\n",
       "    </tr>\n",
       "  </thead>\n",
       "  <tbody>\n",
       "    <tr>\n",
       "      <th>0</th>\n",
       "      <td>0</td>\n",
       "      <td>51481</td>\n",
       "      <td>19</td>\n",
       "      <td>1</td>\n",
       "      <td>3</td>\n",
       "      <td>10</td>\n",
       "      <td>4</td>\n",
       "      <td>109</td>\n",
       "      <td>2034</td>\n",
       "      <td>0</td>\n",
       "      <td>...</td>\n",
       "      <td>4</td>\n",
       "      <td>2</td>\n",
       "      <td>0</td>\n",
       "      <td>6</td>\n",
       "      <td>1</td>\n",
       "      <td>8</td>\n",
       "      <td>0</td>\n",
       "      <td>1</td>\n",
       "      <td>0</td>\n",
       "      <td>21</td>\n",
       "    </tr>\n",
       "    <tr>\n",
       "      <th>1</th>\n",
       "      <td>1</td>\n",
       "      <td>6510</td>\n",
       "      <td>0</td>\n",
       "      <td>4</td>\n",
       "      <td>9</td>\n",
       "      <td>19</td>\n",
       "      <td>1</td>\n",
       "      <td>275</td>\n",
       "      <td>0</td>\n",
       "      <td>0</td>\n",
       "      <td>...</td>\n",
       "      <td>4</td>\n",
       "      <td>0</td>\n",
       "      <td>2</td>\n",
       "      <td>6</td>\n",
       "      <td>2</td>\n",
       "      <td>5</td>\n",
       "      <td>1</td>\n",
       "      <td>1</td>\n",
       "      <td>0</td>\n",
       "      <td>9</td>\n",
       "    </tr>\n",
       "    <tr>\n",
       "      <th>2</th>\n",
       "      <td>2</td>\n",
       "      <td>25457</td>\n",
       "      <td>13</td>\n",
       "      <td>5</td>\n",
       "      <td>8</td>\n",
       "      <td>20</td>\n",
       "      <td>3</td>\n",
       "      <td>246</td>\n",
       "      <td>34046</td>\n",
       "      <td>0</td>\n",
       "      <td>...</td>\n",
       "      <td>4</td>\n",
       "      <td>4</td>\n",
       "      <td>5</td>\n",
       "      <td>6</td>\n",
       "      <td>1</td>\n",
       "      <td>0</td>\n",
       "      <td>1</td>\n",
       "      <td>2</td>\n",
       "      <td>0</td>\n",
       "      <td>10</td>\n",
       "    </tr>\n",
       "    <tr>\n",
       "      <th>3</th>\n",
       "      <td>3</td>\n",
       "      <td>50098</td>\n",
       "      <td>0</td>\n",
       "      <td>7</td>\n",
       "      <td>12</td>\n",
       "      <td>25</td>\n",
       "      <td>15</td>\n",
       "      <td>58</td>\n",
       "      <td>34047</td>\n",
       "      <td>0</td>\n",
       "      <td>...</td>\n",
       "      <td>4</td>\n",
       "      <td>0</td>\n",
       "      <td>2</td>\n",
       "      <td>6</td>\n",
       "      <td>0</td>\n",
       "      <td>3</td>\n",
       "      <td>0</td>\n",
       "      <td>2</td>\n",
       "      <td>1</td>\n",
       "      <td>49</td>\n",
       "    </tr>\n",
       "    <tr>\n",
       "      <th>5</th>\n",
       "      <td>5</td>\n",
       "      <td>7379</td>\n",
       "      <td>12</td>\n",
       "      <td>5</td>\n",
       "      <td>20</td>\n",
       "      <td>3</td>\n",
       "      <td>7</td>\n",
       "      <td>1</td>\n",
       "      <td>34048</td>\n",
       "      <td>0</td>\n",
       "      <td>...</td>\n",
       "      <td>4</td>\n",
       "      <td>4</td>\n",
       "      <td>5</td>\n",
       "      <td>4</td>\n",
       "      <td>1</td>\n",
       "      <td>4</td>\n",
       "      <td>2</td>\n",
       "      <td>2</td>\n",
       "      <td>0</td>\n",
       "      <td>8</td>\n",
       "    </tr>\n",
       "    <tr>\n",
       "      <th>10</th>\n",
       "      <td>10</td>\n",
       "      <td>36339</td>\n",
       "      <td>0</td>\n",
       "      <td>8</td>\n",
       "      <td>14</td>\n",
       "      <td>23</td>\n",
       "      <td>12</td>\n",
       "      <td>337</td>\n",
       "      <td>34049</td>\n",
       "      <td>0</td>\n",
       "      <td>...</td>\n",
       "      <td>0</td>\n",
       "      <td>0</td>\n",
       "      <td>2</td>\n",
       "      <td>4</td>\n",
       "      <td>1</td>\n",
       "      <td>3</td>\n",
       "      <td>0</td>\n",
       "      <td>6</td>\n",
       "      <td>0</td>\n",
       "      <td>6</td>\n",
       "    </tr>\n",
       "    <tr>\n",
       "      <th>11</th>\n",
       "      <td>11</td>\n",
       "      <td>37335</td>\n",
       "      <td>19</td>\n",
       "      <td>1</td>\n",
       "      <td>16</td>\n",
       "      <td>9</td>\n",
       "      <td>4</td>\n",
       "      <td>246</td>\n",
       "      <td>34050</td>\n",
       "      <td>0</td>\n",
       "      <td>...</td>\n",
       "      <td>4</td>\n",
       "      <td>5</td>\n",
       "      <td>3</td>\n",
       "      <td>6</td>\n",
       "      <td>2</td>\n",
       "      <td>7</td>\n",
       "      <td>0</td>\n",
       "      <td>4</td>\n",
       "      <td>0</td>\n",
       "      <td>48</td>\n",
       "    </tr>\n",
       "    <tr>\n",
       "      <th>13</th>\n",
       "      <td>13</td>\n",
       "      <td>37404</td>\n",
       "      <td>0</td>\n",
       "      <td>5</td>\n",
       "      <td>6</td>\n",
       "      <td>2</td>\n",
       "      <td>6</td>\n",
       "      <td>1</td>\n",
       "      <td>34051</td>\n",
       "      <td>0</td>\n",
       "      <td>...</td>\n",
       "      <td>4</td>\n",
       "      <td>3</td>\n",
       "      <td>1</td>\n",
       "      <td>6</td>\n",
       "      <td>1</td>\n",
       "      <td>8</td>\n",
       "      <td>0</td>\n",
       "      <td>1</td>\n",
       "      <td>0</td>\n",
       "      <td>10</td>\n",
       "    </tr>\n",
       "    <tr>\n",
       "      <th>15</th>\n",
       "      <td>15</td>\n",
       "      <td>45736</td>\n",
       "      <td>0</td>\n",
       "      <td>3</td>\n",
       "      <td>15</td>\n",
       "      <td>14</td>\n",
       "      <td>1</td>\n",
       "      <td>196</td>\n",
       "      <td>34052</td>\n",
       "      <td>0</td>\n",
       "      <td>...</td>\n",
       "      <td>4</td>\n",
       "      <td>0</td>\n",
       "      <td>2</td>\n",
       "      <td>6</td>\n",
       "      <td>1</td>\n",
       "      <td>3</td>\n",
       "      <td>0</td>\n",
       "      <td>4</td>\n",
       "      <td>0</td>\n",
       "      <td>41</td>\n",
       "    </tr>\n",
       "    <tr>\n",
       "      <th>16</th>\n",
       "      <td>16</td>\n",
       "      <td>35900</td>\n",
       "      <td>19</td>\n",
       "      <td>6</td>\n",
       "      <td>3</td>\n",
       "      <td>10</td>\n",
       "      <td>3</td>\n",
       "      <td>35</td>\n",
       "      <td>34053</td>\n",
       "      <td>0</td>\n",
       "      <td>...</td>\n",
       "      <td>4</td>\n",
       "      <td>3</td>\n",
       "      <td>1</td>\n",
       "      <td>6</td>\n",
       "      <td>0</td>\n",
       "      <td>6</td>\n",
       "      <td>1</td>\n",
       "      <td>1</td>\n",
       "      <td>1</td>\n",
       "      <td>55</td>\n",
       "    </tr>\n",
       "  </tbody>\n",
       "</table>\n",
       "<p>10 rows × 23 columns</p>\n",
       "</div>"
      ],
      "text/plain": [
       "    Unnamed: 0     id  amount_tsh  basin  region  region_code  district_code  \\\n",
       "0            0  51481          19      1       3           10              4   \n",
       "1            1   6510           0      4       9           19              1   \n",
       "2            2  25457          13      5       8           20              3   \n",
       "3            3  50098           0      7      12           25             15   \n",
       "5            5   7379          12      5      20            3              7   \n",
       "10          10  36339           0      8      14           23             12   \n",
       "11          11  37335          19      1      16            9              4   \n",
       "13          13  37404           0      5       6            2              6   \n",
       "15          15  45736           0      3      15           14              1   \n",
       "16          16  35900          19      6       3           10              3   \n",
       "\n",
       "    population  public_meeting  recorded_by  ...  management_group  payment  \\\n",
       "0          109            2034            0  ...                 4        2   \n",
       "1          275               0            0  ...                 4        0   \n",
       "2          246           34046            0  ...                 4        4   \n",
       "3           58           34047            0  ...                 4        0   \n",
       "5            1           34048            0  ...                 4        4   \n",
       "10         337           34049            0  ...                 0        0   \n",
       "11         246           34050            0  ...                 4        5   \n",
       "13           1           34051            0  ...                 4        3   \n",
       "15         196           34052            0  ...                 4        0   \n",
       "16          35           34053            0  ...                 4        3   \n",
       "\n",
       "    payment_type  water_quality  quantity  source  source_class  \\\n",
       "0              0              6         1       8             0   \n",
       "1              2              6         2       5             1   \n",
       "2              5              6         1       0             1   \n",
       "3              2              6         0       3             0   \n",
       "5              5              4         1       4             2   \n",
       "10             2              4         1       3             0   \n",
       "11             3              6         2       7             0   \n",
       "13             1              6         1       8             0   \n",
       "15             2              6         1       3             0   \n",
       "16             1              6         0       6             1   \n",
       "\n",
       "    waterpoint_type  status_group  handpump_age  \n",
       "0                 1             0            21  \n",
       "1                 1             0             9  \n",
       "2                 2             0            10  \n",
       "3                 2             1            49  \n",
       "5                 2             0             8  \n",
       "10                6             0             6  \n",
       "11                4             0            48  \n",
       "13                1             0            10  \n",
       "15                4             0            41  \n",
       "16                1             1            55  \n",
       "\n",
       "[10 rows x 23 columns]"
      ]
     },
     "execution_count": 70,
     "metadata": {},
     "output_type": "execute_result"
    }
   ],
   "source": [
    "df_final.head(10)"
   ]
  },
  {
   "cell_type": "code",
   "execution_count": 71,
   "metadata": {},
   "outputs": [
    {
     "data": {
      "text/plain": [
       "handpump_age             0\n",
       "scheme_management        0\n",
       "id                       0\n",
       "amount_tsh               0\n",
       "basin                    0\n",
       "region                   0\n",
       "region_code              0\n",
       "district_code            0\n",
       "population               0\n",
       "public_meeting           0\n",
       "recorded_by              0\n",
       "permit                   0\n",
       "status_group             0\n",
       "extraction_type_class    0\n",
       "management_group         0\n",
       "payment                  0\n",
       "payment_type             0\n",
       "water_quality            0\n",
       "quantity                 0\n",
       "source                   0\n",
       "source_class             0\n",
       "waterpoint_type          0\n",
       "Unnamed: 0               0\n",
       "dtype: int64"
      ]
     },
     "execution_count": 71,
     "metadata": {},
     "output_type": "execute_result"
    }
   ],
   "source": [
    "df_final.isnull().sum().sort_values(ascending = False)"
   ]
  },
  {
   "cell_type": "code",
   "execution_count": 72,
   "metadata": {
    "scrolled": true
   },
   "outputs": [],
   "source": [
    "# splitting the feature and response variables\n",
    "X = df_final.loc[:,df_final.columns != 'status_group']\n",
    "y = df_final['status_group']"
   ]
  },
  {
   "cell_type": "code",
   "execution_count": 73,
   "metadata": {},
   "outputs": [],
   "source": [
    "# creating the train test split usually\n",
    "from sklearn.model_selection import train_test_split\n",
    "X_train, X_test, y_train, y_test = train_test_split(X, y, test_size=0.30, random_state=42)"
   ]
  },
  {
   "cell_type": "code",
   "execution_count": 74,
   "metadata": {},
   "outputs": [
    {
     "data": {
      "text/plain": [
       "Index(['Unnamed: 0', 'id', 'amount_tsh', 'basin', 'region', 'region_code',\n",
       "       'district_code', 'population', 'public_meeting', 'recorded_by',\n",
       "       'scheme_management', 'permit', 'extraction_type_class',\n",
       "       'management_group', 'payment', 'payment_type', 'water_quality',\n",
       "       'quantity', 'source', 'source_class', 'waterpoint_type',\n",
       "       'handpump_age'],\n",
       "      dtype='object')"
      ]
     },
     "execution_count": 74,
     "metadata": {},
     "output_type": "execute_result"
    }
   ],
   "source": [
    "X_train.columns"
   ]
  },
  {
   "cell_type": "code",
   "execution_count": 75,
   "metadata": {},
   "outputs": [],
   "source": [
    "from sklearn.ensemble import RandomForestClassifier\n",
    "from sklearn.metrics import accuracy_score\n",
    "from sklearn.metrics import fbeta_score"
   ]
  },
  {
   "cell_type": "code",
   "execution_count": 76,
   "metadata": {},
   "outputs": [],
   "source": [
    "# Instantiate\n",
    "model = RandomForestClassifier()"
   ]
  },
  {
   "cell_type": "code",
   "execution_count": 77,
   "metadata": {},
   "outputs": [
    {
     "data": {
      "text/plain": [
       "RandomForestClassifier(bootstrap=True, ccp_alpha=0.0, class_weight=None,\n",
       "                       criterion='gini', max_depth=None, max_features='auto',\n",
       "                       max_leaf_nodes=None, max_samples=None,\n",
       "                       min_impurity_decrease=0.0, min_impurity_split=None,\n",
       "                       min_samples_leaf=1, min_samples_split=2,\n",
       "                       min_weight_fraction_leaf=0.0, n_estimators=100,\n",
       "                       n_jobs=None, oob_score=False, random_state=None,\n",
       "                       verbose=0, warm_start=False)"
      ]
     },
     "execution_count": 77,
     "metadata": {},
     "output_type": "execute_result"
    }
   ],
   "source": [
    "# Fit or train\n",
    "model.fit(X_train,y_train)"
   ]
  },
  {
   "cell_type": "code",
   "execution_count": 78,
   "metadata": {},
   "outputs": [],
   "source": [
    "# Predict the yvalue\n",
    "y_pred = model.predict(X_test)"
   ]
  },
  {
   "cell_type": "code",
   "execution_count": 79,
   "metadata": {},
   "outputs": [
    {
     "name": "stdout",
     "output_type": "stream",
     "text": [
      "The accuracy score of RandomForestClassifier model is 0.8295344325897187\n",
      "The fbeta score of RandomForestClassifier model is 0.7797274009086637\n"
     ]
    }
   ],
   "source": [
    "# Evaluate\n",
    "print(\"The accuracy score of RandomForestClassifier model is %s\" %(accuracy_score(y_test, y_pred)))\n",
    "print(\"The fbeta score of RandomForestClassifier model is %s\" %(fbeta_score(y_test, y_pred, beta = 1)))"
   ]
  },
  {
   "cell_type": "code",
   "execution_count": null,
   "metadata": {},
   "outputs": [],
   "source": [
    "# Import 'make_scorer', 'DecisionTreeRegressor', and 'GridSearchCV'\n",
    "from sklearn.metrics import make_scorer,classification_report,confusion_matrix\n",
    "from sklearn.model_selection import GridSearchCV,ShuffleSplit"
   ]
  },
  {
   "cell_type": "code",
   "execution_count": null,
   "metadata": {},
   "outputs": [],
   "source": [
    "# we are going to improve the base model\n",
    "def fit_model(X, y):\n",
    "    \"\"\" Performs grid search over the 'max_depth' parameter for a \n",
    "        decision tree regressor trained on the input data [X, y]. \"\"\"\n",
    "    \n",
    "    # Create cross-validation sets from the training data\n",
    "    cv_sets = ShuffleSplit(n_splits=10, random_state=0, test_size=0.2, train_size=None)\n",
    "\n",
    "    # Create a random forest classifier object\n",
    "    model = RandomForestClassifier()\n",
    "\n",
    "    # Create a dictionary for the parameters 'max_depth',min_samples_split and min_samples_leaf\n",
    "    params = {'max_depth':range(2,12,2),\n",
    "              'min_samples_split':range(2,12,2),\n",
    "              'min_samples_leaf':range(2,12,2)}\n",
    "\n",
    "    # Transform 'performance_metric' into a scoring function using 'make_scorer' \n",
    "    scoring_fnc = make_scorer(fbeta_score, beta = 1)\n",
    "\n",
    "    # Create the grid search cv object --> GridSearchCV()\n",
    "    grid = GridSearchCV(model, params, scoring_fnc, cv = cv_sets)\n",
    "\n",
    "    # Fit the grid search object to the data to compute the optimal model\n",
    "    grid = grid.fit(X, y)\n",
    "\n",
    "    # Return the optimal model after fitting the data\n",
    "    return grid.best_estimator_"
   ]
  },
  {
   "cell_type": "code",
   "execution_count": null,
   "metadata": {
    "scrolled": true
   },
   "outputs": [],
   "source": [
    "# Fit the training data to the model using grid search\n",
    "reg = fit_model(X_train, y_train)\n",
    "reg.score\n",
    "\n",
    "# Produce the values for 'max_depth',min_samples_split and min_samples_leaf\n",
    "print(\"Parameter 'max_depth' is {} for the optimal model.\".format(reg.get_params()['max_depth']))\n",
    "print(\"Parameter 'min_samples_split' is {} for the optimal model.\".format(reg.get_params()['min_samples_split']))\n",
    "print(\"Parameter 'min_samples_leaf' is {} for the optimal model.\".format(reg.get_params()['min_samples_leaf']))"
   ]
  },
  {
   "cell_type": "code",
   "execution_count": null,
   "metadata": {},
   "outputs": [],
   "source": [
    "# applying best parameter values to RandomForestClassfier\n",
    "rf_clf = RandomForestClassifier(max_depth = 10, min_samples_split = 8, min_samples_leaf = 2)\n",
    "rf_clf.fit(X_train,y_train)\n",
    "y_pred = rf_clf.predict(X_test)\n",
    "print(\"The accuracy score of tuned RandomForestClassifier model is %s\" %(accuracy_score(y_test,y_pred)))\n",
    "print(\"The fbeta score of tuned RandomForestClassifier model is %s\" %(fbeta_score(y_test,y_pred,beta = 1)))"
   ]
  },
  {
   "cell_type": "code",
   "execution_count": null,
   "metadata": {
    "scrolled": true
   },
   "outputs": [],
   "source": [
    "print(classification_report(y_test, y_pred))"
   ]
  },
  {
   "cell_type": "code",
   "execution_count": null,
   "metadata": {},
   "outputs": [],
   "source": [
    "print(confusion_matrix(y_test, y_pred))"
   ]
  },
  {
   "cell_type": "code",
   "execution_count": null,
   "metadata": {},
   "outputs": [],
   "source": [
    "# exhibiting feature importance\n",
    "features = X.columns\n",
    "importances = rf_clf.feature_importances_\n",
    "indices = np.argsort(importances)\n",
    "plt.title('Feature Importances')\n",
    "plt.barh(range(len(indices)), importances[indices], color='b', align='center')\n",
    "plt.yticks(range(len(indices)), [features[i] for i in indices])\n",
    "plt.xlabel('Relative Importance')\n",
    "plt.show()"
   ]
  },
  {
   "cell_type": "code",
   "execution_count": null,
   "metadata": {},
   "outputs": [],
   "source": [
    "df_final.to_csv('clean_handpump_data.csv',index=False)"
   ]
  },
  {
   "cell_type": "markdown",
   "metadata": {},
   "source": [
    "### Boosting algorithm - please refer to the link where you will find a demonstration of the catboost algorithm \n",
    "\n",
    "https://github.com/eaglewarrior/Data-analysis-python-projects/blob/master/Hanpump_data_classification.ipynb"
   ]
  },
  {
   "cell_type": "code",
   "execution_count": 80,
   "metadata": {},
   "outputs": [
    {
     "name": "stdout",
     "output_type": "stream",
     "text": [
      "(100, 20) (100,)\n"
     ]
    }
   ],
   "source": [
    "from sklearn.datasets import make_classification\n",
    "# define dataset\n",
    "X, y = make_classification(n_samples=100, n_features=20, n_informative=15, n_redundant=5, random_state=1)\n",
    "# summarize the dataset\n",
    "print(X.shape, y.shape)"
   ]
  },
  {
   "cell_type": "code",
   "execution_count": null,
   "metadata": {},
   "outputs": [],
   "source": [
    "from sklearn.preprocessing import StandardScaler\n",
    "scaler = StandardScaler() \n",
    "data_scaled = scaler.fit_transform(data)\n"
   ]
  }
 ],
 "metadata": {
  "kernelspec": {
   "display_name": "Python 3",
   "language": "python",
   "name": "python3"
  },
  "language_info": {
   "codemirror_mode": {
    "name": "ipython",
    "version": 3
   },
   "file_extension": ".py",
   "mimetype": "text/x-python",
   "name": "python",
   "nbconvert_exporter": "python",
   "pygments_lexer": "ipython3",
   "version": "3.6.9"
  }
 },
 "nbformat": 4,
 "nbformat_minor": 2
}
